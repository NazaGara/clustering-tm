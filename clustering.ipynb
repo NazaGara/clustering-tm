{
  "nbformat": 4,
  "nbformat_minor": 0,
  "metadata": {
    "colab": {
      "name": "clustering.ipynb",
      "provenance": [],
      "collapsed_sections": [
        "Lc9-ZeNAcEkS"
      ]
    },
    "kernelspec": {
      "display_name": "Python 3",
      "name": "python3"
    },
    "language_info": {
      "name": "python"
    }
  },
  "cells": [
    {
      "cell_type": "markdown",
      "metadata": {
        "id": "n5EtK5uP0Rnn"
      },
      "source": [
        "# Practico Clustering - Text Mining 2021\n",
        "\n",
        "Garagiola, Nazareno\n",
        "\n",
        "Clustering is the process of grouping a set of documents into clusters of similar documents\n",
        "Clustering Hypothesis: Documents in the same cluster behave similarly with respect to relevance to information\n"
      ]
    },
    {
      "cell_type": "markdown",
      "metadata": {
        "id": "Lc9-ZeNAcEkS"
      },
      "source": [
        "## Requerimientos"
      ]
    },
    {
      "cell_type": "code",
      "metadata": {
        "id": "ismoC-9AWgIi"
      },
      "source": [
        "import spacy\n",
        "import io\n",
        "import pandas as pd\n",
        "import numpy as np\n",
        "import matplotlib.pyplot as plt\n",
        "import sklearn.manifold\n",
        "from collections import Counter\n",
        "%matplotlib inline"
      ],
      "execution_count": 266,
      "outputs": []
    },
    {
      "cell_type": "code",
      "metadata": {
        "id": "37xIIBDoGMyZ"
      },
      "source": [
        "!python3 -m spacy download es_core_news_md > trash.txt\n",
        "#!python3 -m spacy download es_core_news_sm"
      ],
      "execution_count": 1,
      "outputs": []
    },
    {
      "cell_type": "markdown",
      "metadata": {
        "id": "cydONALzHXpy"
      },
      "source": [
        "\n",
        "\n",
        "---\n",
        "\n"
      ]
    },
    {
      "cell_type": "code",
      "metadata": {
        "id": "FwJKt-0Ly0d3"
      },
      "source": [
        "f = open(\"lavoztextodump.txt\", 'r')\n",
        "text = f.read()[:500000]\n",
        "text = text.replace('\"', '')\n",
        "text = text.replace('-\\n', '\\n')"
      ],
      "execution_count": 267,
      "outputs": []
    },
    {
      "cell_type": "code",
      "metadata": {
        "id": "BdiIU23Q4S6q"
      },
      "source": [
        "# antes de correr esto, hay que correr la instalacion y resetear el runtime\n",
        "nlp = spacy.load(\"es_core_news_md\", vectores=False, entity=False)\n",
        "\n",
        "lemmas = []\n",
        "words = []\n",
        "doc = nlp(text)\n",
        "for token in doc:\n",
        "    if len(token) > 1 and token.is_alpha: #alfabeticos e ignoro puntuaciones\n",
        "        lemmas.append(token.lemma_.lower())\n",
        "        words.append(token.text)\n"
      ],
      "execution_count": 268,
      "outputs": []
    },
    {
      "cell_type": "markdown",
      "metadata": {
        "id": "npszwgIS6_aH"
      },
      "source": [
        "Si están trabajando en Colab, es normal que al hacer el load de Spacy aparezca un error.\n",
        "\n",
        "**`ModuleNotFoundError: No module named 'es_core_news_md'`**.\n",
        "\n",
        "Reinicien el Kernel/Runtime (usen el menú de arriba o el botón en la notebook), salteen la celda de instalación (la de abajo) y ejecuten la celda previa de vuelta. \n",
        "\n",
        "    `!python3 -m spacy download es_core_news_md > trash.txt`\n"
      ]
    },
    {
      "cell_type": "markdown",
      "metadata": {
        "id": "O_rfXxI0cB2j"
      },
      "source": [
        "## Preprocesamiento\n",
        "\n",
        "-> Preproceso: Lemmatizacion, catergoria morfosintactica (POS), etc\n",
        "\n",
        "-> Hacer diferentes aproximacione spara categorizar palabras, por contexto en diferentes tamaños de ventanas"
      ]
    },
    {
      "cell_type": "code",
      "metadata": {
        "id": "2aT0JwxvFlHt"
      },
      "source": [
        "counter_lemma = Counter(lemmas)\n",
        "counter_words = Counter(words) #tambien se podria usar este"
      ],
      "execution_count": 269,
      "outputs": []
    },
    {
      "cell_type": "code",
      "metadata": {
        "id": "uPwvmQucCWm9"
      },
      "source": [
        "#minima cantidad de veces que deseo que una palabra este en el documento.\n",
        "MIN_FREQ = 30\n",
        "\n",
        "def word_filter(token):\n",
        "    \"\"\"\n",
        "    Pequeña funcion que usaremos para filtrar las palabras\n",
        "    \"\"\"\n",
        "    return (not token.is_alpha or token.is_digit or not counter_lemma[token.lemma_] >= MIN_FREQ)\n",
        "\n",
        "with open(\"stopwords.txt\",'r') as f:\n",
        "    stopwords = f.read().split('\\n')\n",
        "\n",
        "def not_a_stopword(token):\n",
        "    \"\"\"\n",
        "    Funcion que toma un token de Spacy y revisa que su lemma sea o on una \n",
        "    stopword en español\n",
        "    \"\"\"\n",
        "    return (token.is_alpha and (not token.lemma_.lower() in stopwords))\n",
        "\n",
        "\n",
        "def immediate_related_words(span):\n",
        "    \"\"\"\n",
        "    Funcion que a partir de un Span (parte continua del doc) retorna una lista\n",
        "    con los lemmas de las palabras que no sean stopwords\n",
        "    \"\"\"\n",
        "    tokens = list(filter(not_a_stopword, doc[close_lft:close_rgt]))\n",
        "    return list(map(lambda token: token.lemma_, tokens))\n",
        "\n",
        "def keywords_in(span):\n",
        "    \"\"\"\n",
        "    Funcion que a partir de un Span, retorna una lista con los lemmas de las \n",
        "    palabras del span que no sean stopwords ni tampoco no sean relevantes.\n",
        "    (la funcion )\n",
        "    \"\"\"\n",
        "    tokens = list(filter(\n",
        "        lambda token: not word_filter(token) and not_a_stopword(token), span))\n",
        "    return list(map(lambda token: token.lemma_, tokens))\n"
      ],
      "execution_count": 270,
      "outputs": []
    },
    {
      "cell_type": "code",
      "metadata": {
        "id": "gV68ufqbuqSn"
      },
      "source": [
        "triplas = {}\n",
        "tag = {}\n",
        "pos = {}\n",
        "close_context = {}\n",
        "large_context = {}\n",
        "\n",
        "for token in doc:\n",
        "    if word_filter(token): continue\n",
        "    triplas[token.lemma_] = {}\n",
        "    tag[token.lemma_] = {}\n",
        "    pos[token.lemma_] = {}\n",
        "    close_context[token.lemma_] = {}\n",
        "    large_context[token.lemma_] = {}\n"
      ],
      "execution_count": 271,
      "outputs": []
    },
    {
      "cell_type": "code",
      "metadata": {
        "id": "ApSlmnUQygZF"
      },
      "source": [
        "close_window, large_window = 3, 20\n",
        "for token in doc:\n",
        "    if word_filter(token): continue\n",
        "\n",
        "    i = token.i\n",
        "    word = token.lemma_.lower()\n",
        "    # Cargo part of speech de cada palabra lematizada\n",
        "    if not token.pos_ in pos[word].keys():\n",
        "        pos[word][token.pos_] = 0\n",
        "    pos[word][token.pos_] += 1\n",
        "\n",
        "    # Cargo tag de cada palabra lematizada\n",
        "    if not token.tag_ in tag[word].keys():\n",
        "        tag[word][token.tag_] = 0\n",
        "    tag[word][token.tag_] += 1\n",
        "\n",
        "    #Triplas de dependencias. Notar que busco el root de la frase en la que la \n",
        "    #palabra siguiente este, y esta puede no necesariamente estar en mis palabras\n",
        "    #claves que superan el filtro.\n",
        "    if not i == len(doc) - 1:\n",
        "        tripla = (f\"obj: {word} - dep : {token.dep_} - root: {doc[i+1].head.lemma_}\") # - context: {span}\")\n",
        "        if not tripla in triplas[word].keys():\n",
        "            triplas[word][tripla] = 0\n",
        "        triplas[word][tripla] += 1\n",
        "\n",
        "    #contexto inmediato, con una ventana 1 de distancia, sin stopwords\n",
        "    close_lft, close_rgt = i-close_window, i+close_window\n",
        "    if not (close_lft <= 0 and close_rgt >= len(doc)):\n",
        "        imm_related_words = immediate_related_words(doc[close_lft:close_rgt])\n",
        "        for w in imm_related_words:\n",
        "            if w == word: continue\n",
        "            if not w in close_context[word].keys():\n",
        "                close_context[word][w] = 0\n",
        "            close_context[word][w] += 1\n",
        "\n",
        "    #contexto mas grande, solo de las palabras que me interesan sin stopwords\n",
        "    #y que van a estar en un cluster luego.\n",
        "\n",
        "    large_lft, large_rgt = i-large_window, i+large_window\n",
        "    if not (large_lft <= 0 and large_rgt >= len(doc)):\n",
        "        keywords_in_context = keywords_in(doc[large_lft: large_rgt])\n",
        "        for w in keywords_in_context:\n",
        "            if w == word: continue\n",
        "            if not w in large_context[word].keys():\n",
        "                large_context[word][w] = 0\n",
        "            large_context[word][w] += 1\n"
      ],
      "execution_count": 272,
      "outputs": []
    },
    {
      "cell_type": "markdown",
      "metadata": {
        "id": "uV8Phw219L68"
      },
      "source": [
        "\n",
        "\n",
        "---\n",
        "\n"
      ]
    },
    {
      "cell_type": "code",
      "metadata": {
        "id": "CK5we3Jx9LsG"
      },
      "source": [
        "\"\"\"\n",
        "for sent in doc.sents:\n",
        "    for token in sent:\n",
        "        if word_filter(token): continue\n",
        "        i = token.i\n",
        "        word = token.lemma_.lower()\n",
        "        keywords_in_context = keywords_in(sent)\n",
        "        for w in keywords_in_context:\n",
        "            if w == word: continue\n",
        "            if not w in large_context[word].keys():\n",
        "                large_context[word][w] = 0\n",
        "            large_context[word][w] += 1\n",
        "\"\"\"\n",
        "pass"
      ],
      "execution_count": 181,
      "outputs": []
    },
    {
      "cell_type": "markdown",
      "metadata": {
        "id": "YViEt5j49MSJ"
      },
      "source": [
        "\n",
        "\n",
        "---\n",
        "\n"
      ]
    },
    {
      "cell_type": "markdown",
      "metadata": {
        "id": "q8nRsEyY3fVy"
      },
      "source": [
        "Cargamos todas las caracteristicas que recogimos en el pre-procesamiento y las guardamos en nuevo diccionario cuyas claves tambien son las palabras lematizadas que analizamos."
      ]
    },
    {
      "cell_type": "code",
      "metadata": {
        "id": "EsMAF1PU1n0O"
      },
      "source": [
        "feats = {}\n",
        "for token in doc:\n",
        "    if word_filter(token): continue\n",
        "    word = token.lemma_\n",
        "    feats[word] = {**tag[word], **pos[word], **triplas[word], **large_context[word], **close_context[word]}"
      ],
      "execution_count": 273,
      "outputs": []
    },
    {
      "cell_type": "code",
      "metadata": {
        "colab": {
          "base_uri": "https://localhost:8080/"
        },
        "id": "AJ25zsxt2V6b",
        "outputId": "dee35e26-9f47-43e6-fa4f-445ebb6caf78"
      },
      "source": [
        "print(f\"Sample word 'ahora': {feats['ahora']}\")"
      ],
      "execution_count": 185,
      "outputs": [
        {
          "output_type": "stream",
          "name": "stdout",
          "text": [
            "Sample word 'ahora': {'ADV___': 60, 'ADV': 60, 'obj: ahora - dep : advmod - root: parejo': 1, 'obj: ahora - dep : fixed - root: trabajar': 1, 'obj: ahora - dep : advmod - root: Nada': 1, 'obj: ahora - dep : advmod - root: comprar': 1, 'obj: ahora - dep : advmod - root: entender': 1, 'obj: ahora - dep : advmod - root: centrar': 1, 'obj: ahora - dep : advmod - root: monopolizar': 1, 'obj: ahora - dep : advmod - root: reelegir': 1, 'obj: ahora - dep : advmod - root: &': 1, 'obj: ahora - dep : advmod - root: presidente': 2, 'obj: ahora - dep : advmod - root: despacio': 1, 'obj: ahora - dep : advmod - root: ola': 1, 'obj: ahora - dep : advmod - root: sentir': 1, 'obj: ahora - dep : advmod - root: sospechoso': 1, 'obj: ahora - dep : advmod - root: ser': 1, 'obj: ahora - dep : advmod - root: promediar': 2, 'obj: ahora - dep : advmod - root: CBD': 2, 'obj: ahora - dep : advmod - root: modelar': 1, 'obj: ahora - dep : advmod - root: hallazgo': 1, 'obj: ahora - dep : advmod - root: matrimoniar': 1, 'obj: ahora - dep : advmod - root: juzgar': 1, 'obj: ahora - dep : advmod - root: autoridad': 1, 'obj: ahora - dep : advmod - root: Sabemos': 1, 'obj: ahora - dep : advmod - root: otro': 1, 'obj: ahora - dep : advmod - root: explotar': 1, 'obj: ahora - dep : advmod - root: 17': 1, 'obj: ahora - dep : advmod - root: ahora': 6, 'obj: ahora - dep : advmod - root: remitir': 1, 'obj: ahora - dep : advmod - root: reunir': 1, 'obj: ahora - dep : advmod - root: pedacitos': 1, 'obj: ahora - dep : acl - root: crecer': 1, 'obj: ahora - dep : advmod - root: motivo': 1, 'obj: ahora - dep : advmod - root: recordar': 1, 'obj: ahora - dep : advmod - root: vacación': 1, 'obj: ahora - dep : advmod - root: viajar': 1, 'obj: ahora - dep : advmod - root: asegurar': 1, 'obj: ahora - dep : advmod - root: mil': 1, 'obj: ahora - dep : advmod - root: señalar': 1, 'obj: ahora - dep : advmod - root: 60': 1, 'obj: ahora - dep : advmod - root: Sudamérica': 1, 'obj: ahora - dep : advmod - root: negar': 1, 'obj: ahora - dep : advmod - root: decir': 1, 'obj: ahora - dep : advmod - root: proponer': 1, 'obj: ahora - dep : advmod - root: insistir': 1, 'obj: ahora - dep : advmod - root: haber': 1, 'obj: ahora - dep : advmod - root: pretender': 1, 'obj: ahora - dep : advmod - root: berenjenal': 1, 'obj: ahora - dep : conj - root: aquí': 1, 'obj: ahora - dep : advmod - root: fortaleza': 1, 'obj: ahora - dep : advmod - root: seguir': 1, 'obj: ahora - dep : advmod - root: entretener': 1, 'obj: ahora - dep : advmod - root: escalar': 1, 'lograr': 2, 'día': 2, 'proyectar': 3, 'do': 8, 'acordar': 1, 'formar': 3, 'parir': 2, 'mesar': 1, '\\ufeff1': 1, 'chico': 1, 'vivir': 1, 'dejar': 1, 'conflicto': 1, 'provincial': 2, 'estudiante': 1, 'ciudadano': 1, 'participar': 1, 'grupo': 1, 'comer': 6, 'unir': 4, 'elección': 5, 'presidente': 2, 'gobernar': 1, 'provincia': 1, 'asegurar': 3, 'diario': 1, 'intendente': 2, 'gobernador': 2, 'volver': 1, 'contar': 1, 'venir': 2, 'hablar': 1, 'sentir': 1, 'ocurrir': 2, 'terminar': 1, 'mujer': 1, 'encontrar': 2, 'personar': 1, 'casar': 4, 'ciento': 9, 'historia': 1, 'presidencial': 1, 'pasar': 6, 'peso': 2, 'público': 2, 'autoridad': 1, 'distinto': 2, 'señalar': 3, 'fuente': 2, 'hijo': 1, 'año': 8, 'jefe': 1, 'joven': 1, 'ciudad': 2, 'existir': 2, 'grande': 1, 'entrar': 2, 'ministro': 1, 'corte': 1, 'plan': 2, 'obrar': 1, 'indicar': 1, 'bajar': 1, 'seguir': 3, 'llegar': 1, 'roca': 1, 'elegir': 1, 'decidir': 1, 'deber': 2, 'electoral': 2, 'político': 5, 'tratar': 2, 'nacional': 2, 'sobrar': 2, 'vida': 2, 'quedar': 1, 'esperar': 1, 'cumplir': 1, 'embargar': 2, 'económico': 1, 'social': 1, 'mantener': 1, 'gobierno': 1, 'tomar': 1, 'escuela': 1, 'importante': 1, 'parecer': 1, 'querer': 1, 'viajar': 1, 'semana': 1, 'mil': 4, 'empresa': 2, 'millón': 2, 'sumar': 1, 'dirigente': 1, 'decisión': 1, 'interno': 1, 'voto': 1, 'gestión': 1, 'posibilidad': 2, 'votar': 1, 'policía': 1, 'llamar': 2, 'situación': 1, 'peronismo': 2, 'comenzar': 1, 'parejo': 1, 'mal': 1, 'relacionar': 1, 'vender': 1, 'hacendar': 1, 'comprar': 4, 'Cragnolini': 1, 'entender': 1, 'centrar': 1, 'monopolizar': 1, 'CTA': 1, 'reelegir': 1, 'ganador': 1, 'echar': 1, 'despacio': 1, 'sumo': 1, 'calor': 1, 'principal': 1, 'sospechoso': 1, 'detener': 1, 'preguntar': 1, 'relevante': 1, 'promediar': 2, 'modelar': 2, 'CBD': 3, 'Fiat': 1, 'denominar': 1, 'recién': 1, 'hallazgo': 1, 'detenido': 1, 'Córdoba': 2, 'Hugo': 1, 'Testa': 1, 'actuar': 1, 'explotar': 1, 'local': 1, 'oficialismo': 1, 'remitir': 1, 'imputar': 1, 'pedacitos': 1, 'saldar': 1, 'balbucear': 1, 'María': 1, 'recordar': 1, 'Pagar': 1, 'vacación': 1, 'precio': 1, 'temporada': 1, 'beneficiar': 1, 'apuesto': 1, 'Sudamérica': 1, 'proponer': 1, 'insistir': 1, 'Andes': 1, 'asomar': 1, 'opositor': 1, 'pretender': 1, 'atentar': 1, 'alemán': 1, 'Meterse': 1, 'semejante': 1, 'construir': 1, 'fortaleza': 1, 'pie': 1, 'Vale': 1, 'engañar': 1, 'entretener': 1, 'proseguir': 1, 'escalar': 1}\n"
          ]
        }
      ]
    },
    {
      "cell_type": "markdown",
      "metadata": {
        "id": "E1ofl1-e16sY"
      },
      "source": [
        "## Vectorización\n",
        "\n",
        "Luego del pre-procesamiento, tenemos un diccionario de la forma {\"palabra\":\"caracteristicas\"}. A este le removemos las claves e ingresamos las caracteristicas a un arreglo, el cual [DictVectorizer](https://scikit-learn.org/stable/modules/generated/sklearn.feature_extraction.DictVectorizer.html) lo transformara en una matriz, con filas siendo las palabras y cada columna son las caracteristicas."
      ]
    },
    {
      "cell_type": "code",
      "metadata": {
        "id": "Sv3l53gHnGXB"
      },
      "source": [
        "from sklearn.feature_extraction import DictVectorizer\n",
        "\n",
        "vectorizer = DictVectorizer(sparse=False)\n",
        "features, key_words, wid = [], {}, 0\n",
        "for word in feats:\n",
        "    key_words[word] = wid\n",
        "    wid += 1\n",
        "    features.append(feats[word])\n",
        "matrix = vectorizer.fit_transform(X=features)\n"
      ],
      "execution_count": 274,
      "outputs": []
    },
    {
      "cell_type": "code",
      "metadata": {
        "id": "woyJ9_bu52ey"
      },
      "source": [
        "from sklearn.preprocessing import normalize\n",
        "\n",
        "def normalize_matrix(matrix):\n",
        "    \"\"\"\n",
        "    Funcion que normaliza una matrix usando herramientas de preprocesamiento de\n",
        "    sklearn, retorna una matriz con los valores normalizados y las varianzas de\n",
        "    cada valor.\n",
        "    \"\"\"\n",
        "    #forma de sklearn y np, 'l1' = que la suma del vector de 1\n",
        "    normed_matrix = normalize(matrix, axis=1, norm='l1')\n",
        "    variances = np.var(normed_matrix, axis=0, ddof=1)\n",
        "\n",
        "    #forma de dani\n",
        "    #normed_matrix = matrix/matrix.max(axis=0)\n",
        "    #variances2 = np.square(normed_matrix).mean(axis=0) - np.square(normed_matrix.mean(axis=0))\n",
        "    \n",
        "    return normed_matrix, variances\n"
      ],
      "execution_count": 281,
      "outputs": []
    },
    {
      "cell_type": "markdown",
      "metadata": {
        "id": "GAbH4E-j5EnH"
      },
      "source": [
        "Ahora debemos normalizar la matriz (es decir, que los vectores tengan valores entre 0 y 1)"
      ]
    },
    {
      "cell_type": "code",
      "metadata": {
        "id": "AIjwlbdTuEOE",
        "colab": {
          "base_uri": "https://localhost:8080/"
        },
        "outputId": "024a7c9d-3861-4ccd-867b-03758abf07d9"
      },
      "source": [
        "#normed -> matriz que usamos para hacer el clustering, esta normalizada\n",
        "#red_matrix -> matriz para el t-sne\n",
        "\n",
        "matrix_normed, variances = normalize_matrix(matrix)\n",
        "\n",
        "THRESHOLD_VARIANCES = 1e-8 #notar que con esta nueva normalizacion, se come muchos mas valores el thresshold\n",
        "red_matrix = np.delete(matrix_normed, np.where(variances < THRESHOLD_VARIANCES), axis=1)\n",
        "\n",
        "print(matrix.shape, matrix_normed.shape, red_matrix.shape)"
      ],
      "execution_count": 283,
      "outputs": [
        {
          "output_type": "stream",
          "name": "stdout",
          "text": [
            "(273, 34968) (273, 34968) (273, 12437)\n"
          ]
        }
      ]
    },
    {
      "cell_type": "markdown",
      "metadata": {
        "id": "lMfqIgfKcXae"
      },
      "source": [
        "## Clustering\n",
        "\n",
        "Una vez que ya tenemos nuestra matriz de caracteristicas como vectores normalizada, la usamos para alimentar la funcion que nos arma los clusters. Uso la implementacion de [nltk](https://tedboy.github.io/nlps/generated/generated/nltk.cluster.KMeansClusterer.html) ya que permite usar la similutud del coseno de forma natural, sin hacer mas procesamiento previo."
      ]
    },
    {
      "cell_type": "code",
      "metadata": {
        "id": "jOW6LOYAosGp"
      },
      "source": [
        "from nltk.cluster import kmeans, cosine_distance\n",
        "\n",
        "def clustering(k, matrix, repeats):\n",
        "    \"\"\"\n",
        "    k -> Cantidad de clusterers\n",
        "    \"\"\"\n",
        "    clusterer = kmeans.KMeansClusterer(num_means=k, distance=cosine_distance, repeats=repeats)\n",
        "    clusters = clusterer.cluster(matrix, assign_clusters=True)\n",
        "    return clusters"
      ],
      "execution_count": 284,
      "outputs": []
    },
    {
      "cell_type": "code",
      "metadata": {
        "id": "qB7jvu4mouEA"
      },
      "source": [
        "NUM_CLUSTERS = 40\n",
        "cluster =  clustering(NUM_CLUSTERS, matrix_normed, repeats=5)"
      ],
      "execution_count": 286,
      "outputs": []
    },
    {
      "cell_type": "code",
      "metadata": {
        "colab": {
          "base_uri": "https://localhost:8080/"
        },
        "id": "uUmgmSe8VBLL",
        "outputId": "88b72a79-1fc1-4a03-d3cf-5785aef3dc45"
      },
      "source": [
        "for i in range(NUM_CLUSTERS):\n",
        "    c = [token for token in key_words if cluster[key_words[token]]==i]\n",
        "    print(f\"Cluster {i}:\\n {c}\")"
      ],
      "execution_count": 287,
      "outputs": [
        {
          "output_type": "stream",
          "name": "stdout",
          "text": [
            "Cluster 0:\n",
            " ['sin', 'en', 'de', 'parir', 'con', 'por', 'contra', 'desde', 'entrar', 'durante', 'sobrar', 'hasta', 'bajar', 'según', 'ante', 'tras']\n",
            "Cluster 1:\n",
            " ['ser', 'estar', 'haber', 'parecer', 'poder', 'deber']\n",
            "Cluster 2:\n",
            " ['se', 'unir', 'les', 'me', 'nadar', 'qué', 'le', 'ellos', 'donde', 'quien', 'él', 'cual']\n",
            "Cluster 3:\n",
            " ['tener', 'conocer', 'llevar', 'querer', 'hablar', 'vivir', 'ver', 'ganar', 'tratar', 'elegir', 'mantener', 'decidir', 'sumar', 'saber', 'llegar', 'llamar', 'dar', 'venir', 'creer', 'esperar', 'participar', 'cumplir', 'encontrar', 'realizar', 'existir', 'permitir', 'terminar', 'plantear']\n",
            "Cluster 4:\n",
            " ['nuevo', 'bueno', 'democrático', 'único', 'público', 'próximo', 'argentino', 'alto']\n",
            "Cluster 5:\n",
            " ['cuatro', 'do', 'tres', 'cincar']\n",
            "Cluster 6:\n",
            " ['hacer', 'ir', 'seguir', 'dejar', 'volver', 'comenzar']\n",
            "Cluster 7:\n",
            " ['bien', 'siempre', 'ya', 'más', 'sólo', 'también', 'ahora', 'menos', 'ayer', 'después', 'muy', 'hoy', 'mañana', 'luego', 'antes', 'casi']\n",
            "Cluster 8:\n",
            " ['poco', 'además']\n",
            "Cluster 9:\n",
            " ['embargar', 'sistema', 'gobernador', 'peronismo']\n",
            "Cluster 10:\n",
            " ['coser']\n",
            "Cluster 11:\n",
            " ['primero', 'ex', '\\ufeff1', 'último']\n",
            "Cluster 12:\n",
            " ['tanto', 'frente']\n",
            "Cluster 13:\n",
            " ['económico']\n",
            "Cluster 14:\n",
            " ['ciento']\n",
            "Cluster 15:\n",
            " ['autoridad']\n",
            "Cluster 16:\n",
            " ['gran', 'mejor', 'electoral']\n",
            "Cluster 17:\n",
            " ['cordobés', 'político', 'interno']\n",
            "Cluster 18:\n",
            " ['estudiante', 'joven', 'dirigente', 'intendente', 'juez', 'policía']\n",
            "Cluster 19:\n",
            " ['hijo', 'conflicto', 'grupo', 'interior', 'ministro', 'golpe']\n",
            "Cluster 20:\n",
            " ['presidencial']\n",
            "Cluster 21:\n",
            " ['del', 'al']\n",
            "Cluster 22:\n",
            " ['río']\n",
            "Cluster 23:\n",
            " ['proyectar']\n",
            "Cluster 24:\n",
            " ['mil']\n",
            "Cluster 25:\n",
            " ['mujer', 'vez', 'medir', 'ley', 'situación', 'partir', 'provincia', 'capital', 'zona', 'ruta', 'ciudad', 'empresa', 'denunciar', 'decisión', 'semana', 'peso', 'elección', 'roca']\n",
            "Cluster 26:\n",
            " ['casar', 'tiempo', 'acordar', 'momento', 'acto', 'jefe', 'hombre', 'presidente', 'lugar', 'derecho', 'país', 'fin', 'diario', 'mes', 'gobernar']\n",
            "Cluster 27:\n",
            " ['sentir', 'debatir', 'apoyar']\n",
            "Cluster 28:\n",
            " ['grande', 'social']\n",
            "Cluster 29:\n",
            " ['tomar', 'abrir', 'pasar']\n",
            "Cluster 30:\n",
            " ['cambiar', 'trabajar', 'ingresar', 'intentar', 'pagar', 'resultar', 'marcar', 'votar']\n",
            "Cluster 31:\n",
            " ['año', 'día', 'plan', 'punto', 'sector', 'legislador', 'servicio', 'candidato', 'vecino']\n",
            "Cluster 32:\n",
            " ['personar', 'institución', 'obrar', 'escuela', 'hora', 'cámara', 'fuente']\n",
            "Cluster 33:\n",
            " ['general', 'importante', 'mayor', 'nacional', 'provincial', 'oficial', 'federal']\n",
            "Cluster 34:\n",
            " ['mesar', 'ciudadano', 'chico', 'corte', 'millón', 'voto', 'alumno', 'gobierno']\n",
            "Cluster 35:\n",
            " ['sostener', 'decir', 'asegurar', 'lograr', 'poner', 'pedir', 'salir', 'quedar', 'mostrar', 'ocurrir', 'recibir', 'indicar', 'informar', 'viajar', 'caer', 'presentar', 'señalar']\n",
            "Cluster 36:\n",
            " ['vida', 'manera', 'formar', 'educación', 'posibilidad', 'contar', 'gestión', 'historia', 'sociedad', 'democracia', 'justicia']\n",
            "Cluster 37:\n",
            " ['no']\n",
            "Cluster 38:\n",
            " ['que', 'ni', 'sino', 'cuando', 'pero', 'comer', 'si', 'aunque', 'porque', 'mientras']\n",
            "Cluster 39:\n",
            " ['lo', 'el', 'otro', 'uno', 'los', 'todo', 'mismo', 'ese', 'ninguno', 'cada', 'alguno', 'su', 'este', 'mucho', 'distinto', 'nuestro', 'mi', 'propio']\n"
          ]
        }
      ]
    },
    {
      "cell_type": "markdown",
      "metadata": {
        "id": "8VCZw5ar8UMK"
      },
      "source": [
        "\n",
        "\n",
        "---\n",
        "\n"
      ]
    },
    {
      "cell_type": "code",
      "metadata": {
        "colab": {
          "base_uri": "https://localhost:8080/"
        },
        "id": "OUkk7MBAuIfJ",
        "outputId": "d5f45d7a-7a41-4c47-c25f-348b455fb371"
      },
      "source": [
        "tsne = sklearn.manifold.TSNE(n_components=2, random_state=0, n_iter=500) #ultimo param para que sea mas rapido\n",
        "reduced_data = tsne.fit_transform(red_matrix)\n",
        "reduced_data.shape"
      ],
      "execution_count": 289,
      "outputs": [
        {
          "output_type": "execute_result",
          "data": {
            "text/plain": [
              "(273, 2)"
            ]
          },
          "metadata": {},
          "execution_count": 289
        }
      ]
    },
    {
      "cell_type": "code",
      "metadata": {
        "id": "9O3i4qKaqvkU"
      },
      "source": [
        "aux = [(reduced_data[i], cluster[i], list(key_words.keys())[i]) for i in range(wid)]\n",
        "\n",
        "df_clustered = pd.DataFrame(\n",
        "    data=[(coords[0], coords[1], cluster, word) for coords, cluster, word in aux],\n",
        "    columns=[\"dim1\", \"dim2\", \"cluster\", \"word\"]\n",
        ")"
      ],
      "execution_count": 290,
      "outputs": []
    },
    {
      "cell_type": "code",
      "metadata": {
        "colab": {
          "base_uri": "https://localhost:8080/",
          "height": 483
        },
        "id": "KyANJ3zkrpAu",
        "outputId": "709bc83b-ab4a-46be-c12a-c078592d6c56"
      },
      "source": [
        "plt.figure(figsize=(20, 8))\n",
        "plt.scatter(x=df_clustered['dim1'],y=df_clustered['dim2'], s=10, c=df_clustered['cluster'])\n",
        "#for i in range(wid):\n",
        "#    plt.annotate(df_clustered['word'][i], (df_clustered['dim1'][i], df_clustered['dim2'][i]))\n",
        "\n",
        "plt.show()"
      ],
      "execution_count": 292,
      "outputs": [
        {
          "output_type": "display_data",
          "data": {
            "image/png": "[encoded data removed]",
            "text/plain": [
              "<Figure size 1440x576 with 1 Axes>"
            ]
          },
          "metadata": {
            "needs_background": "light"
          }
        }
      ]
    }
  ]
}
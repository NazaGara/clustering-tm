{
  "nbformat": 4,
  "nbformat_minor": 0,
  "metadata": {
    "colab": {
      "name": "clustering.ipynb",
      "provenance": [],
      "collapsed_sections": [
        "rCTdZzDfVJAK",
        "O_rfXxI0cB2j",
        "E1ofl1-e16sY",
        "lMfqIgfKcXae"
      ]
    },
    "kernelspec": {
      "display_name": "Python 3",
      "name": "python3"
    },
    "language_info": {
      "name": "python"
    }
  },
  "cells": [
    {
      "cell_type": "markdown",
      "metadata": {
        "id": "n5EtK5uP0Rnn"
      },
      "source": [
        "# Práctico 1: Clustering - Text Mining 2021\n",
        "\n",
        "Garagiola, Nazareno\n",
        "\n",
        "Clustering is the process of grouping a set of documents into clusters of similar documents\n",
        "Clustering Hypothesis: Documents in the same cluster behave similarly with respect to relevance to information\n"
      ]
    },
    {
      "cell_type": "markdown",
      "metadata": {
        "id": "Lc9-ZeNAcEkS"
      },
      "source": [
        "## Requerimientos"
      ]
    },
    {
      "cell_type": "code",
      "metadata": {
        "id": "ismoC-9AWgIi"
      },
      "source": [
        "import spacy\n",
        "import io\n",
        "import pandas as pd\n",
        "import numpy as np\n",
        "import matplotlib.pyplot as plt\n",
        "import sklearn.manifold\n",
        "from collections import Counter\n",
        "%matplotlib inline"
      ],
      "execution_count": 1,
      "outputs": []
    },
    {
      "cell_type": "code",
      "metadata": {
        "id": "37xIIBDoGMyZ"
      },
      "source": [
        "!python3 -m spacy download es_core_news_md > trash.txt\n",
        "#!python3 -m spacy download es_core_news_sm"
      ],
      "execution_count": 2,
      "outputs": []
    },
    {
      "cell_type": "markdown",
      "metadata": {
        "id": "rCTdZzDfVJAK"
      },
      "source": [
        "## Carga del Corpus"
      ]
    },
    {
      "cell_type": "code",
      "metadata": {
        "id": "FwJKt-0Ly0d3"
      },
      "source": [
        "f = open(\"lavoztextodump.txt\", 'r')\n",
        "text = f.read()[:1000000] #[:500000-2]\n",
        "text = text.replace('\"', '')\n",
        "text = text.replace('-\\n', '\\n')"
      ],
      "execution_count": 29,
      "outputs": []
    },
    {
      "cell_type": "code",
      "metadata": {
        "id": "Px7DJsEcCR4R"
      },
      "source": [
        "#text.find(\"&#\")\n",
        "text = text.replace('&#','')\n"
      ],
      "execution_count": 49,
      "outputs": []
    },
    {
      "cell_type": "code",
      "metadata": {
        "id": "BdiIU23Q4S6q"
      },
      "source": [
        "# antes de correr esto, hay que correr la instalacion y resetear el runtime\n",
        "nlp = spacy.load(\"es_core_news_md\", vectores=False, entity=False)\n",
        "\n",
        "lemmas = []\n",
        "words = []\n",
        "doc = nlp(text)\n",
        "for token in doc:\n",
        "    if len(token) > 1 and token.is_alpha: #alfabeticos e ignoro puntuaciones\n",
        "        lemmas.append(token.lemma_.lower())\n",
        "        words.append(token.text)\n"
      ],
      "execution_count": 50,
      "outputs": []
    },
    {
      "cell_type": "markdown",
      "metadata": {
        "id": "npszwgIS6_aH"
      },
      "source": [
        "Si están trabajando en Colab, es normal que al hacer el load de Spacy aparezca un error.\n",
        "\n",
        "**`ModuleNotFoundError: No module named 'es_core_news_md'`**.\n",
        "\n",
        "Reinicien el Kernel/Runtime (usen el menú de arriba o el botón en la notebook), salteen la celda de instalación (la de abajo) y ejecuten la celda previa de vuelta. \n",
        "\n",
        "    `!python3 -m spacy download es_core_news_md > trash.txt`\n"
      ]
    },
    {
      "cell_type": "markdown",
      "metadata": {
        "id": "O_rfXxI0cB2j"
      },
      "source": [
        "## Preprocesamiento\n",
        "\n",
        "-> Preproceso: Lemmatizacion, catergoria morfosintactica (POS), etc\n",
        "\n",
        "-> Hacer diferentes aproximacione spara categorizar palabras, por contexto en diferentes tamaños de ventanas"
      ]
    },
    {
      "cell_type": "code",
      "metadata": {
        "id": "2aT0JwxvFlHt"
      },
      "source": [
        "counter_lemma = Counter(lemmas)\n",
        "counter_words = Counter(words) #tambien se podria usar este"
      ],
      "execution_count": 51,
      "outputs": []
    },
    {
      "cell_type": "code",
      "metadata": {
        "id": "uPwvmQucCWm9"
      },
      "source": [
        "#minima cantidad de veces que deseo que una palabra este en el documento.\n",
        "MIN_FREQ = 50\n",
        "\n",
        "def word_filter(token):\n",
        "    \"\"\"\n",
        "    Pequeña funcion que usaremos para filtrar las palabras\n",
        "    \"\"\"\n",
        "    return (not token.is_alpha or token.is_digit or not counter_lemma[token.lemma_] >= MIN_FREQ)\n",
        "\n",
        "with open(\"stopwords.txt\",'r') as f:\n",
        "    stopwords = f.read().split('\\n')\n",
        "\n",
        "def not_a_stopword(token):\n",
        "    \"\"\"\n",
        "    Funcion que toma un token de Spacy y revisa que su lemma sea o on una \n",
        "    stopword en español\n",
        "    \"\"\"\n",
        "    return (token.is_alpha and (not token.lemma_.lower() in stopwords))\n",
        "\n",
        "\n",
        "def immediate_related_words(span):\n",
        "    \"\"\"\n",
        "    Funcion que a partir de un Span (parte continua del doc) retorna una lista\n",
        "    con los lemmas de las palabras que no sean stopwords\n",
        "    \"\"\"\n",
        "    tokens = list(filter(not_a_stopword, doc[close_lft:close_rgt]))\n",
        "    return list(map(lambda token: token.lemma_, tokens))\n",
        "\n",
        "def keywords_in(span):\n",
        "    \"\"\"\n",
        "    Funcion que a partir de un Span, retorna una lista con los lemmas de las \n",
        "    palabras del span que no sean stopwords ni tampoco no sean relevantes.\n",
        "    (la funcion )\n",
        "    \"\"\"\n",
        "    tokens = list(filter(\n",
        "        lambda token: not word_filter(token) and not_a_stopword(token), span))\n",
        "    return list(map(lambda token: token.lemma_, tokens))\n",
        "\n"
      ],
      "execution_count": 52,
      "outputs": []
    },
    {
      "cell_type": "code",
      "metadata": {
        "id": "gV68ufqbuqSn"
      },
      "source": [
        "triplas = {}\n",
        "tag = {}\n",
        "pos = {}\n",
        "close_context = {}\n",
        "large_context = {}\n",
        "\n",
        "for token in doc:\n",
        "    if word_filter(token): continue\n",
        "    triplas[token.lemma_] = {}\n",
        "    tag[token.lemma_] = {}\n",
        "    pos[token.lemma_] = {}\n",
        "    close_context[token.lemma_] = {}\n",
        "    large_context[token.lemma_] = {}\n"
      ],
      "execution_count": 53,
      "outputs": []
    },
    {
      "cell_type": "code",
      "metadata": {
        "id": "ApSlmnUQygZF"
      },
      "source": [
        "close_window, large_window = 3, 20\n",
        "for token in doc:\n",
        "    if word_filter(token): continue\n",
        "\n",
        "    i = token.i\n",
        "    word = token.lemma_.lower()\n",
        "    # Cargo part of speech de cada palabra lematizada\n",
        "    if not token.pos_ in pos[word].keys():\n",
        "        pos[word][token.pos_] = 0\n",
        "    pos[word][token.pos_] += 1\n",
        "\n",
        "    # Cargo tag de cada palabra lematizada\n",
        "    if not token.tag_ in tag[word].keys():\n",
        "        tag[word][token.tag_] = 0\n",
        "    tag[word][token.tag_] += 1\n",
        "\n",
        "    #Triplas de dependencias. Notar que busco el root de la frase en la que la \n",
        "    #palabra siguiente este, y esta puede no necesariamente estar en mis palabras\n",
        "    #claves que superan el filtro.\n",
        "    if not i == len(doc) - 1:\n",
        "        tripla = (f\"obj: {word} - dep : {token.dep_} - root: {doc[i+1].head.lemma_}\") # - context: {span}\")\n",
        "        if not tripla in triplas[word].keys():\n",
        "            triplas[word][tripla] = 0\n",
        "        triplas[word][tripla] += 1\n",
        "\n",
        "    #contexto inmediato, con una ventana 1 de distancia, sin stopwords\n",
        "    close_lft, close_rgt = i-close_window, i+close_window\n",
        "    if not (close_lft <= 0 and close_rgt >= len(doc)):\n",
        "        imm_related_words = immediate_related_words(doc[close_lft:close_rgt])\n",
        "        for w in imm_related_words:\n",
        "            if w == word: continue\n",
        "            if not w in close_context[word].keys():\n",
        "                close_context[word][w] = 0\n",
        "            close_context[word][w] += 1\n",
        "\n",
        "    #contexto mas grande, solo de las palabras que me interesan sin stopwords\n",
        "    #y que van a estar en un cluster luego.\n",
        "\n",
        "    #large_lft, large_rgt = i-large_window, i+large_window\n",
        "    #if not (large_lft <= 0 and large_rgt >= len(doc)):\n",
        "    #    keywords_in_context = keywords_in(doc[large_lft: large_rgt])\n",
        "    #    for w in keywords_in_context:\n",
        "    #        if w == word: continue\n",
        "    #        if not w in large_context[word].keys():\n",
        "    #            large_context[word][w] = 0\n",
        "    #        large_context[word][w] += 1\n"
      ],
      "execution_count": 54,
      "outputs": []
    },
    {
      "cell_type": "markdown",
      "metadata": {
        "id": "uV8Phw219L68"
      },
      "source": [
        "\n",
        "\n",
        "---\n",
        "\n"
      ]
    },
    {
      "cell_type": "code",
      "metadata": {
        "id": "CK5we3Jx9LsG"
      },
      "source": [
        "#\"\"\"\n",
        "for sent in doc.sents:\n",
        "    for token in sent:\n",
        "        if word_filter(token): continue\n",
        "        i = token.i\n",
        "        word = token.lemma_.lower()\n",
        "        keywords_in_context = keywords_in(sent)\n",
        "        for w in keywords_in_context:\n",
        "            if w == word: continue\n",
        "            if not w in large_context[word].keys():\n",
        "                large_context[word][w] = 0\n",
        "            large_context[word][w] += 1\n",
        "#\"\"\"\n",
        "pass"
      ],
      "execution_count": 55,
      "outputs": []
    },
    {
      "cell_type": "markdown",
      "metadata": {
        "id": "YViEt5j49MSJ"
      },
      "source": [
        "\n",
        "\n",
        "---\n",
        "\n"
      ]
    },
    {
      "cell_type": "markdown",
      "metadata": {
        "id": "q8nRsEyY3fVy"
      },
      "source": [
        "Cargamos todas las caracteristicas que recogimos en el pre-procesamiento y las guardamos en nuevo diccionario cuyas claves tambien son las palabras lematizadas que analizamos."
      ]
    },
    {
      "cell_type": "code",
      "metadata": {
        "id": "EsMAF1PU1n0O"
      },
      "source": [
        "feats = {}\n",
        "for token in doc:\n",
        "    if word_filter(token): continue\n",
        "    word = token.lemma_\n",
        "    feats[word] = {**tag[word], **pos[word], **triplas[word], **large_context[word], **close_context[word]}"
      ],
      "execution_count": 56,
      "outputs": []
    },
    {
      "cell_type": "code",
      "metadata": {
        "id": "AJ25zsxt2V6b"
      },
      "source": [
        "print(f\"Sample word 'ahora': {feats['en']}\")"
      ],
      "execution_count": null,
      "outputs": []
    },
    {
      "cell_type": "markdown",
      "metadata": {
        "id": "E1ofl1-e16sY"
      },
      "source": [
        "## Vectorización\n",
        "\n",
        "Luego del pre-procesamiento, tenemos un diccionario de la forma {\"palabra\":\"caracteristicas\"}. A este le removemos las claves e ingresamos las caracteristicas a un arreglo, el cual [DictVectorizer](https://scikit-learn.org/stable/modules/generated/sklearn.feature_extraction.DictVectorizer.html) lo transformara en una matriz, con filas siendo las palabras y cada columna son las caracteristicas."
      ]
    },
    {
      "cell_type": "code",
      "metadata": {
        "id": "Sv3l53gHnGXB"
      },
      "source": [
        "from sklearn.feature_extraction import DictVectorizer\n",
        "\n",
        "vectorizer = DictVectorizer(sparse=False)\n",
        "features, key_words, wid = [], {}, 0\n",
        "for word in feats:\n",
        "    key_words[word] = wid\n",
        "    wid += 1\n",
        "    features.append(feats[word])\n",
        "matrix = vectorizer.fit_transform(X=features)\n"
      ],
      "execution_count": 57,
      "outputs": []
    },
    {
      "cell_type": "markdown",
      "metadata": {
        "id": "GAbH4E-j5EnH"
      },
      "source": [
        "Ahora debemos normalizar la matriz (es decir, que los vectores tengan valores entre 0 y 1).\n",
        "Uso [VarianceThreshold](https://scikit-learn.org/stable/modules/generated/sklearn.feature_selection.VarianceThreshold.html), otra herramienta de sklearn para poder reducir la dimensionalidad de la matrix y descartar caracteristicas."
      ]
    },
    {
      "cell_type": "code",
      "metadata": {
        "id": "AIjwlbdTuEOE",
        "colab": {
          "base_uri": "https://localhost:8080/"
        },
        "outputId": "2b254fe1-33cf-4eab-9424-e05eceba7a2f"
      },
      "source": [
        "from sklearn.preprocessing import normalize\n",
        "from sklearn.feature_selection import VarianceThreshold\n",
        "\n",
        "selector = VarianceThreshold(threshold=1e-9)\n",
        "\n",
        "normed_matrix = normalize(matrix, axis=1, norm='l1')\n",
        "\n",
        "reduced_matrix = selector.fit_transform(normed_matrix)\n",
        "\n",
        "print(matrix.shape, normed_matrix.shape, reduced_matrix.shape)"
      ],
      "execution_count": 58,
      "outputs": [
        {
          "output_type": "stream",
          "name": "stdout",
          "text": [
            "(340, 63031) (340, 63031) (340, 29617)\n"
          ]
        }
      ]
    },
    {
      "cell_type": "markdown",
      "metadata": {
        "id": "lMfqIgfKcXae"
      },
      "source": [
        "## Clustering\n",
        "\n",
        "Una vez que ya tenemos nuestra matriz de caracteristicas como vectores normalizada, la usamos para alimentar la funcion que nos arma los clusters. Uso la implementacion de [nltk](https://tedboy.github.io/nlps/generated/generated/nltk.cluster.KMeansClusterer.html) ya que permite usar la similutud del coseno de forma natural, sin hacer mas procesamiento previo.\n",
        "\n",
        "\n",
        "Version de sklearn: [KMeans](https://scikit-learn.org/stable/modules/generated/sklearn.cluster.KMeans.html)\n"
      ]
    },
    {
      "cell_type": "code",
      "metadata": {
        "id": "jOW6LOYAosGp"
      },
      "source": [
        "from nltk.cluster import kmeans, cosine_distance\n",
        "\n",
        "def clustering(k, matrix):\n",
        "    \"\"\"\n",
        "    k -> Cantidad de clusterers\n",
        "    \"\"\"\n",
        "    clusterer = kmeans.KMeansClusterer(num_means=k, distance=cosine_distance, avoid_empty_clusters=True)\n",
        "    clusters = clusterer.cluster(matrix, assign_clusters=True)\n",
        "    return clusters"
      ],
      "execution_count": 59,
      "outputs": []
    },
    {
      "cell_type": "code",
      "metadata": {
        "id": "nYuNVhujF2up"
      },
      "source": [
        "from sklearn.cluster import KMeans\n",
        "\n",
        "def sklearn_clustering(k, matrix):\n",
        "    clusterer = KMeans(n_clusters=k)\n",
        "    clusterer.fit(X=matrix)\n",
        "    return clusterer.labels_"
      ],
      "execution_count": 67,
      "outputs": []
    },
    {
      "cell_type": "code",
      "metadata": {
        "id": "qB7jvu4mouEA"
      },
      "source": [
        "NUM_CLUSTERS = 50\n",
        "cluster =  clustering(NUM_CLUSTERS, normed_matrix)\n",
        "sk_cluster = sklearn_clustering(NUM_CLUSTERS, normed_matrix)"
      ],
      "execution_count": 68,
      "outputs": []
    },
    {
      "cell_type": "code",
      "metadata": {
        "id": "uUmgmSe8VBLL"
      },
      "source": [
        "for i in range(NUM_CLUSTERS):\n",
        "    c = [token for token in key_words if cluster[key_words[token]]==i]\n",
        "    print(f\"Cluster {i}:\\n {c}\")"
      ],
      "execution_count": null,
      "outputs": []
    },
    {
      "cell_type": "code",
      "metadata": {
        "colab": {
          "base_uri": "https://localhost:8080/"
        },
        "id": "X4tEzL1cKVvP",
        "outputId": "eb3d7926-f63f-439d-f2e9-dde80eaa8b50"
      },
      "source": [
        "for i in range(NUM_CLUSTERS):\n",
        "    c = [token for token in key_words if sk_cluster[key_words[token]]==i]\n",
        "    print(f\"Cluster {i}:\\n {c}\")"
      ],
      "execution_count": 74,
      "outputs": [
        {
          "output_type": "stream",
          "name": "stdout",
          "text": [
            "Cluster 0:\n",
            " ['capital']\n",
            "Cluster 1:\n",
            " ['primero', 'privar', 'último']\n",
            "Cluster 2:\n",
            " ['tener', 'conocer', 'llevar', 'lograr', 'querer', 'hablar', 'vivir', 'ver', 'ganar', 'elegir', 'poner', 'mantener', 'decidir', 'sumar', 'saber', 'llegar', 'dar', 'creer', 'esperar', 'participar', 'generar', 'mostrar', 'cumplir', 'recibir', 'incluir', 'considerar', 'realizar', 'existir', 'permitir', 'terminar', 'plantear', 'presentar', 'producir']\n",
            "Cluster 3:\n",
            " ['bien', 'siempre', 'ya', 'más', 'sólo', 'también', 'ahora', 'menos', 'ayer', 'después', 'muy', 'hoy', 'poco', 'mañana', 'luego', 'antes', 'casi', 'además', 'aun']\n",
            "Cluster 4:\n",
            " ['bajar', 'según']\n",
            "Cluster 5:\n",
            " ['cómo']\n",
            "Cluster 6:\n",
            " ['hijo', 'plan', 'punto', 'lugar', 'director', 'derecho', 'sector', 'funcionario', 'ministro', 'servicio', 'peso', 'empresario', 'candidato', 'tribunal', 'cargar', 'fondo']\n",
            "Cluster 7:\n",
            " ['cuatro', 'do', 'tres', 'cincar', 'mil', 'seis']\n",
            "Cluster 8:\n",
            " ['distinto', 'vario']\n",
            "Cluster 9:\n",
            " ['ser', 'estar', 'haber', 'parecer', 'poder', 'deber']\n",
            "Cluster 10:\n",
            " ['mujer', 'vez', 'medir', 'partir', 'zona', 'ruta', 'empresa', 'actividad', 'asamblea', 'organización', 'elección']\n",
            "Cluster 11:\n",
            " ['sin', 'en', 'de', 'parir', 'con', 'por', 'contra', 'desde', 'entrar', 'durante', 'sobrar', 'hasta', 'hacia', 'ante', 'tras']\n",
            "Cluster 12:\n",
            " ['gran', 'grande', 'general', 'importante', 'mejor', 'social', 'mayor', 'nacional', 'internacional', 'provincial', 'oficial', 'principal', 'local', 'electoral', 'presidencial', 'federal']\n",
            "Cluster 13:\n",
            " ['abrir', 'llamar', 'pasar', 'suponer', 'acusar']\n",
            "Cluster 14:\n",
            " ['nuevo', 'bueno', 'económico', 'secundario', 'ex', 'único', 'cordobés', 'público', 'político', 'próximo', 'argentino', 'alto', 'interno', 'brasileño', 'electrónico']\n",
            "Cluster 15:\n",
            " ['año', 'problema', 'día', 'colegio', 'mesar', 'chico', 'corte', 'padre', 'niño', 'millón', 'medio', 'voto', 'alumno', 'gobierno']\n",
            "Cluster 16:\n",
            " ['cuando', 'comer', 'si', 'aunque', 'porque', 'mientras']\n",
            "Cluster 17:\n",
            " ['ni', 'sino', 'pero']\n",
            "Cluster 18:\n",
            " ['acordar', 'mediar', 'septiembre', 'tanto', 'octubre', 'frente', 'pesar']\n",
            "Cluster 19:\n",
            " ['unir', 'me', 'qué', 'ellos', 'quien', 'él', 'cual']\n",
            "Cluster 20:\n",
            " ['iniciar', 'pedir', 'salir', 'encontrar', 'aumentar', 'ingresar', 'informar', 'anunciar', 'pagar', 'viajar', 'caer', 'resultar']\n",
            "Cluster 21:\n",
            " ['estudiante', 'joven', 'docente', 'dirigente', 'intendente', 'juez', 'policía']\n",
            "Cluster 22:\n",
            " ['del', 'al']\n",
            "Cluster 23:\n",
            " ['río']\n",
            "Cluster 24:\n",
            " ['otro', 'todo', 'mismo', 'ese', 'ninguno', 'cada', 'alguno', 'este', 'mucho', 'nuestro', 'mi', 'propio']\n",
            "Cluster 25:\n",
            " ['personar', 'coser', 'institución', 'obrar', 'escuela', 'clase', 'hora', 'cámara', 'fuente', 'autoridad']\n",
            "Cluster 26:\n",
            " ['casar', 'tiempo', 'momento', 'plazo', 'proyectar', 'lado', 'conflicto', 'grupo', 'embargar', 'acto', 'jefe', 'interior', 'sistema', 'presidente', 'temer', 'centrar', 'ejemplo', 'país', 'fin', 'diario', 'mundo', 'mes', 'tipo', 'gobernador', 'peronismo']\n",
            "Cluster 27:\n",
            " ['sostener', 'decir', 'asegurar', 'advertir', 'agregar', 'quedar', 'ocurrir', 'afirmar', 'explicar', 'indicar', 'señalar', 'confirmar']\n",
            "Cluster 28:\n",
            " ['vida', 'manera', 'formar', 'ley', 'educación', 'posibilidad', 'familia', 'protestar', 'información', 'situación', 'provincia', 'gestión', 'mayoría', 'ciudad', 'reunión', 'historia', 'decisión', 'sociedad', 'semana', 'campaña', 'democracia', 'justicia', 'nación']\n",
            "Cluster 29:\n",
            " ['no']\n",
            "Cluster 30:\n",
            " ['que', 'donde']\n",
            "Cluster 31:\n",
            " ['ministerio']\n",
            "Cluster 32:\n",
            " ['nadar', 'algo']\n",
            "Cluster 33:\n",
            " ['el']\n",
            "Cluster 34:\n",
            " ['ciento']\n",
            "Cluster 35:\n",
            " ['juntar']\n",
            "Cluster 36:\n",
            " ['lo']\n",
            "Cluster 37:\n",
            " ['les']\n",
            "Cluster 38:\n",
            " ['hacer', 'ir', 'seguir', 'tratar', 'dejar', 'venir', 'comenzar']\n",
            "Cluster 39:\n",
            " ['los']\n",
            "Cluster 40:\n",
            " ['tomar', 'mejorar', 'volver', 'firmar', 'contar', 'causar', 'denunciar']\n",
            "Cluster 41:\n",
            " ['subir']\n",
            "Cluster 42:\n",
            " ['uno']\n",
            "Cluster 43:\n",
            " ['través']\n",
            "Cluster 44:\n",
            " ['cambiar', 'sentir', 'trabajar', 'reclamar', 'debatir', 'desarrollar', 'intentar', 'destinar', 'marcar', 'votar', 'gobernar', 'procesar', 'apoyar']\n",
            "Cluster 45:\n",
            " ['villa']\n",
            "Cluster 46:\n",
            " ['le']\n",
            "Cluster 47:\n",
            " ['se']\n",
            "Cluster 48:\n",
            " ['su']\n",
            "Cluster 49:\n",
            " ['\\ufeff1', 'segundar']\n"
          ]
        }
      ]
    },
    {
      "cell_type": "code",
      "metadata": {
        "id": "gwH05grVcb4v"
      },
      "source": [
        "adjetivos = [word for word in key_words if cluster[key_words[word]]==cluster[key_words['gran']]]\n",
        "numeros = [word for word in key_words if cluster[key_words[word]]==cluster[key_words['cuatro']]]\n",
        "roles = [word for word in key_words if cluster[key_words[word]]==cluster[key_words['estudiante']]]\n",
        "verbos = [word for word in key_words if cluster[key_words[word]]==cluster[key_words['lograr']]]\n",
        "stop1 = [word for word in key_words if cluster[key_words[word]]==cluster[key_words['cuando']]]"
      ],
      "execution_count": null,
      "outputs": []
    },
    {
      "cell_type": "code",
      "metadata": {
        "colab": {
          "base_uri": "https://localhost:8080/"
        },
        "id": "CSz8ENA2IuIk",
        "outputId": "6d4aad7c-aa9c-4c42-8232-ce6f69692a63"
      },
      "source": [
        "diff_between_clusters(cluster, sk_cluster, 'lograr')"
      ],
      "execution_count": 73,
      "outputs": [
        {
          "output_type": "execute_result",
          "data": {
            "text/plain": [
              "{'c1-c2': ['iniciar', 'quedar', 'ocurrir', 'caer'],\n",
              " 'c2-c1': ['tener',\n",
              "  'conocer',\n",
              "  'querer',\n",
              "  'hablar',\n",
              "  'vivir',\n",
              "  'ver',\n",
              "  'mantener',\n",
              "  'saber',\n",
              "  'llegar',\n",
              "  'creer',\n",
              "  'esperar',\n",
              "  'participar',\n",
              "  'generar',\n",
              "  'mostrar',\n",
              "  'cumplir',\n",
              "  'incluir',\n",
              "  'existir',\n",
              "  'permitir',\n",
              "  'terminar']}"
            ]
          },
          "metadata": {},
          "execution_count": 73
        }
      ]
    },
    {
      "cell_type": "markdown",
      "metadata": {
        "id": "8VCZw5ar8UMK"
      },
      "source": [
        "\n",
        "\n",
        "---\n",
        "\n"
      ]
    },
    {
      "cell_type": "markdown",
      "metadata": {
        "id": "5QApuD8d8q9O"
      },
      "source": [
        "## Dimensionalidad y Embeddings"
      ]
    },
    {
      "cell_type": "code",
      "metadata": {
        "colab": {
          "base_uri": "https://localhost:8080/"
        },
        "id": "91A7Z9tn8uD0",
        "outputId": "59bf92fd-5f09-43b4-ac97-76345eb23a09"
      },
      "source": [
        "from sklearn.decomposition import TruncatedSVD\n",
        "from sklearn.manifold import TSNE\n",
        "\n",
        "svd = TruncatedSVD(n_components=100, n_iter=5)\n",
        "lsa_data = svd.fit_transform(X=normed_matrix)\n",
        "\n",
        "\n",
        "tsne = TSNE(n_components=2, random_state=0, n_iter=500) #ultimo param para que sea mas rapido\n",
        "tsne_data = tsne.fit_transform(reduced_matrix)\n",
        "\n",
        "tsne_data.shape, lsa_data.shape"
      ],
      "execution_count": 62,
      "outputs": [
        {
          "output_type": "execute_result",
          "data": {
            "text/plain": [
              "((340, 2), (340, 100))"
            ]
          },
          "metadata": {},
          "execution_count": 62
        }
      ]
    },
    {
      "cell_type": "code",
      "metadata": {
        "id": "9O3i4qKaqvkU"
      },
      "source": [
        "data = [(tsne_data[i], cluster[i], list(key_words.keys())[i]) for i in range(wid)]\n",
        "df_clustered = pd.DataFrame(\n",
        "    data=[(coords[0], coords[1], cluster, word) for coords, cluster, word in data],\n",
        "    columns=[\"dim1\", \"dim2\", \"cluster\", \"word\"]\n",
        ")"
      ],
      "execution_count": 63,
      "outputs": []
    },
    {
      "cell_type": "code",
      "metadata": {
        "colab": {
          "base_uri": "https://localhost:8080/",
          "height": 483
        },
        "id": "vcu05Q2Q3Up8",
        "outputId": "a373ddf9-702a-4719-c5ec-64043b1f08ae"
      },
      "source": [
        "plt.figure(figsize=(20, 8))\n",
        "plt.scatter(x=df_clustered['dim1'],y=df_clustered['dim2'], s=10, cmap='viridis')\n",
        "#for i in range(wid):\n",
        "#    plt.annotate(df_clustered['word'][i], (df_clustered['dim1'][i], df_clustered['dim2'][i]))\n",
        "\n",
        "plt.show()"
      ],
      "execution_count": 64,
      "outputs": [
        {
          "output_type": "display_data",
          "data": {
            "image/png": "[encoded data removed]",
            "text/plain": [
              "<Figure size 1440x576 with 1 Axes>"
            ]
          },
          "metadata": {
            "needs_background": "light"
          }
        }
      ]
    },
    {
      "cell_type": "code",
      "metadata": {
        "colab": {
          "base_uri": "https://localhost:8080/",
          "height": 483
        },
        "id": "KyANJ3zkrpAu",
        "outputId": "be4609c1-f2c9-469e-e0b1-9dedccb96661"
      },
      "source": [
        "plt.figure(figsize=(20, 8))\n",
        "plt.scatter(x=df_clustered['dim1'],y=df_clustered['dim2'], s=10, c=df_clustered['cluster'], cmap='viridis')\n",
        "#for i in range(wid):\n",
        "#    plt.annotate(df_clustered['word'][i], (df_clustered['dim1'][i], df_clustered['dim2'][i]))\n",
        "\n",
        "plt.show()"
      ],
      "execution_count": 65,
      "outputs": [
        {
          "output_type": "display_data",
          "data": {
            "image/png": "[encoded data removed]",
            "text/plain": [
              "<Figure size 1440x576 with 1 Axes>"
            ]
          },
          "metadata": {
            "needs_background": "light"
          }
        }
      ]
    },
    {
      "cell_type": "code",
      "metadata": {
        "id": "tgqSL_c5iKkB"
      },
      "source": [
        "def diff_between_clusters(c1, c2, key):\n",
        "    diff = {'c1-c2': [], 'c2-c1': []}\n",
        "    X = [word for word in key_words if c1[key_words[word]]==c1[key_words[key]]]\n",
        "    Y = [word for word in key_words if c2[key_words[word]]==c2[key_words[key]]]\n",
        "\n",
        "    for elem in X:\n",
        "        if not elem in Y:\n",
        "            diff['c1-c2'].append(elem)\n",
        "\n",
        "    for elem in Y:\n",
        "        if not elem in X:\n",
        "            diff['c2-c1'].append(elem)\n",
        "    \n",
        "    return diff"
      ],
      "execution_count": 69,
      "outputs": []
    },
    {
      "cell_type": "code",
      "metadata": {
        "id": "l9ijyDNAg3QY"
      },
      "source": [
        "lsa_cluster = clustering(k=NUM_CLUSTERS, matrix=lsa_data)"
      ],
      "execution_count": null,
      "outputs": []
    },
    {
      "cell_type": "code",
      "metadata": {
        "id": "2SQXydLWhqzf"
      },
      "source": [
        "diff_between_clusters(cluster, lsa_cluster, \"ir\")"
      ],
      "execution_count": null,
      "outputs": []
    }
  ]
}
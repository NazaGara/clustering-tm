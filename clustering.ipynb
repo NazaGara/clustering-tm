{
  "nbformat": 4,
  "nbformat_minor": 0,
  "metadata": {
    "colab": {
      "name": "Clustering.ipynb",
      "provenance": [],
      "collapsed_sections": [],
      "include_colab_link": true
    },
    "kernelspec": {
      "display_name": "Python 3",
      "name": "python3"
    },
    "language_info": {
      "name": "python"
    }
  },
  "cells": [
    {
      "cell_type": "markdown",
      "metadata": {
        "id": "view-in-github",
        "colab_type": "text"
      },
      "source": [
        "<a href=\"https://colab.research.google.com/github/NazaGara/clustering-tm/blob/main/clustering.ipynb\" target=\"_parent\"><img src=\"https://colab.research.google.com/assets/colab-badge.svg\" alt=\"Open In Colab\"/></a>"
      ]
    },
    {
      "cell_type": "markdown",
      "metadata": {
        "id": "n5EtK5uP0Rnn"
      },
      "source": [
        "# Practico Clustering - Text Mining 2021\n",
        "\n",
        "Garagiola, Nazareno\n",
        "\n",
        "\n",
        "clustering is the process of grouping a set of\n",
        "documents into clusters of similar documents\n",
        "\n",
        "\n",
        "-> Preproceso: Lemmatizacion, catergoria morfosintactica (POS), etc\n",
        "\n",
        "-> Hacer diferentes aproximacione spara categorizar palabras, por contexto en diferentes tamaños de ventanas"
      ]
    },
    {
      "cell_type": "code",
      "metadata": {
        "id": "ismoC-9AWgIi"
      },
      "source": [
        "import spacy\n",
        "import io\n",
        "import pandas as pd\n",
        "import numpy as np\n",
        "import matplotlib.pyplot as plt\n",
        "import sklearn.manifold\n",
        "from collections import Counter\n",
        "%matplotlib inline"
      ],
      "execution_count": 1,
      "outputs": []
    },
    {
      "cell_type": "code",
      "metadata": {
        "id": "37xIIBDoGMyZ"
      },
      "source": [
        "!python3 -m spacy download es_core_news_md > trash.txt\n",
        "#!python3 -m spacy download es_core_news_sm"
      ],
      "execution_count": 5,
      "outputs": []
    },
    {
      "cell_type": "markdown",
      "metadata": {
        "id": "cydONALzHXpy"
      },
      "source": [
        "\n",
        "\n",
        "---\n",
        "\n"
      ]
    },
    {
      "cell_type": "code",
      "metadata": {
        "id": "FwJKt-0Ly0d3"
      },
      "source": [
        "filename = \"lavoztextodump.txt\"\n",
        "f = open(filename, 'r')\n",
        "text = f.read()[:1000000] #[:1000000] \n",
        "text = text.replace('\"', '')\n",
        "text = text.replace('-\\n', '\\n')"
      ],
      "execution_count": 168,
      "outputs": []
    },
    {
      "cell_type": "code",
      "metadata": {
        "id": "BdiIU23Q4S6q"
      },
      "source": [
        "# antes de correr esto, hay que correr la instalacion y resetear el runtime\n",
        "nlp = spacy.load(\"es_core_news_md\", vectores=False, entity=False)\n",
        "\n",
        "lemmas = []\n",
        "words = []\n",
        "doc = nlp(text)\n",
        "for token in doc:\n",
        "    if len(token) > 1 and token.is_alpha: #alfabeticos e ignoro puntuaciones\n",
        "        lemmas.append(token.lemma_.lower())\n",
        "        words.append(token.text.lower())\n"
      ],
      "execution_count": 169,
      "outputs": []
    },
    {
      "cell_type": "markdown",
      "metadata": {
        "id": "npszwgIS6_aH"
      },
      "source": [
        "Si están trabajando en Colab, es normal que al hacer el load de Spacy aparezca un error.\n",
        "\n",
        "**`ModuleNotFoundError: No module named 'es_core_news_md'`**.\n",
        "\n",
        "Reinicien el Kernel/Runtime (usen el menú de arriba o el botón en la notebook), salteen la celda de instalación (la de abajo) y ejecuten la celda previa de vuelta. \n",
        "\n",
        "    `!python3 -m spacy download es_core_news_md > trash.txt`\n"
      ]
    },
    {
      "cell_type": "code",
      "metadata": {
        "id": "2aT0JwxvFlHt"
      },
      "source": [
        "counter_lemma = Counter(lemmas)\n",
        "counter_words = Counter(words) #tambien se podria usar este"
      ],
      "execution_count": 227,
      "outputs": []
    },
    {
      "cell_type": "markdown",
      "metadata": {
        "id": "tz8iOzUd5roE"
      },
      "source": [
        "Las triplas de dependencias son una forma de representar relaciones entre palabras. Si tengo una oración como \"El gato come pescado\", el análisis sintáctico de esa oración me dirá que gato es sujeto de comer, pescado es objeto de comer. Entonces, puedo representar la palabra gato diciendo que ocurrió una vez en el contexto X - sujeto - comer, y la palabra pescado diciendo que ocurrió una vez en el contexto X - objeto - comer. Entonces, mis dimensiones son estas triplas de la forma \"Palabra objetivo - Función sintáctica - Otra palabra\""
      ]
    },
    {
      "cell_type": "code",
      "metadata": {
        "id": "uPwvmQucCWm9"
      },
      "source": [
        "#most frequent words\n",
        "MIN_FREQ = 30\n",
        "#most_freq = []\n",
        "#for l in counter_lemma:\n",
        "#    if (counter_lemma[l] >= MIN_FREQ):\n",
        "#        most_freq.append(l)\n",
        "#print(f\"amount of lemmas that appear more than {MIN_FREQ} times: {len(most_freq)}\")\n",
        "\n",
        "def word_filter(token):\n",
        "    \"\"\"\n",
        "    Pequeña funcion que usaremos para filtrar las palabras\n",
        "    \"\"\"\n",
        "    return (not token.is_alpha or token.is_digit or not counter_lemma[token.lemma_] >= MIN_FREQ)\n"
      ],
      "execution_count": 230,
      "outputs": []
    },
    {
      "cell_type": "code",
      "metadata": {
        "id": "gV68ufqbuqSn"
      },
      "source": [
        "triplas = {}\n",
        "tag = {}\n",
        "pos = {}\n",
        "context_lft = {}\n",
        "context_rgt = {}\n",
        "context_lemma = {}\n",
        "\n",
        "for token in doc:\n",
        "    if word_filter(token): continue\n",
        "    triplas[token.lemma_] = {}\n",
        "    tag[token.lemma_] = {}\n",
        "    pos[token.lemma_] = {}\n",
        "    context_lft[token.lemma_] = {}\n",
        "    context_rgt[token.lemma_] = {}\n",
        "    context_lemma[token.lemma_] = {}\n"
      ],
      "execution_count": 314,
      "outputs": []
    },
    {
      "cell_type": "code",
      "metadata": {
        "id": "ApSlmnUQygZF"
      },
      "source": [
        "for token in doc:\n",
        "    if word_filter(token): continue\n",
        "\n",
        "    i = token.i\n",
        "    word = token.lemma_\n",
        "    # Cargo part of speech de cada palabra\n",
        "    if not token.pos_ in pos[word].keys():\n",
        "        pos[word][token.pos_] = 0\n",
        "    pos[word][token.pos_] += 1\n",
        "\n",
        "    # Cargo tag de cada palabra\n",
        "    if not token.tag_ in tag[word].keys():\n",
        "        tag[word][token.tag_] = 0\n",
        "    tag[word][token.tag_] += 1\n",
        "\n",
        "\n",
        "    #contextos inmediatos\n",
        "#    if not i == 0:\n",
        "#        lft = doc[i - 1]\n",
        "#        c_izq = lft.lemma_\n",
        "#        if lft.is_digit:\n",
        "#            c_izq = \"NUM__\"\n",
        "#        if lft.is_alpha: # and counter_lemma[c_izq] > threshold_c:\n",
        "#            if not c_izq in context_lft[word].keys():\n",
        "#                context_lft[word][c_izq] = 0\n",
        "#            context_lft[word][c_izq] += 1\n",
        "#\n",
        "#     if not i == len(doc) - 1:\n",
        "#        rgt = doc[i + 1]\n",
        "#        c_der = rgt.lemma_\n",
        "#        if rgt.is_digit:\n",
        "#            c_der = \"NUM__\"\n",
        "#        if rgt.is_alpha: # and counter_lemma[c_der] > threshold_c:\n",
        "#            if not c_der in context_rgt[word].keys():\n",
        "#                context_rgt[word][c_der] = 0\n",
        "#            context_rgt[word][c_der] += 1\n",
        "\n",
        "\n",
        "    #Triplas de dependencias, aca dentro porque miro la siguiente si o si\n",
        "    if not i == len(doc) - 1:\n",
        "        tripla = (f\"obj: {word} - dep : {token.dep_} - root: {doc[i+1].head.lemma_}\") # - context: {span}\")\n",
        "        if not tripla in triplas[word].keys():\n",
        "            triplas[word][tripla] = 0\n",
        "        triplas[word][tripla] += 1\n"
      ],
      "execution_count": 317,
      "outputs": []
    },
    {
      "cell_type": "markdown",
      "metadata": {
        "id": "uV8Phw219L68"
      },
      "source": [
        "\n",
        "\n",
        "---\n",
        "\n"
      ]
    },
    {
      "cell_type": "code",
      "metadata": {
        "id": "CK5we3Jx9LsG"
      },
      "source": [
        "from spacy.tokens import Span\n",
        "window = 12\n",
        "for token in doc:\n",
        "    if word_filter(token): continue\n",
        "    i = token.i\n",
        "    lft_i, rgt_i = i-window, i+window\n",
        "\n",
        "    if not lft_i <= 0:\n",
        "        lft_span = doc[lft_i: i]\n",
        "        lft_root = lft_span.root.lemma_\n",
        "        if not lft_root in context_lft[token.lemma_].keys():\n",
        "            context_lft[token.lemma_][lft_root] = 0\n",
        "        context_lft[token.lemma_][lft_root] += 1\n",
        "\n",
        "    if not rgt_i >= len(doc) - 1:\n",
        "        rgt_span = doc[i:rgt_i]\n",
        "        rgt_root = rgt_span.root.lemma_\n",
        "        if not rgt_root in context_rgt[token.lemma_].keys():\n",
        "            context_rgt[token.lemma_][rgt_root] = 0\n",
        "        context_rgt[token.lemma_][rgt_root] += 1\n"
      ],
      "execution_count": 315,
      "outputs": []
    },
    {
      "cell_type": "code",
      "metadata": {
        "id": "5TSqoc2lD3Kj"
      },
      "source": [
        "context_rgt"
      ],
      "execution_count": null,
      "outputs": []
    },
    {
      "cell_type": "markdown",
      "metadata": {
        "id": "YViEt5j49MSJ"
      },
      "source": [
        "\n",
        "\n",
        "---\n",
        "\n"
      ]
    },
    {
      "cell_type": "code",
      "metadata": {
        "id": "EsMAF1PU1n0O"
      },
      "source": [
        "feats = {}\n",
        "for token in doc:\n",
        "    if word_filter(token): continue\n",
        "    word = token.lemma_\n",
        "    feats[word] = {**tag[word], **pos[word], **triplas[word], **context_lft[word], **context_rgt[word]}"
      ],
      "execution_count": 318,
      "outputs": []
    },
    {
      "cell_type": "code",
      "metadata": {
        "id": "YhhsYVeMBwoi"
      },
      "source": [
        "feats"
      ],
      "execution_count": null,
      "outputs": []
    },
    {
      "cell_type": "markdown",
      "metadata": {
        "id": "E1ofl1-e16sY"
      },
      "source": [
        "Ahora comenzamos a trabajr con los datos luego de que esten preprocessados"
      ]
    },
    {
      "cell_type": "code",
      "metadata": {
        "id": "Sv3l53gHnGXB"
      },
      "source": [
        "from sklearn.feature_extraction import DictVectorizer\n",
        "# the class DictVectorizer can be used to convert feature arrays represented as \n",
        "# lists of standard Python dict objects to the NumPy/SciPy representation used\n",
        "# by scikit-learn estimators.\n",
        "vec = DictVectorizer(sparse=False)\n",
        "features = []\n",
        "key_words = {}\n",
        "wid = 0\n",
        "for word in feats:\n",
        "    key_words[word] = wid\n",
        "    wid += 1\n",
        "    features.append(feats[word])\n",
        "matrix = vec.fit_transform(X=features)\n"
      ],
      "execution_count": 319,
      "outputs": []
    },
    {
      "cell_type": "code",
      "metadata": {
        "id": "AIjwlbdTuEOE",
        "colab": {
          "base_uri": "https://localhost:8080/"
        },
        "outputId": "7a8c145f-1866-495b-9fbd-aa13c8c2426d"
      },
      "source": [
        "matrix_normed = matrix / matrix.max(axis=0)\n",
        "variances = np.square(matrix_normed).mean(axis=0) - np.square(matrix_normed.mean(axis=0))\n",
        "\n",
        "THRESHOLD_VARIANCES = 0.001 #\n",
        "red_matrix = np.delete(matrix_normed, np.where(variances < THRESHOLD_VARIANCES), axis=1)\n",
        "\n",
        "print(matrix.shape, matrix_normed.shape, red_matrix.shape)"
      ],
      "execution_count": 320,
      "outputs": [
        {
          "output_type": "stream",
          "name": "stdout",
          "text": [
            "(623, 67198) (623, 67198) (623, 67198)\n"
          ]
        }
      ]
    },
    {
      "cell_type": "code",
      "metadata": {
        "id": "jOW6LOYAosGp"
      },
      "source": [
        "from nltk.cluster import kmeans, cosine_distance\n",
        "#from sklearn.cluster import KMeans\n",
        "#from sklearn import preprocessing\n",
        "\n",
        "def clustering(k, matrix):\n",
        "    \"\"\"\n",
        "    k -> Cantidad de clusterers\n",
        "    \"\"\"\n",
        "    clusterer = kmeans.KMeansClusterer(num_means=k, distance=cosine_distance, avoid_empty_clusters=True)\n",
        "    clusters = clusterer.cluster(matrix, True)\n",
        "\n",
        "    #kmeans = KMeans(n_clusters=k).fit(preprocessing.normalize(matrix))\n",
        "    #clusterer = KMeans(n_clusters=k)\n",
        "    #kmeans.fit(matrix)\n",
        "    return clusters"
      ],
      "execution_count": 321,
      "outputs": []
    },
    {
      "cell_type": "code",
      "metadata": {
        "id": "qB7jvu4mouEA"
      },
      "source": [
        "NUM_CLUSTERS = 50\n",
        "cluster =  clustering(NUM_CLUSTERS, matrix_normed)"
      ],
      "execution_count": 324,
      "outputs": []
    },
    {
      "cell_type": "code",
      "metadata": {
        "colab": {
          "base_uri": "https://localhost:8080/"
        },
        "id": "uUmgmSe8VBLL",
        "outputId": "e40cba87-d4a0-4dcc-de1e-3b3ba45404de"
      },
      "source": [
        "#printer\n",
        "for i in range(NUM_CLUSTERS):\n",
        "    printer = [token for token in key_words if cluster[key_words[token]]==i]\n",
        "    print(printer)\n"
      ],
      "execution_count": 325,
      "outputs": [
        {
          "output_type": "stream",
          "name": "stdout",
          "text": [
            "['bueno', 'ese', 'cuestión', 'preguntar', 'comenzar', 'mi', 'cantidad', 'servicio', 'fuente', 'policial']\n",
            "['personal', 'cordobés', 'sistema', 'marchar', 'conseguir', 'electoral', 'posible', 'ejecutivo', 'brasileño', 'voto']\n",
            "['caminar', 'aumentar', 'apuntar', 'producción', 'restar']\n",
            "['cuatro', 'interesar', 'obrar', 'debatir', 'calificar', 'barrio', 'durante', 'internacional', 'mientras', 'armar', 'avanzar', 'salud', 'alrededor', 'prever', 'campaña', 'inflación', 'cargo', 'cuyo', 'chileno']\n",
            "['parejo', 'manera', 'llamar', 'recordar', 'noche', 'seguridad', 'cuestionar', 'ciudadano', 'plantar', 'capital', 'verde', 'niño', 'especial', 'ante', 'abogar', 'condicionar', 'vía']\n",
            "['ninguno', 'problema', 'colegio', 'reclamar', 'edilicio', 'colegiar']\n",
            "['no', 'sin', 'decir', 'casar', 'tiempo', 'llevar', 'uno', 'cuando', 'personar', 'con', 'acordar', 'seguir', 'contra', 'poder', 'general', 'estudiante', 'empezar', 'le', 'su', 'este', 'emplear', 'contar', 'venir', 'aguar', 'mucho', 'muy', 'infraestructura', 'ellos', 'clase', 'acto', 'diálogo', 'chico', 'él', 'profesor', 'subir', 'afirmar', 'mayor', 'suponer', 'único', 'declaración', 'ruta', 'provincial', 'relación', 'ingresar', 'seis', 'diferenciar', 'empresa', 'objetivar', 'asamblea', 'diario', 'aquel', 'propio', 'resultar', 'sedar', 'organización', 'destacar', 'federal', 'medio']\n",
            "['volver', 'agregar', 'funcionario', 'segundar']\n",
            "['esperar', 'generar', 'municipio', 'reservar', 'millón', 'dólar', 'reconocer']\n",
            "['dudar', 'admitir', 'antes', 'temer', 'superar', 'consultar', 'demostrar', 'tipo']\n",
            "['miércoles', 'social', 'atrás', 'funcionar', 'viernes', 'lunes', 'entregar', 'allí', 'jueves', 'decisión', 'sociedad', 'violencia', 'próximo', 'julio', 'trabajador', 'domingo']\n",
            "['ocho', 'cámara', 'fiesta']\n",
            "['anticipar', 'participar', 'plaza', 'realizar', 'aplicar', 'determinar', 'futuro', 'comunicar']\n",
            "['vida', 'llegar', 'calidad', 'zona', 'dato', 'según', 'acusar', 'gobierno']\n",
            "['sostener', 'conocer', 'asegurar', 'levantar', 'iniciar', 'respectar', 'diferente', 'investigación', 'rescatar', 'operativo', 'estudiar']\n",
            "['encontrar', 'incluir', 'producir', 'minero']\n",
            "['hijo', 'aportar', 'indicar', 'octubre', 'norte', 'padre', 'algo', 'representar', 'tampoco', 'adelantar', 'entonces', 'río']\n",
            "['reunir']\n",
            "['decidir', 'escuela', 'cumplir', 'nacional', 'político', 'semana', 'titular', 'organizar', 'senador', 'diputar', 'cargar', 'condenar', 'fijar']\n",
            "['conflicto', 'forzar', 'comprar', 'nosotros', 'nuestro', 'ejemplo', 'radical', 'dirigente', 'estrategia', 'impulsar', 'fallir']\n",
            "['informar', 'presentar', 'hacia', 'marcar', 'incluso', 'ratificar']\n",
            "['formar', 'abrir', 'creer', 'entender', 'final', 'sur']\n",
            "['hablar', 'morir', 'quedar', 'historia', 'alcanzar', 'sí', 'roca', 'instituto']\n",
            "['que', 'lo', 'ser', 'el', 'se', 'unir', 'año', 'estar', 'tener', 'en', 'de', 'del', 'haber', 'gran', 'ya', 'comer', 'parir', 'los', 'nuevo', 'al', 'parecer', 'través', 'mediar', 'por', 'también', 'largar', 'día', 'dejar', 'aunque', 'tomar', 'ayer', 'tres', 'septiembre', 'plan', 'desde', 'firmar', 'grupo', 'construir', 'ex', '\\ufeff1', 'pasar', 'deber', 'mirar', 'nivel', 'evitar', 'joven', 'donde', 'hoy', 'quien', 'total', 'ocurrir', 'suceder', 'interior', 'partir', 'ciento', 'presidente', 'centrar', 'público', 'área', 'director', 'país', 'hora', 'utilizar', 'anunciar', 'falto', 'plantear', 'marzo', 'mercar', 'valor', 'mes', 'municipal', 'peso', 'real', 'presupuestar', 'miembro', 'intendente', 'delito', 'votar', 'gobernador', 'gobernar', 'peronismo', 'secretario', 'apoyar', 'mandatario', 'tribunal', 'juez', 'convocar', 'juicio', 'similar', 'crimen', 'urna', 'organismo', 'robar', 'congreso']\n",
            "['perder', 'proyectar', 'discusión', 'casi', 'cerrar']\n",
            "['secundario', 'manifestar', 'década', 'acompañar', 'reunión', 'tras', 'alumno', 'carbó']\n",
            "['docente', 'democracia', 'procesar', 'deuda']\n",
            "['vivir', 'pedir', 'causar', 'considerar', 'definir', 'realidad', 'libertar']\n",
            "['les', 'cambiar', 'nunca', 'poner', 'sumar', 'advertir', 'porque', 'dar', 'sufrir', 'respuesta', 'declarar', 'resolver', 'ubicar', 'oficial', 'permitir', 'viajar', 'disponer', 'enero', 'confirmar', 'fondo']\n",
            "['movimiento', 'sólo', 'sentir', 'mejorar', 'proponer', 'desarrollar', 'mostrar', 'información', 'mañana', 'recibir', 'gestión', 'ideo', 'precio', 'demandar', 'región']\n",
            "['luego', 'argentino', '1', 'usar']\n",
            "['medir', 'mesar', 'corte', 'ministro', 'crisis', 'máximo', 'asistir', 'autoridad', 'amenazar', 'policía', 'técnico']\n",
            "['querer', 'vez', 'me', 'cada', 'primero', 'educación', 'último', 'cual', 'trabajo', 'tal', 'varios', 'hospital', 'administración', 'unión', 'villa']\n",
            "['número', 'actividad', 'librar', 'claro', 'alto', 'igual', 'respaldar', 'riesgo']\n",
            "['crecer', 'asir', 'yo', 'fin', 'periodista', 'mundo', 'ambos', 'médico']\n",
            "['ganar', 'mantener', 'edificio', 'vestir', 'gracia', 'punto', 'inversión', 'terminar', 'oposición']\n",
            "['hasta', 'jefe', 'agostar']\n",
            "['siempre', 'pensar', 'además', 'posición', 'golpe']\n",
            "['tan', 'todo', 'momento', 'si', 'centro', 'alguno', 'continuar', 'mejor', 'modo', 'sobrar', 'caso', 'implicar', 'kilómetro', 'lugar', 'accionar', 'ciudad', 'gente', 'educativo', 'fiscal']\n",
            "['mujer', 'ayudar', 'do', 'familia', 'hombre', 'denunciar', 'víctima']\n",
            "['necesario', 'participación', 'distinto', 'explicar', 'sector', 'iniciativo', 'intentar', 'aun', 'central', 'empresario', 'opositor', 'militar', 'necesitar', 'vecino']\n",
            "['ni', 'bien', 'ir', 'institución', 'ley', 'respetar', 'escuchar', 'dentro', 'nadie', 'fuerza', 'electrónico', 'justicia', 'paz']\n",
            "['trabajar', 'económico', 'responder', 'responsable', 'actual', 'privar', 'existir', 'principal', 'carne', 'destinar', 'producto', 'judicial', 'orden', 'estatal']\n",
            "['elegir', 'mil', 'compañero', 'protestar', 'bajar', 'comercio', 'localidad', 'ministerio']\n",
            "['después', 'basar', 'vario', 'fuerte', 'registrar', 'avenir', 'caer', 'señalar', 'caro']\n",
            "['tratar', 'qué', 'salir', 'requerir', 'democrático', 'todavía', 'imponer']\n",
            "['saber', 'embargar', 'solo', 'cómo', 'integrar', 'mayoría', 'legislador', 'aclarar', 'enviar', 'familiar', 'hecho', 'candidato', 'presidencial', 'elección', 'interno', 'quién', 'anoche', 'nación']\n",
            "['plazo', 'menos', 'recurso', 'reformar', 'cierto', 'provincia', 'pagar']\n",
            "['otro', 'coser', 'lado', 'entrar', 'tanto', 'aparecer', 'situación', 'juntar', 'derecho', 'población', 'rechazar', 'economía', 'jugar', 'frente', 'prensar']\n",
            "['sino', 'lograr', 'pero', 'hacer', 'más', 'nadar', 'mismo', 'difícil', 'grande', 'ver', 'ahora', 'mal', 'importante', 'posibilidad', 'cincar', 'poco', 'otorgar', 'tardar', 'buscar', 'obtener', 'local', 'universidad', 'programar', 'pesar', 'voz']\n"
          ]
        }
      ]
    },
    {
      "cell_type": "code",
      "metadata": {
        "colab": {
          "base_uri": "https://localhost:8080/"
        },
        "id": "OUkk7MBAuIfJ",
        "outputId": "ed506fd3-387d-4964-f8ef-c0b5c3b7fdbd"
      },
      "source": [
        "tsne = sklearn.manifold.TSNE(n_components=2, random_state=0, n_iter=250) #ultimo param para que sea mas rapido\n",
        "reduced_data = tsne.fit_transform(red_matrix)\n",
        "reduced_data.shape"
      ],
      "execution_count": 186,
      "outputs": [
        {
          "output_type": "execute_result",
          "data": {
            "text/plain": [
              "(623, 2)"
            ]
          },
          "metadata": {},
          "execution_count": 186
        }
      ]
    },
    {
      "cell_type": "markdown",
      "metadata": {
        "id": "8VCZw5ar8UMK"
      },
      "source": [
        "\n",
        "\n",
        "---\n",
        "\n"
      ]
    },
    {
      "cell_type": "code",
      "metadata": {
        "id": "AATyayQL5dHN"
      },
      "source": [
        "\n",
        "#from gensim.models.keyedvectors import KeyedVectors\n",
        "#wordvectors_file_vec = 'fasttext-sbwc.3.6.e20.vec'\n",
        "#cantidad = 100000\n",
        "#wordvectors = KeyedVectors.load_word2vec_format(wordvectors_file_vec, limit=cantidad)"
      ],
      "execution_count": 205,
      "outputs": []
    },
    {
      "cell_type": "markdown",
      "metadata": {
        "id": "4yRQ1KPb8UlO"
      },
      "source": [
        "\n",
        "\n",
        "---\n",
        "\n"
      ]
    },
    {
      "cell_type": "code",
      "metadata": {
        "id": "9O3i4qKaqvkU"
      },
      "source": [
        "aux = [(reduced_data[i], cluster[i], list(key_words.keys())[i]) for i in range(wid)]\n",
        "\n",
        "df_clustered = pd.DataFrame(\n",
        "    data=[(coords[0], coords[1], cluster, word) for coords, cluster, word in aux],\n",
        "    columns=[\"dim1\", \"dim2\", \"cluster\", \"word\"]\n",
        ")"
      ],
      "execution_count": 192,
      "outputs": []
    },
    {
      "cell_type": "code",
      "metadata": {
        "colab": {
          "base_uri": "https://localhost:8080/",
          "height": 204
        },
        "id": "XYxOj4RxyFyw",
        "outputId": "41649f97-92e1-406e-e9fc-be1fd2eebaec"
      },
      "source": [
        "df_clustered.head(5)"
      ],
      "execution_count": 193,
      "outputs": [
        {
          "output_type": "execute_result",
          "data": {
            "text/html": [
              "<div>\n",
              "<style scoped>\n",
              "    .dataframe tbody tr th:only-of-type {\n",
              "        vertical-align: middle;\n",
              "    }\n",
              "\n",
              "    .dataframe tbody tr th {\n",
              "        vertical-align: top;\n",
              "    }\n",
              "\n",
              "    .dataframe thead th {\n",
              "        text-align: right;\n",
              "    }\n",
              "</style>\n",
              "<table border=\"1\" class=\"dataframe\">\n",
              "  <thead>\n",
              "    <tr style=\"text-align: right;\">\n",
              "      <th></th>\n",
              "      <th>dim1</th>\n",
              "      <th>dim2</th>\n",
              "      <th>cluster</th>\n",
              "      <th>word</th>\n",
              "    </tr>\n",
              "  </thead>\n",
              "  <tbody>\n",
              "    <tr>\n",
              "      <th>0</th>\n",
              "      <td>-137.278732</td>\n",
              "      <td>-0.585916</td>\n",
              "      <td>28</td>\n",
              "      <td>que</td>\n",
              "    </tr>\n",
              "    <tr>\n",
              "      <th>1</th>\n",
              "      <td>-0.054679</td>\n",
              "      <td>-6.187678</td>\n",
              "      <td>20</td>\n",
              "      <td>sostener</td>\n",
              "    </tr>\n",
              "    <tr>\n",
              "      <th>2</th>\n",
              "      <td>-84.272118</td>\n",
              "      <td>-100.114372</td>\n",
              "      <td>28</td>\n",
              "      <td>lo</td>\n",
              "    </tr>\n",
              "    <tr>\n",
              "      <th>3</th>\n",
              "      <td>5.584235</td>\n",
              "      <td>-0.348193</td>\n",
              "      <td>7</td>\n",
              "      <td>parejo</td>\n",
              "    </tr>\n",
              "    <tr>\n",
              "      <th>4</th>\n",
              "      <td>3.574070</td>\n",
              "      <td>4.030209</td>\n",
              "      <td>28</td>\n",
              "      <td>ser</td>\n",
              "    </tr>\n",
              "  </tbody>\n",
              "</table>\n",
              "</div>"
            ],
            "text/plain": [
              "         dim1        dim2  cluster      word\n",
              "0 -137.278732   -0.585916       28       que\n",
              "1   -0.054679   -6.187678       20  sostener\n",
              "2  -84.272118 -100.114372       28        lo\n",
              "3    5.584235   -0.348193        7    parejo\n",
              "4    3.574070    4.030209       28       ser"
            ]
          },
          "metadata": {},
          "execution_count": 193
        }
      ]
    },
    {
      "cell_type": "code",
      "metadata": {
        "colab": {
          "base_uri": "https://localhost:8080/",
          "height": 428
        },
        "id": "KyANJ3zkrpAu",
        "outputId": "b5790751-aa1f-4303-ea19-0994146e7f99"
      },
      "source": [
        "plt.figure(figsize=(15, 7))\n",
        "plt.scatter(x=df_clustered['dim1'],y=df_clustered['dim2'], s=10, c=df_clustered['cluster'])\n",
        "for i in range(wid):\n",
        "    plt.annotate(df_clustered['word'][i], (df_clustered['dim1'][i], df_clustered['dim2'][i]))\n",
        "\n",
        "plt.show()"
      ],
      "execution_count": 194,
      "outputs": [
        {
          "output_type": "display_data",
          "data": {
            "image/png": "[encoded data removed]",
            "text/plain": [
              "<Figure size 1080x504 with 1 Axes>"
            ]
          },
          "metadata": {
            "needs_background": "light"
          }
        }
      ]
    }
  ]
}
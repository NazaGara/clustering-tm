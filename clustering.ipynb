{
  "nbformat": 4,
  "nbformat_minor": 0,
  "metadata": {
    "colab": {
      "name": "Clustering.ipynb",
      "provenance": [],
      "collapsed_sections": []
    },
    "kernelspec": {
      "display_name": "Python 3",
      "name": "python3"
    },
    "language_info": {
      "name": "python"
    }
  },
  "cells": [
    {
      "cell_type": "markdown",
      "metadata": {
        "id": "n5EtK5uP0Rnn"
      },
      "source": [
        "# Practico Clustering - Text Mining 2021\n",
        "\n",
        "Garagiola, Nazareno\n",
        "\n",
        "Clustering is the process of grouping a set of documents into clusters of similar documents\n"
      ]
    },
    {
      "cell_type": "markdown",
      "metadata": {
        "id": "Lc9-ZeNAcEkS"
      },
      "source": [
        "## Requerimientos"
      ]
    },
    {
      "cell_type": "code",
      "metadata": {
        "id": "ismoC-9AWgIi"
      },
      "source": [
        "import spacy\n",
        "import io\n",
        "import pandas as pd\n",
        "import numpy as np\n",
        "import matplotlib.pyplot as plt\n",
        "import sklearn.manifold\n",
        "from collections import Counter\n",
        "%matplotlib inline"
      ],
      "execution_count": 1,
      "outputs": []
    },
    {
      "cell_type": "code",
      "metadata": {
        "id": "37xIIBDoGMyZ"
      },
      "source": [
        "!python3 -m spacy download es_core_news_md > trash.txt\n",
        "#!python3 -m spacy download es_core_news_sm"
      ],
      "execution_count": 2,
      "outputs": []
    },
    {
      "cell_type": "markdown",
      "metadata": {
        "id": "cydONALzHXpy"
      },
      "source": [
        "\n",
        "\n",
        "---\n",
        "\n"
      ]
    },
    {
      "cell_type": "code",
      "metadata": {
        "id": "FwJKt-0Ly0d3"
      },
      "source": [
        "f = open(\"lavoztextodump.txt\", 'r')\n",
        "text = f.read()[:1000000] #[:1000000] \n",
        "text = text.replace('\"', '')\n",
        "text = text.replace('-\\n', '\\n')"
      ],
      "execution_count": 136,
      "outputs": []
    },
    {
      "cell_type": "code",
      "metadata": {
        "id": "BdiIU23Q4S6q"
      },
      "source": [
        "# antes de correr esto, hay que correr la instalacion y resetear el runtime\n",
        "nlp = spacy.load(\"es_core_news_md\", vectores=False, entity=False)\n",
        "\n",
        "lemmas = []\n",
        "words = []\n",
        "doc = nlp(text)\n",
        "for token in doc:\n",
        "    if len(token) > 1 and token.is_alpha: #alfabeticos e ignoro puntuaciones\n",
        "        lemmas.append(token.lemma_.lower())\n",
        "        words.append(token.text.lower())\n"
      ],
      "execution_count": 137,
      "outputs": []
    },
    {
      "cell_type": "markdown",
      "metadata": {
        "id": "npszwgIS6_aH"
      },
      "source": [
        "Si están trabajando en Colab, es normal que al hacer el load de Spacy aparezca un error.\n",
        "\n",
        "**`ModuleNotFoundError: No module named 'es_core_news_md'`**.\n",
        "\n",
        "Reinicien el Kernel/Runtime (usen el menú de arriba o el botón en la notebook), salteen la celda de instalación (la de abajo) y ejecuten la celda previa de vuelta. \n",
        "\n",
        "    `!python3 -m spacy download es_core_news_md > trash.txt`\n"
      ]
    },
    {
      "cell_type": "markdown",
      "metadata": {
        "id": "O_rfXxI0cB2j"
      },
      "source": [
        "## Preprocesamiento\n",
        "\n",
        "-> Preproceso: Lemmatizacion, catergoria morfosintactica (POS), etc\n",
        "\n",
        "-> Hacer diferentes aproximacione spara categorizar palabras, por contexto en diferentes tamaños de ventanas"
      ]
    },
    {
      "cell_type": "code",
      "metadata": {
        "id": "2aT0JwxvFlHt"
      },
      "source": [
        "counter_lemma = Counter(lemmas)\n",
        "counter_words = Counter(words) #tambien se podria usar este"
      ],
      "execution_count": 138,
      "outputs": []
    },
    {
      "cell_type": "markdown",
      "metadata": {
        "id": "tz8iOzUd5roE"
      },
      "source": [
        "Las triplas de dependencias son una forma de representar relaciones entre palabras. Si tengo una oración como \"El gato come pescado\", el análisis sintáctico de esa oración me dirá que gato es sujeto de comer, pescado es objeto de comer. Entonces, puedo representar la palabra gato diciendo que ocurrió una vez en el contexto X - sujeto - comer, y la palabra pescado diciendo que ocurrió una vez en el contexto X - objeto - comer. Entonces, mis dimensiones son estas triplas de la forma \"Palabra objetivo - Función sintáctica - Otra palabra\""
      ]
    },
    {
      "cell_type": "code",
      "metadata": {
        "id": "uPwvmQucCWm9"
      },
      "source": [
        "#most frequent words\n",
        "MIN_FREQ = 30\n",
        "#most_freq = []\n",
        "#for l in counter_lemma:\n",
        "#    if (counter_lemma[l] >= MIN_FREQ):\n",
        "#        most_freq.append(l)\n",
        "#print(f\"amount of lemmas that appear more than {MIN_FREQ} times: {len(most_freq)}\")\n",
        "\n",
        "def word_filter(token):\n",
        "    \"\"\"\n",
        "    Pequeña funcion que usaremos para filtrar las palabras\n",
        "    \"\"\"\n",
        "    return (not token.is_alpha or token.is_digit or not counter_lemma[token.lemma_] >= MIN_FREQ)\n"
      ],
      "execution_count": 184,
      "outputs": []
    },
    {
      "cell_type": "code",
      "metadata": {
        "id": "gV68ufqbuqSn"
      },
      "source": [
        "triplas = {}\n",
        "tag = {}\n",
        "pos = {}\n",
        "close_context = {}\n",
        "large_context = {}\n",
        "\n",
        "for token in doc:\n",
        "    if word_filter(token): continue\n",
        "    triplas[token.lemma_] = {}\n",
        "    tag[token.lemma_] = {}\n",
        "    pos[token.lemma_] = {}\n",
        "\n",
        "\n",
        "    close_context[token.lemma_] = {}\n",
        "    large_context[token.lemma_] = {}\n",
        "\n"
      ],
      "execution_count": 185,
      "outputs": []
    },
    {
      "cell_type": "code",
      "metadata": {
        "id": "ApSlmnUQygZF"
      },
      "source": [
        "for token in doc:\n",
        "    if word_filter(token): continue\n",
        "\n",
        "    i = token.i\n",
        "    word = token.lemma_.lower()\n",
        "    # Cargo part of speech de cada palabra\n",
        "    if not token.pos_ in pos[word].keys():\n",
        "        pos[word][token.pos_] = 0\n",
        "    pos[word][token.pos_] += 1\n",
        "\n",
        "    # Cargo tag de cada palabra\n",
        "    if not token.tag_ in tag[word].keys():\n",
        "        tag[word][token.tag_] = 0\n",
        "    tag[word][token.tag_] += 1\n",
        "\n",
        "\n",
        "    #contextos inmediatos\n",
        "#    if not i == 0:\n",
        "#        lft = doc[i - 1]\n",
        "#        c_izq = lft.lemma_\n",
        "#        if lft.is_digit:\n",
        "#            c_izq = \"NUM__\"\n",
        "#        if lft.is_alpha: # and counter_lemma[c_izq] > threshold_c:\n",
        "#            if not c_izq in context_lft[word].keys():\n",
        "#                context_lft[word][c_izq] = 0\n",
        "#            context_lft[word][c_izq] += 1\n",
        "#\n",
        "#     if not i == len(doc) - 1:\n",
        "#        rgt = doc[i + 1]\n",
        "#        c_der = rgt.lemma_\n",
        "#        if rgt.is_digit:\n",
        "#            c_der = \"NUM__\"\n",
        "#        if rgt.is_alpha: # and counter_lemma[c_der] > threshold_c:\n",
        "#            if not c_der in context_rgt[word].keys():\n",
        "#                context_rgt[word][c_der] = 0\n",
        "#            context_rgt[word][c_der] += 1\n",
        "\n",
        "\n",
        "    #Triplas de dependencias, aca dentro porque miro la siguiente si o si\n",
        "    if not i == len(doc) - 1:\n",
        "        tripla = (f\"obj: {word} - dep : {token.dep_} - root: {doc[i+1].head.lemma_}\") # - context: {span}\")\n",
        "        if not tripla in triplas[word].keys():\n",
        "            triplas[word][tripla] = 0\n",
        "        triplas[word][tripla] += 1\n"
      ],
      "execution_count": 186,
      "outputs": []
    },
    {
      "cell_type": "markdown",
      "metadata": {
        "id": "uV8Phw219L68"
      },
      "source": [
        "\n",
        "\n",
        "---\n",
        "\n"
      ]
    },
    {
      "cell_type": "code",
      "metadata": {
        "id": "PlBAt97gkcth"
      },
      "source": [
        "with open(\"stopwords.txt\",'r') as f:\n",
        "    stopwords = f.read().split('\\n')\n",
        "\n",
        "def not_a_stopword(token):\n",
        "    \"\"\"\n",
        "    Funcion que toma un token de Spacy y revisa que su lemma sea o on una \n",
        "    stopword en español\n",
        "    \"\"\"\n",
        "    return (token.is_alpha and (not token.lemma_.lower() in stopwords))\n",
        "\n",
        "\n",
        "def immediate_related_words(span):\n",
        "    tokens = list(filter(not_a_stopword, doc[close_lft:close_rgt]))\n",
        "    return list(map(lambda token: token.lemma_, tokens))\n",
        "\n",
        "def keywords_in(span):\n",
        "    tokens = list(filter(\n",
        "        lambda token: not word_filter(token) and not_a_stopword(token), span))\n",
        "    return list(map(lambda token: token.lemma_, tokens))\n"
      ],
      "execution_count": 159,
      "outputs": []
    },
    {
      "cell_type": "code",
      "metadata": {
        "id": "CK5we3Jx9LsG"
      },
      "source": [
        "close_window, large_window = 5, 20\n",
        "for token in doc:\n",
        "    if word_filter(token): continue\n",
        "    i = token.i\n",
        "    lemma = token.lemma_.lower()\n",
        "    # las que esten a una disntacia de 5, sin stopwords, las agrego al context total\n",
        "    # las que esten a una distancia de 20, agrego solo las roots\n",
        "    close_lft, close_rgt = i-close_window, i+close_window\n",
        "\n",
        "    if not close_lft <= 0 and close_rgt >= len(doc):\n",
        "        imm_related_words = immediate_related_words(doc[close_lft:close_rgt])\n",
        "        for word in imm_related_words:\n",
        "            if not word in close_context[lemma].keys():\n",
        "                close_context[lemma][word] = 0\n",
        "            close_context[lemma][word] += 1\n",
        "\n",
        "    large_lft, large_rgt = i-large_window, i+large_window\n",
        "    if not large_lft <= 0 and large_rgt >= len(doc):\n",
        "        keywords_in_context = keywords_in(doc[large_lft: large_rgt])\n",
        "        for word in keywords_in_context:\n",
        "            if not word in large_context[lemma].keys():\n",
        "                large_context[lemma][word] = 0\n",
        "            large_context[lemma][word] += 1\n"
      ],
      "execution_count": 187,
      "outputs": []
    },
    {
      "cell_type": "code",
      "metadata": {
        "id": "zivPsA7ZrXR4"
      },
      "source": [
        "close_context"
      ],
      "execution_count": null,
      "outputs": []
    },
    {
      "cell_type": "markdown",
      "metadata": {
        "id": "YViEt5j49MSJ"
      },
      "source": [
        "\n",
        "\n",
        "---\n",
        "\n"
      ]
    },
    {
      "cell_type": "code",
      "metadata": {
        "id": "EsMAF1PU1n0O"
      },
      "source": [
        "feats = {}\n",
        "for token in doc:\n",
        "    if word_filter(token): continue\n",
        "    word = token.lemma_\n",
        "    feats[word] = {**tag[word], **pos[word], **triplas[word], **large_context[word], **close_context[word]}"
      ],
      "execution_count": 188,
      "outputs": []
    },
    {
      "cell_type": "markdown",
      "metadata": {
        "id": "E1ofl1-e16sY"
      },
      "source": [
        "## Vectorización\n",
        "\n",
        "Ahora comenzamos a trabajr con los datos luego de que esten preprocessados"
      ]
    },
    {
      "cell_type": "code",
      "metadata": {
        "id": "Sv3l53gHnGXB"
      },
      "source": [
        "from sklearn.feature_extraction import DictVectorizer\n",
        "# the class DictVectorizer can be used to convert feature arrays represented as \n",
        "# lists of standard Python dict objects to the NumPy/SciPy representation used\n",
        "# by scikit-learn estimators.\n",
        "vec = DictVectorizer(sparse=False)\n",
        "features = []\n",
        "key_words = {}\n",
        "wid = 0\n",
        "for word in feats:\n",
        "    key_words[word] = wid\n",
        "    wid += 1\n",
        "    features.append(feats[word])\n",
        "matrix = vec.fit_transform(X=features)\n"
      ],
      "execution_count": 189,
      "outputs": []
    },
    {
      "cell_type": "code",
      "metadata": {
        "id": "AIjwlbdTuEOE",
        "colab": {
          "base_uri": "https://localhost:8080/"
        },
        "outputId": "afda0a8e-c44e-4e14-8f68-165451337806"
      },
      "source": [
        "matrix_normed = matrix / matrix.max(axis=0)\n",
        "variances = np.square(matrix_normed).mean(axis=0) - np.square(matrix_normed.mean(axis=0))\n",
        "\n",
        "THRESHOLD_VARIANCES = 0.001 #\n",
        "red_matrix = np.delete(matrix_normed, np.where(variances < THRESHOLD_VARIANCES), axis=1)\n",
        "\n",
        "print(matrix.shape, matrix_normed.shape, red_matrix.shape)"
      ],
      "execution_count": 190,
      "outputs": [
        {
          "output_type": "stream",
          "name": "stdout",
          "text": [
            "(623, 60116) (623, 60116) (623, 60116)\n"
          ]
        }
      ]
    },
    {
      "cell_type": "markdown",
      "metadata": {
        "id": "lMfqIgfKcXae"
      },
      "source": [
        "## Clustering"
      ]
    },
    {
      "cell_type": "code",
      "metadata": {
        "id": "jOW6LOYAosGp"
      },
      "source": [
        "from nltk.cluster import kmeans, cosine_distance\n",
        "#from sklearn.cluster import KMeans\n",
        "#from sklearn import preprocessing\n",
        "\n",
        "def clustering(k, matrix):\n",
        "    \"\"\"\n",
        "    k -> Cantidad de clusterers\n",
        "    \"\"\"\n",
        "    clusterer = kmeans.KMeansClusterer(num_means=k, distance=cosine_distance, avoid_empty_clusters=True)\n",
        "    clusters = clusterer.cluster(matrix, True)\n",
        "\n",
        "    #kmeans = KMeans(n_clusters=k).fit(preprocessing.normalize(matrix))\n",
        "    #clusterer = KMeans(n_clusters=k)\n",
        "    #kmeans.fit(matrix)\n",
        "    return clusters"
      ],
      "execution_count": 191,
      "outputs": []
    },
    {
      "cell_type": "code",
      "metadata": {
        "id": "qB7jvu4mouEA"
      },
      "source": [
        "NUM_CLUSTERS = 30\n",
        "cluster =  clustering(NUM_CLUSTERS, matrix_normed)"
      ],
      "execution_count": 192,
      "outputs": []
    },
    {
      "cell_type": "code",
      "metadata": {
        "colab": {
          "base_uri": "https://localhost:8080/"
        },
        "id": "uUmgmSe8VBLL",
        "outputId": "5ac68f05-e6a8-42c7-fa9f-ba1811be03e2"
      },
      "source": [
        "#printer\n",
        "for i in range(NUM_CLUSTERS):\n",
        "    printer = [token for token in key_words if cluster[key_words[token]]==i]\n",
        "    print(f\"Cluser {i}:\\n {printer}\")\n"
      ],
      "execution_count": 193,
      "outputs": [
        {
          "output_type": "stream",
          "name": "stdout",
          "text": [
            "Cluser 0:\n",
            " ['lo', 'el', 'se', 'sino', 'les', 'pero', 'me', 'los', 'ninguno', 'si', 'qué', 'aunque', 'institución', 'porque', 'alguno', 'le', 'su', 'nosotros', 'ellos', 'donde', 'quien', 'yo', 'él', 'nuestro', 'vario', 'mi', 'cómo', 'cual', 'mientras', 'aquel', 'nadie', 'varios', 'cuyo']\n",
            "Cluser 1:\n",
            " ['diferenciar']\n",
            "Cluser 2:\n",
            " ['colegio', 'centro', 'caso', 'kilómetro', 'dato', 'comercio', 'trabajo', 'hecho', 'precio', 'millón', 'cargo', 'voto', 'gobierno']\n",
            "Cluser 3:\n",
            " ['gracia']\n",
            "Cluser 4:\n",
            " ['alrededor']\n",
            "Cluser 5:\n",
            " ['parejo', 'casar', 'hijo', 'mujer', 'vez', 'comer', 'personar', 'coser', 'dudar', 'vida', 'manera', 'formar', 'medir', 'reformar', 'ley', 'obrar', 'escuela', 'forzar', 'posibilidad', 'familia', 'contar', 'aguar', 'mesar', 'noche', 'discusión', 'seguridad', 'mirar', 'causar', 'protestar', 'cuestión', 'infraestructura', 'calidad', 'proponer', 'participación', 'clase', 'sobrar', 'información', 'chico', 'preguntar', 'mañana', 'plantar', 'situación', 'profesor', 'plaza', 'respuesta', 'década', 'partir', 'cantidad', 'provincia', 'capital', 'investigación', 'gestión', 'zona', 'declaración', 'inversión', 'ruta', 'área', 'director', 'accionar', 'mayoría', 'hora', 'tardar', 'ciudad', 'población', 'reunión', 'producción', 'empresa', 'iniciativo', 'gente', 'actividad', 'corte', 'marchar', 'asamblea', 'denunciar', 'avenir', 'crisis', 'estrategia', 'armar', 'historia', 'falto', 'decisión', 'ideo', 'economía', 'sociedad', 'violencia', 'salud', 'semana', 'carne', 'dólar', 'cámara', 'sedar', 'organización', 'peso', 'demandar', 'inflación', 'realidad', 'democracia', 'universidad', 'candidato', 'elección', 'fuerza', 'posición', 'deuda', 'condicionar', 'fuente', 'autoridad', 'localidad', 'fiesta', 'víctima', 'prensar', 'libertar', 'oposición', 'quién', 'vía', 'región', 'alumno', 'administración', 'urna', 'justicia', 'paz', 'nación', 'roca', 'voz', 'unión', 'villa']\n",
            "Cluser 6:\n",
            " ['gran', 'difícil', 'grande', 'personal', 'general', 'importante', 'mejorar', 'mejor', 'diferente', 'social', 'total', 'fuerte', 'mayor', 'final', 'actual', 'nacional', 'internacional', 'provincial', 'radical', 'oficial', 'verde', 'principal', 'librar', 'familiar', 'especial', 'central', 'local', 'municipal', 'real', 'igual', 'electoral', 'posible', 'presidencial', 'federal', 'militar', 'estatal', 'policial', 'similar', 'fiscal']\n",
            "Cluser 7:\n",
            " ['cambiar', 'declarar', 'ubicar', 'rescatar', 'integrar', 'rechazar', 'enviar', 'disponer', 'asistir']\n",
            "Cluser 8:\n",
            " ['sostener', 'conocer', 'ir', 'acordar', 'ver', 'levantar', 'iniciar', 'volver', 'caer']\n",
            "Cluser 9:\n",
            " ['minero']\n",
            "Cluser 10:\n",
            " ['ese', 'reclamar', 'calificar', 'cuestionar', 'evitar', 'aportar', 'considerar', 'superar', 'reservar', 'estudiar', 'definir', 'representar', 'usar']\n",
            "Cluser 11:\n",
            " ['año', 'movimiento', 'tiempo', 'parir', 'momento', 'problema', 'sentir', 'plazo', 'proyectar', 'día', 'recurso', 'conflicto', 'plan', 'grupo', 'barrio', 'compañero', 'nivel', 'edificio', 'acto', 'diálogo', 'caminar', 'jefe', 'interior', 'sistema', 'presidente', 'temer', 'centrar', 'municipio', 'número', 'ejemplo', 'lugar', 'derecho', 'país', 'norte', 'sector', 'objetivar', 'funcionario', 'legislador', 'padre', 'ministro', 'colegiar', 'niño', 'producto', 'mercar', 'valor', 'mundo', 'mes', 'titular', 'servicio', 'presupuestar', 'miembro', 'delito', 'tipo', 'gobernador', 'diputar', 'restar', 'peronismo', 'secretario', 'abogar', 'tribunal', 'orden', 'sur', 'programar', 'riesgo', 'juicio', 'hospital', 'crimen', 'organismo', 'golpe', 'instituto', 'congreso']\n",
            "Cluser 12:\n",
            " ['elegir', 'debatir', 'admitir', 'responder', 'requerir', 'desarrollar', 'escuchar', 'registrar', 'bajar', 'consultar', 'informar', 'comunicar', 'respaldar', 'amenazar', 'ratificar']\n",
            "Cluser 13:\n",
            " ['unir', 'decir', 'tener', 'asegurar', 'llevar', 'lograr', 'pensar', 'hablar', 'hacer', 'vivir', 'seguir', 'perder', 'ayudar', 'trabajar', 'crecer', 'ganar', 'tratar', 'interesar', 'poner', 'mantener', 'tomar', 'decidir', 'sumar', 'pedir', 'advertir', 'saber', 'abrir', 'agregar', 'firmar', 'entrar', 'llegar', 'llamar', 'empezar', 'continuar', 'comprar', 'dar', 'morir', 'anticipar', 'construir', 'emplear', 'venir', 'recordar', 'creer', 'pasar', 'salir', 'quedar', 'esperar', 'participar', 'generar', 'manifestar', 'sufrir', 'mostrar', 'respetar', 'basar', 'vestir', 'entender', 'comenzar', 'aparecer', 'cumplir', 'encontrar', 'ocurrir', 'suceder', 'subir', 'afirmar', 'suponer', 'resolver', 'otorgar', 'implicar', 'aumentar', 'recibir', 'incluir', 'explicar', 'funcionar', 'apuntar', 'privar', 'realizar', 'acompañar', 'ingresar', 'cerrar', 'existir', 'indicar', 'reunir', 'aplicar', 'utilizar', 'permitir', 'determinar', 'buscar', 'aclarar', 'entregar', 'anunciar', 'terminar', 'intentar', 'demostrar', 'avanzar', 'jugar', 'plantear', 'obtener', 'viajar', 'destinar', 'conseguir', 'alcanzar', 'resultar', 'prever', 'presentar', 'organizar', 'señalar', 'imponer', 'impulsar', 'marcar', 'destacar', 'votar', 'procesar', 'acusar', 'adelantar', 'reconocer', 'apoyar', 'confirmar', 'producir', 'condenar', 'convocar', 'fijar', 'robar']\n",
            "Cluser 14:\n",
            " ['no', 'ni', 'bien', 'siempre', 'cuando', 'ya', 'más', 'sólo', 'ahora', 'menos', 'nunca', 'ayer', 'asir', 'después', 'mucho', 'muy', 'hoy', 'hasta', 'poco', 'luego', 'antes', 'atrás', 'todavía', 'casi', 'además', 'algo', 'dentro', 'aun', 'tampoco', 'incluso', 'entonces', 'anoche']\n",
            "Cluser 15:\n",
            " ['allí']\n",
            "Cluser 16:\n",
            " ['educación']\n",
            "Cluser 17:\n",
            " ['ciudadano']\n",
            "Cluser 18:\n",
            " ['campaña']\n",
            "Cluser 19:\n",
            " ['estar', 'querer', 'poder', 'dejar', 'deber', 'pagar', 'gobernar', 'necesitar', 'río', 'carbó']\n",
            "Cluser 20:\n",
            " ['hombre']\n",
            "Cluser 21:\n",
            " ['otro', 'cuatro', 'de', 'tan', 'uno', 'nadar', 'todo', 'do', 'través', 'mediar', 'también', 'contra', 'cada', 'lado', 'tres', 'miércoles', 'septiembre', 'desde', 'cincar', 'mil', 'este', 'tanto', 'respectar', 'modo', 'punto', 'ciento', 'relación', 'ocho', 'viernes', 'octubre', 'lunes', 'seis', 'fin', 'agostar', 'jueves', 'marzo', 'enero', 'frente', 'sí', 'julio', 'tal', 'caro', 'ambos', 'cargar', 'pesar', 'domingo']\n",
            "Cluser 22:\n",
            " ['estudiante', 'joven', 'docente', 'responsable', 'dirigente', 'periodista', 'intendente', 'juez', 'policía']\n",
            "Cluser 23:\n",
            " ['judicial']\n",
            "Cluser 24:\n",
            " ['fondo', 'ministerio']\n",
            "Cluser 25:\n",
            " ['mismo', 'nuevo', 'bueno', 'largar', 'económico', 'mal', 'necesario', 'primero', 'secundario', 'edilicio', 'ex', '\\ufeff1', 'solo', 'democrático', 'distinto', 'cierto', 'juntar', 'único', 'cordobés', 'público', 'operativo', 'último', 'futuro', 'educativo', 'diario', 'propio', 'político', 'segundar', 'próximo', 'argentino', 'claro', '1', 'alto', 'empresario', 'opositor', 'trabajador', 'mandatario', 'máximo', 'interno', 'ejecutivo', 'medio', 'brasileño', 'electrónico', 'chileno', 'técnico', 'médico']\n",
            "Cluser 26:\n",
            " ['que', 'ser', 'sin', 'en', 'del', 'haber', 'con', 'al', 'parecer', 'por', 'durante', 'según', 'hacia', 'ante', 'tras']\n",
            "Cluser 27:\n",
            " ['vecino']\n",
            "Cluser 28:\n",
            " ['senador']\n",
            "Cluser 29:\n",
            " ['embargar', 'fallir']\n"
          ]
        }
      ]
    },
    {
      "cell_type": "code",
      "metadata": {
        "colab": {
          "base_uri": "https://localhost:8080/"
        },
        "id": "OUkk7MBAuIfJ",
        "outputId": "f2ba7d18-6981-4e7f-9a69-7ae047b44be8"
      },
      "source": [
        "tsne = sklearn.manifold.TSNE(n_components=2, random_state=0, n_iter=500) #ultimo param para que sea mas rapido\n",
        "reduced_data = tsne.fit_transform(red_matrix)\n",
        "reduced_data.shape"
      ],
      "execution_count": 194,
      "outputs": [
        {
          "output_type": "execute_result",
          "data": {
            "text/plain": [
              "(623, 2)"
            ]
          },
          "metadata": {},
          "execution_count": 194
        }
      ]
    },
    {
      "cell_type": "markdown",
      "metadata": {
        "id": "8VCZw5ar8UMK"
      },
      "source": [
        "\n",
        "\n",
        "---\n",
        "\n"
      ]
    },
    {
      "cell_type": "code",
      "metadata": {
        "id": "AATyayQL5dHN"
      },
      "source": [
        "\n",
        "#from gensim.models.keyedvectors import KeyedVectors\n",
        "#wordvectors_file_vec = 'fasttext-sbwc.3.6.e20.vec'\n",
        "#cantidad = 100000\n",
        "#wordvectors = KeyedVectors.load_word2vec_format(wordvectors_file_vec, limit=cantidad)"
      ],
      "execution_count": null,
      "outputs": []
    },
    {
      "cell_type": "markdown",
      "metadata": {
        "id": "4yRQ1KPb8UlO"
      },
      "source": [
        "\n",
        "\n",
        "---\n",
        "\n"
      ]
    },
    {
      "cell_type": "code",
      "metadata": {
        "id": "9O3i4qKaqvkU"
      },
      "source": [
        "aux = [(reduced_data[i], cluster[i], list(key_words.keys())[i]) for i in range(wid)]\n",
        "\n",
        "df_clustered = pd.DataFrame(\n",
        "    data=[(coords[0], coords[1], cluster, word) for coords, cluster, word in aux],\n",
        "    columns=[\"dim1\", \"dim2\", \"cluster\", \"word\"]\n",
        ")"
      ],
      "execution_count": 195,
      "outputs": []
    },
    {
      "cell_type": "code",
      "metadata": {
        "colab": {
          "base_uri": "https://localhost:8080/",
          "height": 421
        },
        "id": "XYxOj4RxyFyw",
        "outputId": "a45c041c-d847-4bd1-c8b2-971256f3cbca"
      },
      "source": [
        "df_clustered.head(12)"
      ],
      "execution_count": 196,
      "outputs": [
        {
          "output_type": "execute_result",
          "data": {
            "text/html": [
              "<div>\n",
              "<style scoped>\n",
              "    .dataframe tbody tr th:only-of-type {\n",
              "        vertical-align: middle;\n",
              "    }\n",
              "\n",
              "    .dataframe tbody tr th {\n",
              "        vertical-align: top;\n",
              "    }\n",
              "\n",
              "    .dataframe thead th {\n",
              "        text-align: right;\n",
              "    }\n",
              "</style>\n",
              "<table border=\"1\" class=\"dataframe\">\n",
              "  <thead>\n",
              "    <tr style=\"text-align: right;\">\n",
              "      <th></th>\n",
              "      <th>dim1</th>\n",
              "      <th>dim2</th>\n",
              "      <th>cluster</th>\n",
              "      <th>word</th>\n",
              "    </tr>\n",
              "  </thead>\n",
              "  <tbody>\n",
              "    <tr>\n",
              "      <th>0</th>\n",
              "      <td>-3.486666</td>\n",
              "      <td>-1.606278</td>\n",
              "      <td>26</td>\n",
              "      <td>que</td>\n",
              "    </tr>\n",
              "    <tr>\n",
              "      <th>1</th>\n",
              "      <td>26.032471</td>\n",
              "      <td>41.081249</td>\n",
              "      <td>8</td>\n",
              "      <td>sostener</td>\n",
              "    </tr>\n",
              "    <tr>\n",
              "      <th>2</th>\n",
              "      <td>-0.597063</td>\n",
              "      <td>0.942119</td>\n",
              "      <td>0</td>\n",
              "      <td>lo</td>\n",
              "    </tr>\n",
              "    <tr>\n",
              "      <th>3</th>\n",
              "      <td>-7.578181</td>\n",
              "      <td>31.245062</td>\n",
              "      <td>5</td>\n",
              "      <td>parejo</td>\n",
              "    </tr>\n",
              "    <tr>\n",
              "      <th>4</th>\n",
              "      <td>3.584965</td>\n",
              "      <td>6.297052</td>\n",
              "      <td>26</td>\n",
              "      <td>ser</td>\n",
              "    </tr>\n",
              "    <tr>\n",
              "      <th>5</th>\n",
              "      <td>1.514896</td>\n",
              "      <td>2.713315</td>\n",
              "      <td>0</td>\n",
              "      <td>el</td>\n",
              "    </tr>\n",
              "    <tr>\n",
              "      <th>6</th>\n",
              "      <td>-5.320522</td>\n",
              "      <td>0.822581</td>\n",
              "      <td>14</td>\n",
              "      <td>no</td>\n",
              "    </tr>\n",
              "    <tr>\n",
              "      <th>7</th>\n",
              "      <td>-1.575621</td>\n",
              "      <td>-3.828439</td>\n",
              "      <td>0</td>\n",
              "      <td>se</td>\n",
              "    </tr>\n",
              "    <tr>\n",
              "      <th>8</th>\n",
              "      <td>57.198891</td>\n",
              "      <td>64.471397</td>\n",
              "      <td>13</td>\n",
              "      <td>unir</td>\n",
              "    </tr>\n",
              "    <tr>\n",
              "      <th>9</th>\n",
              "      <td>-23.010143</td>\n",
              "      <td>17.741329</td>\n",
              "      <td>26</td>\n",
              "      <td>sin</td>\n",
              "    </tr>\n",
              "    <tr>\n",
              "      <th>10</th>\n",
              "      <td>-14.136957</td>\n",
              "      <td>-77.389076</td>\n",
              "      <td>21</td>\n",
              "      <td>otro</td>\n",
              "    </tr>\n",
              "    <tr>\n",
              "      <th>11</th>\n",
              "      <td>87.963936</td>\n",
              "      <td>44.067345</td>\n",
              "      <td>14</td>\n",
              "      <td>ni</td>\n",
              "    </tr>\n",
              "  </tbody>\n",
              "</table>\n",
              "</div>"
            ],
            "text/plain": [
              "         dim1       dim2  cluster      word\n",
              "0   -3.486666  -1.606278       26       que\n",
              "1   26.032471  41.081249        8  sostener\n",
              "2   -0.597063   0.942119        0        lo\n",
              "3   -7.578181  31.245062        5    parejo\n",
              "4    3.584965   6.297052       26       ser\n",
              "5    1.514896   2.713315        0        el\n",
              "6   -5.320522   0.822581       14        no\n",
              "7   -1.575621  -3.828439        0        se\n",
              "8   57.198891  64.471397       13      unir\n",
              "9  -23.010143  17.741329       26       sin\n",
              "10 -14.136957 -77.389076       21      otro\n",
              "11  87.963936  44.067345       14        ni"
            ]
          },
          "metadata": {},
          "execution_count": 196
        }
      ]
    },
    {
      "cell_type": "code",
      "metadata": {
        "colab": {
          "base_uri": "https://localhost:8080/",
          "height": 486
        },
        "id": "KyANJ3zkrpAu",
        "outputId": "7f3784db-063c-4814-dbb2-7cd7114563e4"
      },
      "source": [
        "plt.figure(figsize=(20, 8))\n",
        "plt.scatter(x=df_clustered['dim1'],y=df_clustered['dim2'], s=10, c=df_clustered['cluster'])\n",
        "for i in range(wid):\n",
        "    plt.annotate(df_clustered['word'][i], (df_clustered['dim1'][i], df_clustered['dim2'][i]))\n",
        "\n",
        "plt.show()"
      ],
      "execution_count": 197,
      "outputs": [
        {
          "output_type": "display_data",
          "data": {
            "image/png": "[encoded data removed]",
            "text/plain": [
              "<Figure size 1440x576 with 1 Axes>"
            ]
          },
          "metadata": {
            "needs_background": "light"
          }
        }
      ]
    }
  ]
}
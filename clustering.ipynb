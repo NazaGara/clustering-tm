{
  "nbformat": 4,
  "nbformat_minor": 2,
  "metadata": {
    "colab": {
      "name": "clustering.ipynb",
      "provenance": [],
      "collapsed_sections": [
        "Lc9-ZeNAcEkS"
      ]
    },
    "kernelspec": {
      "display_name": "Python 3",
      "name": "python3"
    },
    "language_info": {
      "name": "python"
    }
  },
  "cells": [
    {
      "cell_type": "markdown",
      "source": [
        "# Práctico 1: Clustering - Text Mining 2021\n",
        "\n",
        "Notebook sobre el práctico 1 de la materia Mineria de Texto para Datos, materia correspondiente de la carrera Lic. En Ciencias de la Computación de FaMAF, UNC.\n",
        "\n",
        "Estudiante: Garagiola Nazareno\n"
      ],
      "metadata": {
        "id": "n5EtK5uP0Rnn"
      }
    },
    {
      "cell_type": "markdown",
      "source": [
        "Clustering es el proceso de agrupar un conjunto de elementos (en este caso de palabras) que tengan similitudes.\n",
        "Hipotesis de Clustering: Palabras en el mismo cluster, tienen un comportamiento similar con respecto a la informacion que contienen."
      ],
      "metadata": {
        "id": "u4344Z2xzYK2"
      }
    },
    {
      "cell_type": "markdown",
      "source": [
        "---\n",
        "## Requerimientos\n",
        "\n",
        "Instalamos las librerias necesarias para el procesamiento."
      ],
      "metadata": {
        "id": "Lc9-ZeNAcEkS"
      }
    },
    {
      "cell_type": "code",
      "execution_count": 1,
      "source": [
        "!python3 -m spacy download es_core_news_md > trash.txt"
      ],
      "outputs": [],
      "metadata": {
        "id": "37xIIBDoGMyZ"
      }
    },
    {
      "cell_type": "code",
      "execution_count": 148,
      "source": [
        "import spacy\n",
        "import pandas as pd\n",
        "import numpy as np\n",
        "import matplotlib.pyplot as plt\n",
        "from collections import Counter\n",
        "%matplotlib inline"
      ],
      "outputs": [],
      "metadata": {
        "id": "ismoC-9AWgIi"
      }
    },
    {
      "cell_type": "markdown",
      "source": [
        "---\n",
        "## Carga del Corpus\n",
        "\n",
        "Leemos el corpus a estudiar, hacemos algunos reemplazos para correjir un poco el texto.\n",
        "\n",
        "Tomamos los primeros 0.5 M - 2 caracteres (ese numero ya que coincide con el fin de un parrafo)."
      ],
      "metadata": {
        "id": "rCTdZzDfVJAK"
      }
    },
    {
      "cell_type": "code",
      "execution_count": 220,
      "source": [
        "f = open(\"lavoztextodump.txt\", 'r')\n",
        "text = f.read()[:500000-2] \n",
        "text = text.replace('\"', '')\n",
        "text = text.replace('-\\n', '\\n')\n",
        "text = text.replace('&#','')"
      ],
      "outputs": [],
      "metadata": {
        "id": "FwJKt-0Ly0d3"
      }
    },
    {
      "cell_type": "markdown",
      "source": [
        "Cargamos el texto usando [Spacy](https://spacy.io/), tomamos los lemmas del texto y las palabras que aparezcan. Luego, hago un conteo de la cantidad de lemmas que aparecieron en el documento."
      ],
      "metadata": {
        "id": "1cQZyxIesMz5"
      }
    },
    {
      "cell_type": "code",
      "execution_count": 221,
      "source": [
        "nlp = spacy.load(\"es_core_news_md\", vectores=False, entity=False)\n",
        "\n",
        "lemmas = []\n",
        "words = []\n",
        "doc = nlp(text)\n",
        "for token in doc:\n",
        "    if len(token) > 1 and token.is_alpha: # and not token.is_ascii and not token.is_digit:\n",
        "        lemmas.append(token.lemma_.lower())\n",
        "        words.append(token.text)\n",
        "\n",
        "counter_lemma = Counter(lemmas)"
      ],
      "outputs": [],
      "metadata": {
        "id": "BdiIU23Q4S6q"
      }
    },
    {
      "cell_type": "markdown",
      "source": [
        "Si están trabajando en Colab, es normal que al hacer el load de Spacy aparezca un error.\n",
        "\n",
        "**`ModuleNotFoundError: No module named 'es_core_news_md'`**.\n",
        "\n",
        "Reinicien el Kernel/Runtime (usen el menú de arriba Runtime->restart runtime) y salteen la celda de instalación (la primera que dice lo de abajo).\n",
        "\n",
        "    !python3 -m spacy download es_core_news_md > trash.txt\n"
      ],
      "metadata": {
        "id": "npszwgIS6_aH"
      }
    },
    {
      "cell_type": "markdown",
      "source": [
        "---\n",
        "## Preprocesamiento\n",
        "\n",
        "Definimos algunas funciones que nos van a servir para poder filtrar palabras y poder seleccionar que palabras del documento vamos a analizar. Luego cargamos diccionarios con las caracteristicas de cada palabra que serviran para poder vectorizar estos lemmas.\n",
        "En la variable MIN_FREQ especificamos la cantidad minima de veces que queremos que aparezca cada lemma a estudiar. "
      ],
      "metadata": {
        "id": "O_rfXxI0cB2j"
      }
    },
    {
      "cell_type": "code",
      "execution_count": 222,
      "source": [
        "MIN_FREQ = 30\n",
        "\n",
        "def word_filter(token):\n",
        "    \"\"\"\n",
        "    Pequeña funcion que usaremos para filtrar las palabras\n",
        "    \"\"\"\n",
        "    return (not token.is_alpha) or (token.is_digit) or counter_lemma[token.lemma_] < MIN_FREQ\n",
        "\n",
        "with open(\"stopwords.txt\",'r') as s:\n",
        "    stopwords = s.read().split('\\n')\n",
        "\n",
        "def not_a_stopword(token):\n",
        "    \"\"\"\n",
        "    Funcion que toma un token de Spacy y revisa que su lemma sea o on una \n",
        "    stopword en español\n",
        "    \"\"\"\n",
        "    return (token.is_alpha and (not token.lemma_.lower() in stopwords))\n",
        "\n",
        "\n",
        "def immediate_related_words(span):\n",
        "    \"\"\"\n",
        "    Funcion que a partir de un Span (parte continua del doc) retorna una lista\n",
        "    con los lemmas de las palabras que no sean stopwords\n",
        "    \"\"\"\n",
        "    tokens = list(filter(not_a_stopword, doc[close_lft:close_rgt]))\n",
        "    return list(map(lambda token: token.lemma_, tokens))\n",
        "\n",
        "def keywords_in(span):\n",
        "    \"\"\"\n",
        "    Funcion que a partir de un Span, retorna una lista con los lemmas de las \n",
        "    palabras del span que no sean stopwords ni tampoco no sean relevantes.\n",
        "    (la funcion )\n",
        "    \"\"\"\n",
        "    tokens = list(filter(\n",
        "        lambda token: not word_filter(token) and not_a_stopword(token), span))\n",
        "    return list(map(lambda token: token.lemma_, tokens))\n"
      ],
      "outputs": [],
      "metadata": {
        "id": "uPwvmQucCWm9"
      }
    },
    {
      "cell_type": "code",
      "execution_count": 223,
      "source": [
        "count = 0\n",
        "for word in counter_lemma:\n",
        "    count += 1 if counter_lemma[word] >= MIN_FREQ else 0\n",
        "print(f\"Cantidad de lemmas a estudiar: {count}\")"
      ],
      "outputs": [
        {
          "output_type": "stream",
          "name": "stdout",
          "text": [
            "Cantidad de lemmas a estudiar: 298\n"
          ]
        }
      ],
      "metadata": {
        "colab": {
          "base_uri": "https://localhost:8080/"
        },
        "id": "YcgM_VTvuRiU",
        "outputId": "2ccc18a0-e0df-4bc9-e6f6-bfebecd64222"
      }
    },
    {
      "cell_type": "markdown",
      "source": [
        "Creo diccionarios para cada una de las caracteristicas y los inicializo para cada lemma que pasan el filtro.\n",
        "\n",
        "* Part of Speech\n",
        "* Dependencias\n",
        "* Contexto cercano sin stopwords\n",
        "* Contexto mayor, con palabras claves\n",
        "* Triplas de dependencias"
      ],
      "metadata": {
        "id": "ipijpXQKn87t"
      }
    },
    {
      "cell_type": "code",
      "execution_count": 224,
      "source": [
        "triplas = {}\n",
        "tag = {}\n",
        "pos = {}\n",
        "close_context = {}\n",
        "large_context = {}\n",
        "\n",
        "for token in doc:\n",
        "    if word_filter(token): continue\n",
        "    triplas[token.lemma_] = {}\n",
        "    tag[token.lemma_] = {}\n",
        "    pos[token.lemma_] = {}\n",
        "    close_context[token.lemma_] = {}\n",
        "    large_context[token.lemma_] = {}"
      ],
      "outputs": [],
      "metadata": {
        "id": "gV68ufqbuqSn"
      }
    },
    {
      "cell_type": "markdown",
      "source": [
        "Cargo cada diccionario para cada palabra que pasa el filtro, con las caracteristicas que seleccionamos.\n",
        "\n",
        "Definimos dos variables para el tamaño de ventana de los dos contextos que tomamos, el inmediato y el mayor.\n",
        "\n"
      ],
      "metadata": {
        "id": "Iy3ZL0UKnX6L"
      }
    },
    {
      "cell_type": "code",
      "execution_count": null,
      "source": [
        "close_window, large_window = 3, 20\n",
        "for token in doc:\n",
        "    if word_filter(token): continue\n",
        "\n",
        "    i = token.i\n",
        "    word = token.lemma_.lower()\n",
        "    # Cargo part of speech de cada palabra lematizada\n",
        "    if not token.pos_ in pos[word].keys():\n",
        "        pos[word][token.pos_] = 0\n",
        "    pos[word][token.pos_] += 1\n",
        "\n",
        "    # Cargo tag de cada palabra lematizada\n",
        "    if not token.tag_ in tag[word].keys():\n",
        "        tag[word][token.tag_] = 0\n",
        "    tag[word][token.tag_] += 1\n",
        "\n",
        "    #Triplas de dependencias. Notar que busco el root de la frase en la que la \n",
        "    #palabra siguiente este, y esta puede no necesariamente estar en mis palabras\n",
        "    #claves que superan el filtro.\n",
        "    if not i == len(doc) - 1:\n",
        "        tripla = (f\"obj: {word} - dep : {token.dep_} - root: {doc[i+1].head.lemma_}\") # - context: {span}\")\n",
        "        if not tripla in triplas[word].keys():\n",
        "            triplas[word][tripla] = 0\n",
        "        triplas[word][tripla] += 1\n",
        "\n",
        "    #contexto inmediato, con una ventana 1 de distancia, sin stopwords\n",
        "    close_lft, close_rgt = i-close_window, i+close_window\n",
        "    if not (close_lft <= 0 and close_rgt >= len(doc)):\n",
        "        imm_related_words = immediate_related_words(doc[close_lft:close_rgt])\n",
        "        for w in imm_related_words:\n",
        "            if w == word: continue\n",
        "            if not w in close_context[word].keys():\n",
        "                close_context[word][w] = 0\n",
        "            close_context[word][w] += 1\n",
        "\n",
        "    #contexto mas grande, solo de las palabras que me interesan sin stopwords\n",
        "    #y que van a estar en un cluster luego.\n",
        "    large_lft, large_rgt = i-large_window, i+large_window\n",
        "    if not (large_lft <= 0 and large_rgt >= len(doc)):\n",
        "        keywords_in_context = keywords_in(doc[large_lft: large_rgt])\n",
        "        for w in keywords_in_context:\n",
        "            if w == word: continue\n",
        "            if not w in large_context[word].keys():\n",
        "                large_context[word][w] = 0\n",
        "            large_context[word][w] += 1\n",
        "\n",
        "\"\"\"\n",
        "for sent in doc.sents:\n",
        "    for token in sent:\n",
        "        if word_filter(token): continue\n",
        "        i = token.i\n",
        "        word = token.lemma_.lower()\n",
        "        keywords_in_context = keywords_in(sent)\n",
        "        for w in keywords_in_context:\n",
        "            if w != word and not w in large_context[word].keys():\n",
        "                large_context[word][w] = 0\n",
        "            large_context[word][w] += 1\n",
        "\"\"\"\n",
        "pass\n",
        "#arriba, otra forma para tomar el large_context"
      ],
      "outputs": [],
      "metadata": {
        "id": "ApSlmnUQygZF"
      }
    },
    {
      "cell_type": "markdown",
      "source": [
        "Cargamos todas las caracteristicas que recogimos y las agrupamos en un nuevo diccionario cuyas claves tambien son las palabras lematizadas que analizamos."
      ],
      "metadata": {
        "id": "q8nRsEyY3fVy"
      }
    },
    {
      "cell_type": "code",
      "execution_count": 226,
      "source": [
        "feats = {}\n",
        "for token in doc:\n",
        "    if word_filter(token): continue\n",
        "    word = token.lemma_\n",
        "    feats[word] = {**tag[word], **pos[word], **triplas[word], **large_context[word], **close_context[word]}"
      ],
      "outputs": [],
      "metadata": {
        "id": "EsMAF1PU1n0O"
      }
    },
    {
      "cell_type": "code",
      "execution_count": null,
      "source": [
        "print(f\"Sample word 'que': {feats['que']}\")"
      ],
      "outputs": [],
      "metadata": {
        "id": "AJ25zsxt2V6b",
        "colab": {
          "base_uri": "https://localhost:8080/"
        },
        "outputId": "2d76007a-5b68-481e-d7ed-7c64ba2141bb"
      }
    },
    {
      "cell_type": "markdown",
      "source": [
        "---\n",
        "## Vectorización\n",
        "\n",
        "Luego del pre-procesamiento, tenemos un diccionario de la forma {\"palabra\":\"caracteristicas\"}. A este le removemos las claves e ingresamos las caracteristicas (que son un diccionario) a un arreglo, el cual [DictVectorizer](https://scikit-learn.org/stable/modules/generated/sklearn.feature_extraction.DictVectorizer.html) lo transformara en una matriz, con filas que representan las palabras y en cada columna un valor para cada caracteristica."
      ],
      "metadata": {
        "id": "E1ofl1-e16sY"
      }
    },
    {
      "cell_type": "code",
      "execution_count": 228,
      "source": [
        "from sklearn.feature_extraction import DictVectorizer\n",
        "\n",
        "vectorizer = DictVectorizer(sparse=False)\n",
        "features, key_words, wid = [], {}, 0\n",
        "for word in feats:\n",
        "    key_words[word] = wid\n",
        "    wid += 1\n",
        "    features.append(feats[word])\n",
        "matrix = vectorizer.fit_transform(X=features)\n"
      ],
      "outputs": [],
      "metadata": {
        "id": "Sv3l53gHnGXB"
      }
    },
    {
      "cell_type": "markdown",
      "source": [
        "Ahora debemos normalizar la matriz (es decir, que los vectores tengan valores en el intervalo [0,1] y con norma 1).\n",
        "\n",
        "Usamos [VarianceThreshold](https://scikit-learn.org/stable/modules/generated/sklearn.feature_selection.VarianceThreshold.html), otra herramienta de sklearn para poder reducir la dimensionalidad de la matrix y descartar aquellos valores que tengan poca varianza, es decir caracteristicas que no varien mucho entre las palabras.\n",
        "\n",
        "El valor VARIANCE_THRESHOLD es definido por el usuario"
      ],
      "metadata": {
        "id": "GAbH4E-j5EnH"
      }
    },
    {
      "cell_type": "code",
      "execution_count": 229,
      "source": [
        "from sklearn.preprocessing import normalize\n",
        "from sklearn.feature_selection import VarianceThreshold\n",
        "\n",
        "VARIANCE_THRESHOLD = 1e-7\n",
        "\n",
        "selector = VarianceThreshold(threshold=VARIANCE_THRESHOLD)\n",
        "\n",
        "normed_matrix = normalize(matrix, axis=1, norm='l1')\n",
        "\n",
        "reduced_matrix = selector.fit_transform(normed_matrix)\n",
        "\n",
        "print(matrix.shape, normed_matrix.shape, reduced_matrix.shape)"
      ],
      "outputs": [
        {
          "output_type": "stream",
          "name": "stdout",
          "text": [
            "(273, 34988) (273, 34988) (273, 2731)\n"
          ]
        }
      ],
      "metadata": {
        "id": "AIjwlbdTuEOE",
        "colab": {
          "base_uri": "https://localhost:8080/"
        },
        "outputId": "242cde95-8d63-41fb-cc46-d2cfd9b2a51a"
      }
    },
    {
      "cell_type": "markdown",
      "source": [
        "---\n",
        "## Clustering\n",
        "\n",
        "Una vez que ya tenemos nuestra matriz de caracteristicas como vectores normalizada y reducida, la usamos para alimentar la funcion que nos arma los clusters. \n",
        "\n",
        "Usamos las implementaciones de [nltk](https://tedboy.github.io/nlps/generated/generated/nltk.cluster.KMeansClusterer.html) y sklearn: [KMeans](https://scikit-learn.org/stable/modules/generated/sklearn.cluster.KMeans.html).\n",
        "\n",
        "En la version de ntlk, usamos la distancia coseno, y en la version de sklearn usamos distancia euclidea, como los valores de la matriz se encuentran normalizados, son muy similares ambos metodos.\n"
      ],
      "metadata": {
        "id": "lMfqIgfKcXae"
      }
    },
    {
      "cell_type": "code",
      "execution_count": 230,
      "source": [
        "from nltk.cluster import kmeans, cosine_distance\n",
        "\n",
        "def ntlk_clustering(k, matrix):\n",
        "    \"\"\"\n",
        "    k -> Cantidad de clusterers\n",
        "    \"\"\"\n",
        "    clusterer = kmeans.KMeansClusterer(num_means=k, distance=cosine_distance, avoid_empty_clusters=True)\n",
        "    clusters = clusterer.cluster(matrix, assign_clusters=True)\n",
        "    return clusters\n",
        "\n",
        "from sklearn.cluster import KMeans\n",
        "\n",
        "def sklearn_clustering(k, matrix):\n",
        "    clusterer = KMeans(n_clusters=k)\n",
        "    clusterer.fit(X=matrix)\n",
        "    return clusterer.labels_"
      ],
      "outputs": [],
      "metadata": {
        "id": "jOW6LOYAosGp"
      }
    },
    {
      "cell_type": "markdown",
      "source": [
        "Podemos elejir la cantidad de clusters que deseamos, modifciando la variable NUM_CLUSTERS"
      ],
      "metadata": {
        "id": "kIVBMOfn38Fd"
      }
    },
    {
      "cell_type": "code",
      "execution_count": 240,
      "source": [
        "NUM_CLUSTERS = 30\n",
        "ntlk_cluster =  ntlk_clustering(NUM_CLUSTERS, reduced_matrix)\n",
        "sk_cluster = sklearn_clustering(NUM_CLUSTERS, reduced_matrix)"
      ],
      "outputs": [],
      "metadata": {
        "id": "qB7jvu4mouEA"
      }
    },
    {
      "cell_type": "markdown",
      "source": [
        "A continuacion, dos celdas para imprimir los clusters."
      ],
      "metadata": {
        "id": "1LEfybv54F4L"
      }
    },
    {
      "cell_type": "code",
      "execution_count": 241,
      "source": [
        "for i in range(NUM_CLUSTERS):\n",
        "    c = [token for token in key_words if ntlk_cluster[key_words[token]]==i]\n",
        "    print(f\"Cluster {i}:\\n {c}\")"
      ],
      "outputs": [
        {
          "output_type": "stream",
          "name": "stdout",
          "text": [
            "Cluster 0:\n",
            " ['tener', 'querer', 'tratar', 'saber', 'venir', 'existir']\n",
            "Cluster 1:\n",
            " ['conocer', 'llevar', 'hablar', 'hacer', 'ir', 'vivir', 'seguir', 'ver', 'ganar', 'elegir', 'dejar', 'poner', 'mantener', 'decidir', 'sumar', 'abrir', 'llegar', 'llamar', 'dar', 'creer', 'salir', 'esperar', 'participar', 'mostrar', 'comenzar', 'cumplir', 'realizar', 'permitir', 'terminar', 'plantear', 'caer', 'presentar']\n",
            "Cluster 2:\n",
            " ['lo', 'el', 'otro', 'uno', 'los', 'todo', 'mismo', 'ese', 'ninguno', 'cada', 'alguno', 'su', 'este', 'mucho', 'distinto', 'nuestro', 'mi', 'propio']\n",
            "Cluster 3:\n",
            " ['que', 'se', 'unir', 'les', 'me', 'nadar', 'qué', 'le', 'ellos', 'donde', 'quien', 'él', 'cual']\n",
            "Cluster 4:\n",
            " ['estudiante', 'joven', 'juez']\n",
            "Cluster 5:\n",
            " ['mesar', 'ciudadano', 'chico', 'corte', 'peso', 'voto', 'alumno', 'gobierno']\n",
            "Cluster 6:\n",
            " ['nuevo', 'bueno', 'económico', 'primero', 'ex', '\\ufeff1', 'único', 'cordobés', 'público', 'último', 'político', 'próximo', 'alto']\n",
            "Cluster 7:\n",
            " ['cambiar', 'sentir', 'trabajar', 'ingresar', 'intentar', 'pagar', 'resultar', 'marcar', 'votar']\n",
            "Cluster 8:\n",
            " ['democrático', 'argentino', 'interno']\n",
            "Cluster 9:\n",
            " ['decir', 'asegurar', 'quedar', 'ocurrir', 'recibir', 'indicar', 'señalar']\n",
            "Cluster 10:\n",
            " ['no', 'bien', 'siempre', 'ya', 'más', 'sólo', 'también', 'ahora', 'menos', 'ayer', 'después', 'muy', 'hoy', 'poco', 'mañana', 'luego', 'antes', 'casi', 'además']\n",
            "Cluster 11:\n",
            " ['sostener', 'lograr', 'pedir', 'pasar', 'encontrar', 'informar', 'viajar']\n",
            "Cluster 12:\n",
            " ['justicia']\n",
            "Cluster 13:\n",
            " ['cuatro', 'cuando', 'comer', 'do', 'si', 'aunque', 'tres', 'porque', 'cincar', 'mil', 'ciento', 'mientras']\n",
            "Cluster 14:\n",
            " ['sin', 'en', 'de', 'del', 'parir', 'con', 'al', 'por', 'contra', 'desde', 'entrar', 'durante', 'sobrar', 'hasta', 'bajar', 'según', 'ante', 'tras']\n",
            "Cluster 15:\n",
            " ['año', 'hijo', 'día', 'plan', 'punto', 'partir', 'derecho', 'sector', 'legislador', 'candidato', 'vecino']\n",
            "Cluster 16:\n",
            " ['servicio']\n",
            "Cluster 17:\n",
            " ['gran', 'grande', 'general', 'importante', 'mejor', 'social', 'mayor', 'nacional', 'provincial', 'oficial', 'electoral', 'presidencial', 'federal']\n",
            "Cluster 18:\n",
            " ['dirigente', 'intendente', 'policía']\n",
            "Cluster 19:\n",
            " ['millón']\n",
            "Cluster 20:\n",
            " ['río']\n",
            "Cluster 21:\n",
            " ['interior']\n",
            "Cluster 22:\n",
            " ['acordar', 'tanto', 'frente']\n",
            "Cluster 23:\n",
            " ['mujer', 'vez', 'vida', 'manera', 'formar', 'medir', 'ley', 'educación', 'posibilidad', 'situación', 'provincia', 'capital', 'gestión', 'zona', 'ruta', 'ciudad', 'empresa', 'historia', 'decisión', 'sociedad', 'semana', 'democracia', 'elección', 'roca']\n",
            "Cluster 24:\n",
            " ['ni', 'sino', 'pero']\n",
            "Cluster 25:\n",
            " ['tomar', 'volver', 'contar', 'denunciar']\n",
            "Cluster 26:\n",
            " ['casar', 'tiempo', 'momento', 'proyectar', 'conflicto', 'debatir', 'grupo', 'embargar', 'acto', 'jefe', 'hombre', 'sistema', 'presidente', 'lugar', 'país', 'fin', 'ministro', 'diario', 'mes', 'gobernador', 'gobernar', 'peronismo', 'apoyar', 'golpe']\n",
            "Cluster 27:\n",
            " ['ser', 'estar', 'haber', 'parecer', 'poder', 'deber']\n",
            "Cluster 28:\n",
            " ['personar', 'coser', 'institución', 'hora', 'cámara']\n",
            "Cluster 29:\n",
            " ['obrar', 'escuela', 'fuente', 'autoridad']\n"
          ]
        }
      ],
      "metadata": {
        "id": "uUmgmSe8VBLL",
        "colab": {
          "base_uri": "https://localhost:8080/"
        },
        "outputId": "18853221-e2bd-4271-ed01-28cc589e0dcf"
      }
    },
    {
      "cell_type": "code",
      "execution_count": 242,
      "source": [
        "for i in range(NUM_CLUSTERS):\n",
        "    c = [token for token in key_words if sk_cluster[key_words[token]]==i]\n",
        "    print(f\"Cluster {i}:\\n {c}\")"
      ],
      "outputs": [
        {
          "output_type": "stream",
          "name": "stdout",
          "text": [
            "Cluster 0:\n",
            " ['ser', 'estar', 'haber', 'parecer', 'poder', 'deber']\n",
            "Cluster 1:\n",
            " ['mujer', 'vez', 'vida', 'manera', 'formar', 'medir', 'ley', 'educación', 'posibilidad', 'situación', 'partir', 'provincia', 'capital', 'gestión', 'zona', 'ruta', 'ciudad', 'empresa', 'historia', 'decisión', 'sociedad', 'semana', 'democracia', 'elección', 'roca']\n",
            "Cluster 2:\n",
            " ['otro', 'todo', 'mismo', 'ninguno', 'alguno', 'mucho', 'distinto', 'propio']\n",
            "Cluster 3:\n",
            " ['en', 'de', 'parir', 'con', 'por', 'desde']\n",
            "Cluster 4:\n",
            " ['tener', 'conocer', 'llevar', 'lograr', 'querer', 'hablar', 'vivir', 'ver', 'tratar', 'mantener', 'sumar', 'saber', 'llegar', 'dar', 'venir', 'creer', 'esperar', 'participar', 'cumplir', 'realizar', 'existir', 'permitir', 'plantear']\n",
            "Cluster 5:\n",
            " ['bien', 'siempre', 'ya', 'más', 'sólo', 'también', 'ahora', 'menos', 'ayer', 'después', 'muy', 'hoy', 'poco', 'mañana', 'luego', 'antes', 'casi', 'además']\n",
            "Cluster 6:\n",
            " ['casar', 'hijo', 'tiempo', 'acordar', 'momento', 'proyectar', 'conflicto', 'debatir', 'grupo', 'embargar', 'acto', 'jefe', 'hombre', 'interior', 'sistema', 'presidente', 'lugar', 'derecho', 'país', 'fin', 'ministro', 'diario', 'mes', 'gobernador', 'peronismo', 'apoyar', 'golpe']\n",
            "Cluster 7:\n",
            " ['general', 'tanto', 'frente']\n",
            "Cluster 8:\n",
            " ['sin', 'contra', 'entrar', 'durante', 'sobrar', 'hasta', 'bajar', 'según', 'ante', 'tras']\n",
            "Cluster 9:\n",
            " ['cuatro', 'do', 'tres', 'cincar', 'mil']\n",
            "Cluster 10:\n",
            " ['que', 'cuando', 'comer', 'si', 'aunque', 'porque', 'mientras']\n",
            "Cluster 11:\n",
            " ['ni', 'sino', 'pero']\n",
            "Cluster 12:\n",
            " ['le']\n",
            "Cluster 13:\n",
            " ['nuevo', 'bueno', 'económico', 'primero', 'ex', '\\ufeff1', 'democrático', 'único', 'cordobés', 'público', 'último', 'político', 'próximo', 'argentino', 'alto', 'interno']\n",
            "Cluster 14:\n",
            " ['año', 'día', 'plan', 'ciudadano', 'chico', 'punto', 'sector', 'legislador', 'servicio', 'candidato', 'vecino', 'alumno']\n",
            "Cluster 15:\n",
            " ['gran', 'grande', 'importante', 'mejor', 'social', 'mayor', 'nacional', 'provincial', 'oficial', 'electoral', 'presidencial', 'federal']\n",
            "Cluster 16:\n",
            " ['justicia']\n",
            "Cluster 17:\n",
            " ['personar', 'coser', 'institución', 'obrar', 'escuela', 'hora', 'cámara', 'fuente', 'autoridad']\n",
            "Cluster 18:\n",
            " ['río']\n",
            "Cluster 19:\n",
            " ['cambiar', 'sentir', 'trabajar', 'contar', 'ingresar', 'denunciar', 'intentar', 'pagar', 'resultar', 'marcar', 'votar', 'gobernar']\n",
            "Cluster 20:\n",
            " ['se', 'unir', 'me', 'nadar', 'qué', 'ellos', 'donde', 'quien', 'él', 'cual']\n",
            "Cluster 21:\n",
            " ['sostener', 'decir', 'asegurar', 'hacer', 'ir', 'seguir', 'ganar', 'elegir', 'dejar', 'poner', 'tomar', 'decidir', 'pedir', 'volver', 'abrir', 'llamar', 'pasar', 'salir', 'quedar', 'mostrar', 'comenzar', 'encontrar', 'ocurrir', 'recibir', 'indicar', 'informar', 'terminar', 'viajar', 'caer', 'presentar', 'señalar']\n",
            "Cluster 22:\n",
            " ['les']\n",
            "Cluster 23:\n",
            " ['estudiante', 'joven', 'dirigente', 'intendente', 'juez', 'policía']\n",
            "Cluster 24:\n",
            " ['no']\n",
            "Cluster 25:\n",
            " ['del', 'al']\n",
            "Cluster 26:\n",
            " ['ciento']\n",
            "Cluster 27:\n",
            " ['el']\n",
            "Cluster 28:\n",
            " ['mesar', 'corte', 'millón', 'peso', 'voto', 'gobierno']\n",
            "Cluster 29:\n",
            " ['lo', 'uno', 'los', 'ese', 'cada', 'su', 'este', 'nuestro', 'mi']\n"
          ]
        }
      ],
      "metadata": {
        "id": "X4tEzL1cKVvP",
        "colab": {
          "base_uri": "https://localhost:8080/"
        },
        "outputId": "c945926a-01ef-4ca6-f708-f6a320aa25dc"
      }
    },
    {
      "cell_type": "code",
      "execution_count": 172,
      "source": [
        "def diff_between_clusters(c1, c2, key):\n",
        "    \"\"\"\n",
        "    Funcion que a partir de una palabra y dos conjuntos de clusters, retorna\n",
        "    los elementos que no estan en los clusters.\n",
        "    \"\"\"\n",
        "    diff = {'c1-c2': [], 'c2-c1': []}\n",
        "    X = [word for word in key_words if c1[key_words[word]]==c1[key_words[key]]]\n",
        "    Y = [word for word in key_words if c2[key_words[word]]==c2[key_words[key]]]\n",
        "\n",
        "    for elem in X:\n",
        "        if not elem in Y:\n",
        "            diff['c1-c2'].append(elem)\n",
        "\n",
        "    for elem in Y:\n",
        "        if not elem in X:\n",
        "            diff['c2-c1'].append(elem)\n",
        "    \n",
        "    return diff"
      ],
      "outputs": [],
      "metadata": {
        "id": "tgqSL_c5iKkB"
      }
    },
    {
      "cell_type": "code",
      "execution_count": 247,
      "source": [
        "diff_between_clusters(sk_cluster, ntlk_cluster, 'estudiante')"
      ],
      "outputs": [
        {
          "output_type": "execute_result",
          "data": {
            "text/plain": [
              "{'c1-c2': ['dirigente', 'intendente', 'policía'], 'c2-c1': []}"
            ]
          },
          "metadata": {},
          "execution_count": 247
        }
      ],
      "metadata": {
        "colab": {
          "base_uri": "https://localhost:8080/"
        },
        "id": "ZNLJY5ZU4fMl",
        "outputId": "1ec9c2b6-6230-4384-d47b-48337fef91e8"
      }
    },
    {
      "cell_type": "markdown",
      "source": [
        "---\n",
        "## Dimensionalidad y Embeddings\n",
        "\n",
        "Para aplicar Embeddings uso las implementaciones de LSA y de t-sne que posee sklearn [TruncatedSVD](https://scikit-learn.org/stable/modules/generated/sklearn.decomposition.TruncatedSVD.html) y [TSNE](https://scikit-learn.org/stable/modules/generated/sklearn.manifold.TSNE.html)\n",
        "\n",
        "Con la primera, hago reducción a 100 dimensiones y con t-sne reduzco a dos dimensiones, para poder visualizar los clusters.\n"
      ],
      "metadata": {
        "id": "5QApuD8d8q9O"
      }
    },
    {
      "cell_type": "code",
      "execution_count": 248,
      "source": [
        "from sklearn.decomposition import TruncatedSVD\n",
        "from sklearn.manifold import TSNE\n",
        "\n",
        "svd = TruncatedSVD(n_components=100, n_iter=5)\n",
        "lsa_data = svd.fit_transform(X=normed_matrix)\n",
        "\n",
        "\n",
        "tsne = TSNE(n_components=2, random_state=0, n_iter=500) #ultimo param para que sea mas rapido\n",
        "tsne_data = tsne.fit_transform(reduced_matrix)\n",
        "\n",
        "tsne_data.shape, lsa_data.shape"
      ],
      "outputs": [
        {
          "output_type": "execute_result",
          "data": {
            "text/plain": [
              "((273, 2), (273, 100))"
            ]
          },
          "metadata": {},
          "execution_count": 248
        }
      ],
      "metadata": {
        "colab": {
          "base_uri": "https://localhost:8080/"
        },
        "id": "91A7Z9tn8uD0",
        "outputId": "99405807-93bd-4413-9f6e-a95b4917ca4f"
      }
    },
    {
      "cell_type": "code",
      "execution_count": 251,
      "source": [
        "data = [(tsne_data[i], sk_cluster[i], list(key_words.keys())[i]) for i in range(wid)]\n",
        "df_clustered = pd.DataFrame(\n",
        "    data=[(coords[0], coords[1], cluster, word) for coords, cluster, word in data],\n",
        "    columns=[\"dim1\", \"dim2\", \"cluster\", \"word\"]\n",
        ")"
      ],
      "outputs": [],
      "metadata": {
        "id": "9O3i4qKaqvkU"
      }
    },
    {
      "cell_type": "code",
      "execution_count": 252,
      "source": [
        "plt.figure(figsize=(20, 8))\n",
        "plt.scatter(x=df_clustered['dim1'],y=df_clustered['dim2'], s=10, c=df_clustered['cluster'], cmap='cividis', alpha=1)\n",
        "#para mostrar el texto de cada punto, descomentar las dos lineas siguientes.\n",
        "\n",
        "#for i in range(wid):\n",
        "#    plt.annotate(df_clustered['word'][i], (df_clustered['dim1'][i], df_clustered['dim2'][i]))\n",
        "\n",
        "plt.show()"
      ],
      "outputs": [
        {
          "output_type": "display_data",
          "data": {
            "image/png": "[encoded data removed]",
            "text/plain": [
              "<Figure size 1440x576 with 1 Axes>"
            ]
          },
          "metadata": {
            "needs_background": "light"
          }
        }
      ],
      "metadata": {
        "colab": {
          "base_uri": "https://localhost:8080/",
          "height": 483
        },
        "id": "KyANJ3zkrpAu",
        "outputId": "9cb9f651-1a16-4141-973f-7dfa533e0073"
      }
    }
  ]
}
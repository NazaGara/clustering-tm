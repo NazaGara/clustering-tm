{
  "nbformat": 4,
  "nbformat_minor": 0,
  "metadata": {
    "colab": {
      "name": "Clustering.ipynb",
      "provenance": [],
      "collapsed_sections": []
    },
    "kernelspec": {
      "name": "python3",
      "display_name": "Python 3"
    },
    "language_info": {
      "name": "python"
    }
  },
  "cells": [
    {
      "cell_type": "markdown",
      "metadata": {
        "id": "n5EtK5uP0Rnn"
      },
      "source": [
        "# Practico Clustering - Text Mining 2021\n",
        "\n",
        "Garagiola, Nazareno\n",
        "\n",
        "\n",
        "clustering is the process of grouping a set of\n",
        "documents into clusters of similar documents\n",
        "\n",
        "\n",
        "-> Preproceso: Lemmatizacion, catergoria morfosintactica (POS), etc\n",
        "\n",
        "-> Hacer diferentes aproximacione spara categorizar palabras, por contexto en diferentes tamaños de ventanas"
      ]
    },
    {
      "cell_type": "code",
      "metadata": {
        "id": "ismoC-9AWgIi"
      },
      "source": [
        "import spacy\n",
        "import io\n",
        "import pandas as pd\n",
        "import numpy as np\n",
        "import matplotlib.pyplot as plt\n",
        "import sklearn.manifold\n",
        "from collections import Counter\n",
        "%matplotlib inline"
      ],
      "execution_count": 3,
      "outputs": []
    },
    {
      "cell_type": "code",
      "metadata": {
        "id": "37xIIBDoGMyZ"
      },
      "source": [
        "!python3 -m spacy download es_core_news_md > trash.txt\n",
        "#!python3 -m spacy download es_core_news_sm"
      ],
      "execution_count": 2,
      "outputs": []
    },
    {
      "cell_type": "markdown",
      "metadata": {
        "id": "cydONALzHXpy"
      },
      "source": [
        "\n",
        "\n",
        "---\n",
        "\n"
      ]
    },
    {
      "cell_type": "code",
      "metadata": {
        "id": "FwJKt-0Ly0d3"
      },
      "source": [
        "filename = \"lavoztextodump.txt\"\n",
        "f = open(filename, 'r')\n",
        "text = f.read()[:100000] #[:100000] \n",
        "text = text.replace('\"', '')\n",
        "text = text.replace('-\\n', '\\n')"
      ],
      "execution_count": 57,
      "outputs": []
    },
    {
      "cell_type": "code",
      "metadata": {
        "id": "BdiIU23Q4S6q"
      },
      "source": [
        "# antes de correr esto, hay que correr la instalacion y resetear el runtime\n",
        "nlp = spacy.load(\"es_core_news_md\", vectores=False, entity=False)\n",
        "\n",
        "lemmas = words = []\n",
        "doc = nlp(text)\n",
        "for token in doc:\n",
        "    if len(token) > 1 and token.is_alpha: #alfabeticos e ignoro puntuaciones\n",
        "        lemmas.append(token.lemma_.lower())\n",
        "        words.append(token.text.lower())\n"
      ],
      "execution_count": 58,
      "outputs": []
    },
    {
      "cell_type": "code",
      "metadata": {
        "id": "2aT0JwxvFlHt"
      },
      "source": [
        "counter_lemma = Counter(lemmas)\n",
        "counter_words = Counter(words) #anecdotico nomas"
      ],
      "execution_count": 59,
      "outputs": []
    },
    {
      "cell_type": "markdown",
      "metadata": {
        "id": "tz8iOzUd5roE"
      },
      "source": [
        "Las triplas de dependencias son una forma de representar relaciones entre palabras. Si tengo una oración como \"El gato come pescado\", el análisis sintáctico de esa oración me dirá que gato es sujeto de comer, pescado es objeto de comer. Entonces, puedo representar la palabra gato diciendo que ocurrió una vez en el contexto X - sujeto - comer, y la palabra pescado diciendo que ocurrió una vez en el contexto X - objeto - comer. Entonces, mis dimensiones son estas triplas de la forma \"Palabra objetivo - Función sintáctica - Otra palabra\""
      ]
    },
    {
      "cell_type": "code",
      "metadata": {
        "colab": {
          "base_uri": "https://localhost:8080/"
        },
        "id": "uPwvmQucCWm9",
        "outputId": "274c621f-461f-4ecf-b74c-e62a29e4d003"
      },
      "source": [
        "#most frequent words\n",
        "MIN_FREQ = 10\n",
        "most_freq = []\n",
        "for w in counter_lemma:\n",
        "    if (counter_lemma[w]>=MIN_FREQ):\n",
        "        most_freq.append(w)\n",
        "print(f\"amount of words that appear more than {MIN_FREQ} times: {str(len(most_freq))}\")\n",
        "\n",
        "def word_filter(token):\n",
        "    \"\"\"\n",
        "    Pequeña funcion que usaremos para filtrar las palabras\n",
        "    \"\"\"\n",
        "    return (not token.is_alpha or token.is_digit or not token.lemma_ in most_freq)"
      ],
      "execution_count": 60,
      "outputs": [
        {
          "output_type": "stream",
          "name": "stdout",
          "text": [
            "amount of words that appear more than 10 times: 404\n"
          ]
        }
      ]
    },
    {
      "cell_type": "code",
      "metadata": {
        "id": "gV68ufqbuqSn"
      },
      "source": [
        "triplas = {}\n",
        "tag = {}\n",
        "pos = {}\n",
        "\n",
        "for token in doc[1:]:\n",
        "    #if not token.is_alpha or token.is_digit or counter_words[token.text] < word_threshold: continue\n",
        "    if word_filter(token): continue\n",
        "    triplas[token.text] = {}\n",
        "    tag[token.text] = {}\n",
        "    pos[token.text] = {}\n"
      ],
      "execution_count": 61,
      "outputs": []
    },
    {
      "cell_type": "code",
      "metadata": {
        "id": "H6XvYtN8nGZU"
      },
      "source": [
        "for token in doc[1:-1]:\n",
        "    #if not token.is_alpha or token.is_digit or counter_words[token.text] < word_threshold: continue\n",
        "    if word_filter(token): continue\n",
        "    i = token.i\n",
        "    #notar que filtre el token, pero no el contexto del mismo\n",
        "    span = doc[i - 1: i + 3]\n",
        "\n",
        "    tripla = (f\"obj: {token.text} - dep : {token.dep_} - nxt: {doc[i+1].lemma_}\") # - context: {span}\")\n",
        "    if not tripla in triplas[token.text].keys():\n",
        "        triplas[token.text][tripla] = 0\n",
        "    triplas[token.text][tripla] += 1\n",
        "\n",
        "    #triplas[token.text].append({token.i : tripla})"
      ],
      "execution_count": 62,
      "outputs": []
    },
    {
      "cell_type": "code",
      "metadata": {
        "id": "ApSlmnUQygZF"
      },
      "source": [
        "for token in doc[1:]:\n",
        "    #if not token.is_alpha or token.is_digit or counter_words[token.text] < word_threshold: continue\n",
        "    if word_filter(token): continue\n",
        "    \n",
        "    if not token.pos_ in pos[token.text].keys():\n",
        "        pos[token.text][token.pos_] = 0\n",
        "    pos[token.text][token.pos_] += 1\n",
        "\n",
        "    if not token.tag_ in tag[token.text].keys():\n",
        "        tag[token.text][token.tag_] = 0\n",
        "    tag[token.text][token.tag_] += 1\n"
      ],
      "execution_count": 63,
      "outputs": []
    },
    {
      "cell_type": "code",
      "metadata": {
        "id": "EsMAF1PU1n0O"
      },
      "source": [
        "feats = {}\n",
        "for token in doc:\n",
        "    #if not token.is_alpha or token.is_digit or counter_words[token.text] < word_threshold: continue\n",
        "    if word_filter(token): continue\n",
        "    word = token.text\n",
        "    feats[word] = [tag[word], pos[word], triplas[word]]\n",
        "    #feats[word] = [triplas[word]]"
      ],
      "execution_count": 64,
      "outputs": []
    },
    {
      "cell_type": "code",
      "metadata": {
        "id": "dBfCqT70nGRX"
      },
      "source": [
        "feats"
      ],
      "execution_count": null,
      "outputs": []
    },
    {
      "cell_type": "markdown",
      "metadata": {
        "id": "E1ofl1-e16sY"
      },
      "source": [
        ""
      ]
    },
    {
      "cell_type": "code",
      "metadata": {
        "id": "Sv3l53gHnGXB"
      },
      "source": [
        "from sklearn.feature_extraction import DictVectorizer\n",
        "# the class DictVectorizer can be used to convert feature arrays represented as \n",
        "# lists of standard Python dict objects to the NumPy/SciPy representation used\n",
        "# by scikit-learn estimators.\n",
        "vec = DictVectorizer(sparse=False)\n",
        "features = []\n",
        "for token in doc:\n",
        "    #if not token.is_alpha or token.is_digit or counter_words[token.text] < word_threshold: continue\n",
        "    if word_filter(token): continue\n",
        "    word = token.text\n",
        "    features += feats[word]\n",
        "\n",
        "matrix = vec.fit_transform(X=features)"
      ],
      "execution_count": 65,
      "outputs": []
    },
    {
      "cell_type": "code",
      "metadata": {
        "id": "AIjwlbdTuEOE"
      },
      "source": [
        "matrix_normed = matrix / matrix.max(axis=0)\n",
        "variances = np.square(matrix_normed).mean(axis=0) - np.square(matrix_normed.mean(axis=0))\n",
        "\n",
        "threshold_variances = 0.001\n",
        "red_matrix = np.delete(matrix_normed, np.where(variances < threshold_variances), axis=1)"
      ],
      "execution_count": 66,
      "outputs": []
    },
    {
      "cell_type": "code",
      "metadata": {
        "id": "OUkk7MBAuIfJ"
      },
      "source": [
        "tsne = sklearn.manifold.TSNE(n_components=2, random_state=0, n_iter=250) #ultimo param para que sea mas rapido\n",
        "matrix_dicc2d = tsne.fit_transform(red_matrix)\n",
        "matrix_dicc2d.shape"
      ],
      "execution_count": null,
      "outputs": []
    },
    {
      "cell_type": "code",
      "metadata": {
        "id": "WXa8iihgFauB"
      },
      "source": [
        "#np.hstack((matrix_dicc2d, most_freq))\n",
        "tagged_matrix = []\n",
        "for i in range(len(most_freq)):\n",
        "    tagged_matrix.append([matrix_dicc2d[i][0],matrix_dicc2d[i][1],most_freq[i]])\n",
        "\n",
        "#tagged_matrix"
      ],
      "execution_count": 16,
      "outputs": []
    },
    {
      "cell_type": "code",
      "metadata": {
        "colab": {
          "base_uri": "https://localhost:8080/",
          "height": 173
        },
        "id": "V6rxB0TaGk_L",
        "outputId": "9f296a7a-7a53-4506-b577-f7b834b9eef6"
      },
      "source": [
        "df = pd.DataFrame(data= tagged_matrix, columns=['dim1','dim2',\"word\"] )\n",
        "df.head(5)"
      ],
      "execution_count": 17,
      "outputs": [
        {
          "output_type": "execute_result",
          "data": {
            "text/html": [
              "<div>\n",
              "<style scoped>\n",
              "    .dataframe tbody tr th:only-of-type {\n",
              "        vertical-align: middle;\n",
              "    }\n",
              "\n",
              "    .dataframe tbody tr th {\n",
              "        vertical-align: top;\n",
              "    }\n",
              "\n",
              "    .dataframe thead th {\n",
              "        text-align: right;\n",
              "    }\n",
              "</style>\n",
              "<table border=\"1\" class=\"dataframe\">\n",
              "  <thead>\n",
              "    <tr style=\"text-align: right;\">\n",
              "      <th></th>\n",
              "      <th>dim1</th>\n",
              "      <th>dim2</th>\n",
              "      <th>word</th>\n",
              "    </tr>\n",
              "  </thead>\n",
              "  <tbody>\n",
              "    <tr>\n",
              "      <th>0</th>\n",
              "      <td>-0.480308</td>\n",
              "      <td>-4.359242</td>\n",
              "      <td>que</td>\n",
              "    </tr>\n",
              "    <tr>\n",
              "      <th>1</th>\n",
              "      <td>0.931392</td>\n",
              "      <td>-2.114954</td>\n",
              "      <td>el</td>\n",
              "    </tr>\n",
              "    <tr>\n",
              "      <th>2</th>\n",
              "      <td>-9.342211</td>\n",
              "      <td>6.438734</td>\n",
              "      <td>no</td>\n",
              "    </tr>\n",
              "    <tr>\n",
              "      <th>3</th>\n",
              "      <td>-6.376295</td>\n",
              "      <td>-4.003664</td>\n",
              "      <td>me</td>\n",
              "    </tr>\n",
              "  </tbody>\n",
              "</table>\n",
              "</div>"
            ],
            "text/plain": [
              "       dim1      dim2 word\n",
              "0 -0.480308 -4.359242  que\n",
              "1  0.931392 -2.114954   el\n",
              "2 -9.342211  6.438734   no\n",
              "3 -6.376295 -4.003664   me"
            ]
          },
          "metadata": {},
          "execution_count": 17
        }
      ]
    },
    {
      "cell_type": "code",
      "metadata": {
        "colab": {
          "base_uri": "https://localhost:8080/",
          "height": 592
        },
        "id": "44zMk9klHqpV",
        "outputId": "fb490d7f-0ca6-4648-da7e-b4f44af2817d"
      },
      "source": [
        "#g = df.plot.scatter(x=\"dim1\", y=\"dim2\", s=8, figsize=(12,10), c=\"red\", label = \"word\")\n",
        "#h = plt.scatter(x=df['dim1'],y=df['dim2'], s=8)\n",
        "plt.figure(figsize=(15, 10))\n",
        "plt.scatter(x=df['dim1'],y=df['dim2'], s=8, c=\"red\")\n",
        "for i, txt in enumerate(most_freq):\n",
        "    plt.annotate(txt, (df['dim1'][i], df['dim2'][i]))\n",
        "\n",
        "plt.show()"
      ],
      "execution_count": 56,
      "outputs": [
        {
          "output_type": "display_data",
          "data": {
            "image/png": "[encoded data removed]",
            "text/plain": [
              "<Figure size 1080x720 with 1 Axes>"
            ]
          },
          "metadata": {
            "needs_background": "light"
          }
        }
      ]
    },
    {
      "cell_type": "code",
      "metadata": {
        "id": "jOW6LOYAosGp"
      },
      "source": [
        "from nltk.cluster import kmeans, cosine_distance\n",
        "def clustering(k):\n",
        "    \"\"\"\n",
        "    k -> Cantidad de clusterers\n",
        "    \"\"\"\n",
        "    clusterer = kmeans.KMeansClusterer(num_means=k, distance=cosine_distance, avoid_empty_clusters=True)\n",
        "    clusters = clusterer.cluster(red_matrix, True)\n",
        "    return clusters"
      ],
      "execution_count": 21,
      "outputs": []
    },
    {
      "cell_type": "code",
      "metadata": {
        "colab": {
          "base_uri": "https://localhost:8080/"
        },
        "id": "qB7jvu4mouEA",
        "outputId": "b4871d4f-ec11-4c6b-c522-eba7c9d0ef40"
      },
      "source": [
        "c50 =  clustering(50)\n",
        "#other = tsne.fit_transform(red_matrix)\n",
        "#other.shape"
      ],
      "execution_count": 26,
      "outputs": [
        {
          "output_type": "execute_result",
          "data": {
            "text/plain": [
              "4"
            ]
          },
          "metadata": {},
          "execution_count": 26
        }
      ]
    },
    {
      "cell_type": "code",
      "metadata": {
        "id": "9O3i4qKaqvkU"
      },
      "source": [
        "aux = [(matrix_dicc2d[i], c50[i], most_freq[i]) for i in range(len(most_freq))]\n",
        "\n",
        "df_clustered = pd.DataFrame(\n",
        "    [\n",
        "        (coords[0], coords[1], cluster, word)\n",
        "        for coords, cluster, word in aux\n",
        "    ],\n",
        "    columns=[\"dim1\", \"dim2\", \"cluster\", \"word\"]\n",
        ")"
      ],
      "execution_count": 48,
      "outputs": []
    },
    {
      "cell_type": "code",
      "metadata": {
        "colab": {
          "base_uri": "https://localhost:8080/",
          "height": 173
        },
        "id": "2J4y7Y3KrITf",
        "outputId": "e1bdae49-6f7c-4ecd-9c3e-5293b1483310"
      },
      "source": [
        "df_clustered.head(5)"
      ],
      "execution_count": 49,
      "outputs": [
        {
          "output_type": "execute_result",
          "data": {
            "text/html": [
              "<div>\n",
              "<style scoped>\n",
              "    .dataframe tbody tr th:only-of-type {\n",
              "        vertical-align: middle;\n",
              "    }\n",
              "\n",
              "    .dataframe tbody tr th {\n",
              "        vertical-align: top;\n",
              "    }\n",
              "\n",
              "    .dataframe thead th {\n",
              "        text-align: right;\n",
              "    }\n",
              "</style>\n",
              "<table border=\"1\" class=\"dataframe\">\n",
              "  <thead>\n",
              "    <tr style=\"text-align: right;\">\n",
              "      <th></th>\n",
              "      <th>dim1</th>\n",
              "      <th>dim2</th>\n",
              "      <th>cluster</th>\n",
              "      <th>word</th>\n",
              "    </tr>\n",
              "  </thead>\n",
              "  <tbody>\n",
              "    <tr>\n",
              "      <th>0</th>\n",
              "      <td>-0.480308</td>\n",
              "      <td>-4.359242</td>\n",
              "      <td>8</td>\n",
              "      <td>que</td>\n",
              "    </tr>\n",
              "    <tr>\n",
              "      <th>1</th>\n",
              "      <td>0.931392</td>\n",
              "      <td>-2.114954</td>\n",
              "      <td>3</td>\n",
              "      <td>el</td>\n",
              "    </tr>\n",
              "    <tr>\n",
              "      <th>2</th>\n",
              "      <td>-9.342211</td>\n",
              "      <td>6.438734</td>\n",
              "      <td>4</td>\n",
              "      <td>no</td>\n",
              "    </tr>\n",
              "    <tr>\n",
              "      <th>3</th>\n",
              "      <td>-6.376295</td>\n",
              "      <td>-4.003664</td>\n",
              "      <td>5</td>\n",
              "      <td>me</td>\n",
              "    </tr>\n",
              "  </tbody>\n",
              "</table>\n",
              "</div>"
            ],
            "text/plain": [
              "       dim1      dim2  cluster word\n",
              "0 -0.480308 -4.359242        8  que\n",
              "1  0.931392 -2.114954        3   el\n",
              "2 -9.342211  6.438734        4   no\n",
              "3 -6.376295 -4.003664        5   me"
            ]
          },
          "metadata": {},
          "execution_count": 49
        }
      ]
    },
    {
      "cell_type": "code",
      "metadata": {
        "colab": {
          "base_uri": "https://localhost:8080/",
          "height": 592
        },
        "id": "KyANJ3zkrpAu",
        "outputId": "81c819fe-ca92-4e35-9dd3-1710a92a711d"
      },
      "source": [
        "plt.figure(figsize=(15, 10))\n",
        "plt.scatter(x=df_clustered['dim1'],y=df_clustered['dim2'], s=8, c=df_clustered['cluster'])\n",
        "for i, txt in enumerate(most_freq):\n",
        "    plt.annotate(txt, (df_clustered['dim1'][i], df_clustered['dim2'][i]))\n",
        "\n",
        "plt.show()"
      ],
      "execution_count": 55,
      "outputs": [
        {
          "output_type": "display_data",
          "data": {
            "image/png": "[encoded data removed]",
            "text/plain": [
              "<Figure size 1080x720 with 1 Axes>"
            ]
          },
          "metadata": {
            "needs_background": "light"
          }
        }
      ]
    }
  ]
}
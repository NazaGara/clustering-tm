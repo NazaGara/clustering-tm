{
  "nbformat": 4,
  "nbformat_minor": 0,
  "metadata": {
    "colab": {
      "name": "Clustering.ipynb",
      "provenance": [],
      "collapsed_sections": [],
      "include_colab_link": true
    },
    "kernelspec": {
      "display_name": "Python 3",
      "name": "python3"
    },
    "language_info": {
      "name": "python"
    }
  },
  "cells": [
    {
      "cell_type": "markdown",
      "metadata": {
        "id": "view-in-github",
        "colab_type": "text"
      },
      "source": [
        "<a href=\"https://colab.research.google.com/github/NazaGara/clustering-tm/blob/main/clustering.ipynb\" target=\"_parent\"><img src=\"https://colab.research.google.com/assets/colab-badge.svg\" alt=\"Open In Colab\"/></a>"
      ]
    },
    {
      "cell_type": "markdown",
      "metadata": {
        "id": "n5EtK5uP0Rnn"
      },
      "source": [
        "# Practico Clustering - Text Mining 2021\n",
        "\n",
        "Garagiola, Nazareno\n",
        "\n",
        "\n",
        "clustering is the process of grouping a set of\n",
        "documents into clusters of similar documents\n",
        "\n",
        "\n",
        "-> Preproceso: Lemmatizacion, catergoria morfosintactica (POS), etc\n",
        "\n",
        "-> Hacer diferentes aproximacione spara categorizar palabras, por contexto en diferentes tamaños de ventanas"
      ]
    },
    {
      "cell_type": "code",
      "metadata": {
        "id": "ismoC-9AWgIi"
      },
      "source": [
        "import spacy\n",
        "import io\n",
        "import pandas as pd\n",
        "import numpy as np\n",
        "import matplotlib.pyplot as plt\n",
        "import sklearn.manifold\n",
        "from collections import Counter\n",
        "%matplotlib inline"
      ],
      "execution_count": 1,
      "outputs": []
    },
    {
      "cell_type": "code",
      "metadata": {
        "id": "37xIIBDoGMyZ"
      },
      "source": [
        "!python3 -m spacy download es_core_news_md > trash.txt\n",
        "#!python3 -m spacy download es_core_news_sm"
      ],
      "execution_count": 5,
      "outputs": []
    },
    {
      "cell_type": "markdown",
      "metadata": {
        "id": "cydONALzHXpy"
      },
      "source": [
        "\n",
        "\n",
        "---\n",
        "\n"
      ]
    },
    {
      "cell_type": "code",
      "metadata": {
        "id": "FwJKt-0Ly0d3"
      },
      "source": [
        "filename = \"lavoztextodump.txt\"\n",
        "f = open(filename, 'r')\n",
        "text = f.read()[:1000] #[:1000000] \n",
        "text = text.replace('\"', '')\n",
        "text = text.replace('-\\n', '\\n')"
      ],
      "execution_count": 35,
      "outputs": []
    },
    {
      "cell_type": "code",
      "metadata": {
        "id": "BdiIU23Q4S6q"
      },
      "source": [
        "# antes de correr esto, hay que correr la instalacion y resetear el runtime\n",
        "nlp = spacy.load(\"es_core_news_md\", vectores=False, entity=False)\n",
        "\n",
        "lemmas = []\n",
        "words = []\n",
        "doc = nlp(text)\n",
        "for token in doc:\n",
        "    if len(token) > 1 and token.is_alpha: #alfabeticos e ignoro puntuaciones\n",
        "        lemmas.append(token.lemma_.lower())\n",
        "        words.append(token.text.lower())\n"
      ],
      "execution_count": 36,
      "outputs": []
    },
    {
      "cell_type": "code",
      "metadata": {
        "id": "h3x_JNuEIjjM"
      },
      "source": [
        "for i in range(20):\n",
        "    print(f\"-> {doc[i]}\")"
      ],
      "execution_count": null,
      "outputs": []
    },
    {
      "cell_type": "code",
      "metadata": {
        "id": "2aT0JwxvFlHt"
      },
      "source": [
        "counter_lemma = Counter(lemmas)\n",
        "counter_words = Counter(words) #anecdotico nomas"
      ],
      "execution_count": 38,
      "outputs": []
    },
    {
      "cell_type": "markdown",
      "metadata": {
        "id": "tz8iOzUd5roE"
      },
      "source": [
        "Las triplas de dependencias son una forma de representar relaciones entre palabras. Si tengo una oración como \"El gato come pescado\", el análisis sintáctico de esa oración me dirá que gato es sujeto de comer, pescado es objeto de comer. Entonces, puedo representar la palabra gato diciendo que ocurrió una vez en el contexto X - sujeto - comer, y la palabra pescado diciendo que ocurrió una vez en el contexto X - objeto - comer. Entonces, mis dimensiones son estas triplas de la forma \"Palabra objetivo - Función sintáctica - Otra palabra\""
      ]
    },
    {
      "cell_type": "code",
      "metadata": {
        "colab": {
          "base_uri": "https://localhost:8080/"
        },
        "id": "uPwvmQucCWm9",
        "outputId": "f562340e-f5a6-406a-f47b-3a22c5bfc267"
      },
      "source": [
        "#most frequent words\n",
        "MIN_FREQ = 1 # 10\n",
        "most_freq = []\n",
        "for w in counter_lemma:\n",
        "    if (counter_lemma[w]>=MIN_FREQ):\n",
        "        most_freq.append(w)\n",
        "print(f\"amount of words that appear more than {MIN_FREQ} times: {str(len(most_freq))}\")\n",
        "\n",
        "def word_filter(token):\n",
        "    \"\"\"\n",
        "    Pequeña funcion que usaremos para filtrar las palabras\n",
        "    \"\"\"\n",
        "    return (not token.is_alpha or token.is_digit or not token.lemma_ in most_freq)"
      ],
      "execution_count": 72,
      "outputs": [
        {
          "output_type": "stream",
          "name": "stdout",
          "text": [
            "amount of words that appear more than 1 times: 91\n"
          ]
        }
      ]
    },
    {
      "cell_type": "code",
      "metadata": {
        "id": "gV68ufqbuqSn"
      },
      "source": [
        "triplas = {}\n",
        "tag = {}\n",
        "pos = {}\n",
        "context_lft = {}\n",
        "context_rgt = {}\n",
        "\n",
        "for token in doc[1:]:\n",
        "    #if not token.is_alpha or token.is_digit or counter_words[token.text] < word_threshold: continue\n",
        "    if word_filter(token): continue\n",
        "    triplas[token.text] = {}\n",
        "    tag[token.text] = {}\n",
        "    pos[token.text] = {}\n",
        "    context_lft[token.text] = {}\n",
        "    context_rgt[token.text] = {}\n"
      ],
      "execution_count": 161,
      "outputs": []
    },
    {
      "cell_type": "code",
      "metadata": {
        "id": "H6XvYtN8nGZU"
      },
      "source": [
        "for token in doc[1:-1]:\n",
        "    #if not token.is_alpha or token.is_digit or counter_words[token.text] < word_threshold: continue\n",
        "    if word_filter(token): continue\n",
        "    i = token.i\n",
        "    #notar que filtre el token, pero no el contexto del mismo\n",
        "    tripla = (f\"obj: {token.text} - dep : {token.dep_} - root: {doc[i+1].head.lemma_}\") # - context: {span}\")\n",
        "    if not tripla in triplas[token.text].keys():\n",
        "        triplas[token.text][tripla] = 0\n",
        "    triplas[token.text][tripla] += 1\n",
        "\n",
        "    #triplas[token.text].append({token.i : tripla})"
      ],
      "execution_count": 162,
      "outputs": []
    },
    {
      "cell_type": "code",
      "metadata": {
        "id": "ApSlmnUQygZF"
      },
      "source": [
        "for token in doc[1:]:\n",
        "    if word_filter(token): continue\n",
        "    \n",
        "    if not token.pos_ in pos[token.text].keys():\n",
        "        pos[token.text][token.pos_] = 0\n",
        "    pos[token.text][token.pos_] += 1\n",
        "\n",
        "    if not token.tag_ in tag[token.text].keys():\n",
        "        tag[token.text][token.tag_] = 0\n",
        "    tag[token.text][token.tag_] += 1\n"
      ],
      "execution_count": 163,
      "outputs": []
    },
    {
      "cell_type": "code",
      "metadata": {
        "id": "hpkfjE84adTO"
      },
      "source": [
        "for token in doc[1:]:\n",
        "    if word_filter(token): continue\n",
        "    \n",
        "    if not token.i == 0:\n",
        "        lft = doc[token.i - 1]\n",
        "        c_izq = lft.lemma_\n",
        "        if lft.is_digit:\n",
        "            c_izq = \"NUM__\"\n",
        "        if lft.is_alpha: # and counter_lemma[c_izq] > threshold_c:\n",
        "            if not c_izq in context_lft[token.text].keys():\n",
        "                context_lft[token.text][c_izq] = 0\n",
        "            context_lft[token.text][c_izq] += 1\n",
        "\n",
        "    if not token.i == len(doc) - 1:\n",
        "        rgt = doc[token.i + 1]\n",
        "        c_der = rgt.lemma_\n",
        "        if rgt.is_digit:\n",
        "            c_der = \"NUM__\"\n",
        "        if rgt.is_alpha: # and counter_lemma[c_der] > threshold_c:\n",
        "            if not c_der in context_rgt[token.text].keys():\n",
        "                context_rgt[token.text][c_der] = 0\n",
        "            context_rgt[token.text][c_der] += 1"
      ],
      "execution_count": 164,
      "outputs": []
    },
    {
      "cell_type": "code",
      "metadata": {
        "id": "EsMAF1PU1n0O"
      },
      "source": [
        "feats = {}\n",
        "for token in doc:\n",
        "    #if not token.is_alpha or token.is_digit or counter_words[token.text] < word_threshold: continue\n",
        "    if word_filter(token): continue\n",
        "    word = token.text\n",
        "    feats[word] = {**tag[word], **pos[word], **triplas[word], **context_lft[word], **context_rgt[word]}\n",
        "    #feats[word] = [triplas[word]]"
      ],
      "execution_count": 181,
      "outputs": []
    },
    {
      "cell_type": "code",
      "metadata": {
        "id": "dBfCqT70nGRX"
      },
      "source": [
        "feats"
      ],
      "execution_count": null,
      "outputs": []
    },
    {
      "cell_type": "markdown",
      "metadata": {
        "id": "E1ofl1-e16sY"
      },
      "source": [
        ""
      ]
    },
    {
      "cell_type": "code",
      "metadata": {
        "id": "Sv3l53gHnGXB",
        "colab": {
          "base_uri": "https://localhost:8080/"
        },
        "outputId": "0591917a-0311-4dfd-ee5a-8c7c4a1f60d0"
      },
      "source": [
        "from sklearn.feature_extraction import DictVectorizer\n",
        "# the class DictVectorizer can be used to convert feature arrays represented as \n",
        "# lists of standard Python dict objects to the NumPy/SciPy representation used\n",
        "# by scikit-learn estimators.\n",
        "vec = DictVectorizer(sparse=False)\n",
        "features = []\n",
        "key_words = {}\n",
        "wid = 0\n",
        "for word in feats:\n",
        "    key_words[word] = wid\n",
        "    wid += 1\n",
        "    features.append(feats[d])\n",
        "matrix = vec.fit_transform(X=features)\n",
        "\n",
        "matrix.shape"
      ],
      "execution_count": 207,
      "outputs": [
        {
          "output_type": "execute_result",
          "data": {
            "text/plain": [
              "(90, 3)"
            ]
          },
          "metadata": {},
          "execution_count": 207
        }
      ]
    },
    {
      "cell_type": "code",
      "metadata": {
        "id": "AIjwlbdTuEOE",
        "colab": {
          "base_uri": "https://localhost:8080/"
        },
        "outputId": "bcfabbe8-afb4-4f98-e5ab-96a2beab3092"
      },
      "source": [
        "matrix_normed = matrix / matrix.max(axis=0)\n",
        "variances = np.square(matrix_normed).mean(axis=0) - np.square(matrix_normed.mean(axis=0))\n",
        "\n",
        "threshold_variances = 0.001\n",
        "red_matrix = np.delete(matrix_normed, np.where(variances < threshold_variances), axis=1)\n",
        "\n",
        "print(matrix.shape, matrix_normed.shape, red_matrix.shape)"
      ],
      "execution_count": 223,
      "outputs": [
        {
          "output_type": "stream",
          "name": "stdout",
          "text": [
            "(90, 3) (90, 3) (90, 0)\n"
          ]
        }
      ]
    },
    {
      "cell_type": "code",
      "metadata": {
        "id": "jOW6LOYAosGp"
      },
      "source": [
        "#from nltk.cluster import kmeans, cosine_distance\n",
        "from sklearn.cluster import KMeans\n",
        "from sklearn import preprocessing\n",
        "\n",
        "def clustering(k, matrix):\n",
        "    \"\"\"\n",
        "    k -> Cantidad de clusterers\n",
        "    \"\"\"\n",
        "    #clusterer = kmeans.KMeansClusterer(num_means=k, distance=cosine_distance, avoid_empty_clusters=True)\n",
        "    #clusters = clusterer.cluster(matrix, True)\n",
        "\n",
        "    kmeans = KMeans(n_clusters=k).fit(preprocessing.normalize(matrix))\n",
        "    #clusterer = KMeans(n_clusters=k)\n",
        "    kmeans.fit(matrix)\n",
        "    return kmeans"
      ],
      "execution_count": 228,
      "outputs": []
    },
    {
      "cell_type": "code",
      "metadata": {
        "colab": {
          "base_uri": "https://localhost:8080/"
        },
        "id": "qB7jvu4mouEA",
        "outputId": "3b38b850-ca71-4c9f-99c8-eb9face8dfb2"
      },
      "source": [
        "NUM_CLUSTERS = 5\n",
        "c50 =  clustering(NUM_CLUSTERS, matrix_normed)\n",
        "#other = tsne.fit_transform(red_matrix)\n",
        "#other.shape\n",
        "c50"
      ],
      "execution_count": 230,
      "outputs": [
        {
          "output_type": "stream",
          "name": "stderr",
          "text": [
            "/usr/local/lib/python3.7/dist-packages/ipykernel_launcher.py:12: ConvergenceWarning: Number of distinct clusters (1) found smaller than n_clusters (5). Possibly due to duplicate points in X.\n",
            "  if sys.path[0] == '':\n",
            "/usr/local/lib/python3.7/dist-packages/ipykernel_launcher.py:14: ConvergenceWarning: Number of distinct clusters (1) found smaller than n_clusters (5). Possibly due to duplicate points in X.\n",
            "  \n"
          ]
        },
        {
          "output_type": "execute_result",
          "data": {
            "text/plain": [
              "KMeans(algorithm='auto', copy_x=True, init='k-means++', max_iter=300,\n",
              "       n_clusters=5, n_init=10, n_jobs=None, precompute_distances='auto',\n",
              "       random_state=None, tol=0.0001, verbose=0)"
            ]
          },
          "metadata": {},
          "execution_count": 230
        }
      ]
    },
    {
      "cell_type": "code",
      "metadata": {
        "colab": {
          "base_uri": "https://localhost:8080/"
        },
        "id": "uUmgmSe8VBLL",
        "outputId": "48467a31-f0e0-459a-c964-f6f1787f000c"
      },
      "source": [
        "clustered = []\n",
        "for i in range(NUM_CLUSTERS):\n",
        "    clustered.append(df_clustered.loc[df_clustered['cluster'] == i]['word'].values)\n",
        "\n",
        "clustered"
      ],
      "execution_count": 176,
      "outputs": [
        {
          "output_type": "execute_result",
          "data": {
            "text/plain": [
              "[array(['lo', 'sostener', 'ser', 'el', 'clara', 'rodolfo', 'martínez',\n",
              "        'no', 'se', 'imaginar', 'sin', 'otro', 'prefiero', 'ni',\n",
              "        'pensarlo', 'decir', 'año', 'tener', 'cuatro', 'hijo', 'mujer',\n",
              "        'en', 'ateneo', 'juventus', 'juvenil', 'de', 'hoy', 'asegurar',\n",
              "        'del', 'llevar', 'junto', 'sino', 'haber', 'entenderse', 'bien',\n",
              "        'les', 'disgustar', 'qué', 'querer', 'cambiarle', 'me', 'cariñoso',\n",
              "        'alegrar', 'pensar', 'mí', 'uno', 'gran', 'cuando', 'hablar', 'ya',\n",
              "        'hacer', 'indeciso', 'acostumbrar', 'nadar', 'personar',\n",
              "        'emprendedor', 'optimista', 'servicial', 'parir', 'los', 'coser',\n",
              "        'pienso', 'ir', 'cambiar', 'con', 'edad'], dtype=object),\n",
              " array(['crespo', 'unir', 'estar', 'acordar'], dtype=object),\n",
              " array(['casar', 'movimiento', 'sorprender', 'tan', 'siempre', 'pero'],\n",
              "       dtype=object),\n",
              " array(['hace'], dtype=object),\n",
              " array(['capuchinos', 'más'], dtype=object),\n",
              " array(['vez'], dtype=object),\n",
              " array([], dtype=object),\n",
              " array(['amor', 'lograr', 'comer', 'sutil'], dtype=object),\n",
              " array(['que', 'tiempo', 'gustar', 'enojar'], dtype=object),\n",
              " array(['parejo', 'conocer', 'madre'], dtype=object)]"
            ]
          },
          "metadata": {},
          "execution_count": 176
        }
      ]
    },
    {
      "cell_type": "code",
      "metadata": {
        "colab": {
          "base_uri": "https://localhost:8080/",
          "height": 428
        },
        "id": "KyANJ3zkrpAu",
        "outputId": "32831cb7-3ed9-44c8-cb9d-cd0beb604566"
      },
      "source": [
        "plt.figure(figsize=(7, 7))\n",
        "plt.scatter(x=df_clustered['dim1'],y=df_clustered['dim2'], s=8, c=df_clustered['cluster'])\n",
        "for i, txt in enumerate(most_freq):\n",
        "    plt.annotate(txt, (df_clustered['dim1'][i], df_clustered['dim2'][i]))\n",
        "\n",
        "plt.show()"
      ],
      "execution_count": 175,
      "outputs": [
        {
          "output_type": "display_data",
          "data": {
            "image/png": "[encoded data removed]",
            "text/plain": [
              "<Figure size 504x504 with 1 Axes>"
            ]
          },
          "metadata": {
            "needs_background": "light"
          }
        }
      ]
    },
    {
      "cell_type": "code",
      "metadata": {
        "id": "OUkk7MBAuIfJ"
      },
      "source": [
        "#tsne = sklearn.manifold.TSNE(n_components=2, random_state=0, n_iter=1000) #ultimo param para que sea mas rapido\n",
        "#matrix_dicc2d = tsne.fit_transform(red_matrix)\n",
        "#matrix_dicc2d.shape"
      ],
      "execution_count": 210,
      "outputs": []
    },
    {
      "cell_type": "code",
      "metadata": {
        "colab": {
          "base_uri": "https://localhost:8080/"
        },
        "id": "zF_4QGjFi0MI",
        "outputId": "286238e1-3acb-4c93-80f2-c440b796ccec"
      },
      "source": [
        "len(key_words)"
      ],
      "execution_count": 212,
      "outputs": [
        {
          "output_type": "execute_result",
          "data": {
            "text/plain": [
              "90"
            ]
          },
          "metadata": {},
          "execution_count": 212
        }
      ]
    },
    {
      "cell_type": "code",
      "metadata": {
        "colab": {
          "base_uri": "https://localhost:8080/",
          "height": 204
        },
        "id": "V6rxB0TaGk_L",
        "outputId": "5fe3ab81-0509-4c21-f49a-28109db3b798"
      },
      "source": [
        "df = pd.DataFrame(data=[(matrix_dicc2d[i][0],matrix_dicc2d[i][1],most_freq[i])\n",
        "    for i in range(len(key_words))],\n",
        "    columns=['dim1','dim2',\"word\"] )\n",
        "df.head(5)"
      ],
      "execution_count": 213,
      "outputs": [
        {
          "output_type": "execute_result",
          "data": {
            "text/html": [
              "<div>\n",
              "<style scoped>\n",
              "    .dataframe tbody tr th:only-of-type {\n",
              "        vertical-align: middle;\n",
              "    }\n",
              "\n",
              "    .dataframe tbody tr th {\n",
              "        vertical-align: top;\n",
              "    }\n",
              "\n",
              "    .dataframe thead th {\n",
              "        text-align: right;\n",
              "    }\n",
              "</style>\n",
              "<table border=\"1\" class=\"dataframe\">\n",
              "  <thead>\n",
              "    <tr style=\"text-align: right;\">\n",
              "      <th></th>\n",
              "      <th>dim1</th>\n",
              "      <th>dim2</th>\n",
              "      <th>word</th>\n",
              "    </tr>\n",
              "  </thead>\n",
              "  <tbody>\n",
              "    <tr>\n",
              "      <th>0</th>\n",
              "      <td>-37.735172</td>\n",
              "      <td>-158.687195</td>\n",
              "      <td>lo</td>\n",
              "    </tr>\n",
              "    <tr>\n",
              "      <th>1</th>\n",
              "      <td>7.802235</td>\n",
              "      <td>-12.185813</td>\n",
              "      <td>que</td>\n",
              "    </tr>\n",
              "    <tr>\n",
              "      <th>2</th>\n",
              "      <td>166.963684</td>\n",
              "      <td>128.233505</td>\n",
              "      <td>sostener</td>\n",
              "    </tr>\n",
              "    <tr>\n",
              "      <th>3</th>\n",
              "      <td>93.290619</td>\n",
              "      <td>4.780133</td>\n",
              "      <td>parejo</td>\n",
              "    </tr>\n",
              "    <tr>\n",
              "      <th>4</th>\n",
              "      <td>-169.905182</td>\n",
              "      <td>7.062191</td>\n",
              "      <td>ser</td>\n",
              "    </tr>\n",
              "  </tbody>\n",
              "</table>\n",
              "</div>"
            ],
            "text/plain": [
              "         dim1        dim2      word\n",
              "0  -37.735172 -158.687195        lo\n",
              "1    7.802235  -12.185813       que\n",
              "2  166.963684  128.233505  sostener\n",
              "3   93.290619    4.780133    parejo\n",
              "4 -169.905182    7.062191       ser"
            ]
          },
          "metadata": {},
          "execution_count": 213
        }
      ]
    },
    {
      "cell_type": "code",
      "metadata": {
        "colab": {
          "base_uri": "https://localhost:8080/",
          "height": 428
        },
        "id": "44zMk9klHqpV",
        "outputId": "ed42ec24-8251-4aac-a0a3-22b16a711488"
      },
      "source": [
        "#g = df.plot.scatter(x=\"dim1\", y=\"dim2\", s=8, figsize=(12,10), c=\"red\", label = \"word\")\n",
        "#h = plt.scatter(x=df['dim1'],y=df['dim2'], s=8)\n",
        "plt.figure(figsize=(10, 7))\n",
        "plt.scatter(x=df['dim1'],y=df['dim2'], s=8, c=\"red\")\n",
        "for i, txt in enumerate(key_words):\n",
        "    plt.annotate(txt, (df['dim1'][i], df['dim2'][i]))\n",
        "\n",
        "plt.show()"
      ],
      "execution_count": 215,
      "outputs": [
        {
          "output_type": "display_data",
          "data": {
            "image/png": "[encoded data removed]",
            "text/plain": [
              "<Figure size 720x504 with 1 Axes>"
            ]
          },
          "metadata": {
            "needs_background": "light"
          }
        }
      ]
    },
    {
      "cell_type": "code",
      "metadata": {
        "id": "9O3i4qKaqvkU"
      },
      "source": [
        "aux = [(matrix_dicc2d[i], c50[i], most_freq[i]) for i in range(len(most_freq))]\n",
        "\n",
        "df_clustered = pd.DataFrame(\n",
        "    [\n",
        "        (coords[0], coords[1], cluster, word)\n",
        "        for coords, cluster, word in aux\n",
        "    ],\n",
        "    columns=[\"dim1\", \"dim2\", \"cluster\", \"word\"]\n",
        ")"
      ],
      "execution_count": 174,
      "outputs": []
    },
    {
      "cell_type": "code",
      "metadata": {
        "colab": {
          "base_uri": "https://localhost:8080/",
          "height": 204
        },
        "id": "2J4y7Y3KrITf",
        "outputId": "bef81055-5d96-4089-a794-91509b326e20"
      },
      "source": [
        "df_clustered.head(5)"
      ],
      "execution_count": 122,
      "outputs": [
        {
          "output_type": "execute_result",
          "data": {
            "text/html": [
              "<div>\n",
              "<style scoped>\n",
              "    .dataframe tbody tr th:only-of-type {\n",
              "        vertical-align: middle;\n",
              "    }\n",
              "\n",
              "    .dataframe tbody tr th {\n",
              "        vertical-align: top;\n",
              "    }\n",
              "\n",
              "    .dataframe thead th {\n",
              "        text-align: right;\n",
              "    }\n",
              "</style>\n",
              "<table border=\"1\" class=\"dataframe\">\n",
              "  <thead>\n",
              "    <tr style=\"text-align: right;\">\n",
              "      <th></th>\n",
              "      <th>dim1</th>\n",
              "      <th>dim2</th>\n",
              "      <th>cluster</th>\n",
              "      <th>word</th>\n",
              "    </tr>\n",
              "  </thead>\n",
              "  <tbody>\n",
              "    <tr>\n",
              "      <th>0</th>\n",
              "      <td>21.288731</td>\n",
              "      <td>10.584252</td>\n",
              "      <td>0</td>\n",
              "      <td>lo</td>\n",
              "    </tr>\n",
              "    <tr>\n",
              "      <th>1</th>\n",
              "      <td>-0.129118</td>\n",
              "      <td>-22.548624</td>\n",
              "      <td>0</td>\n",
              "      <td>que</td>\n",
              "    </tr>\n",
              "    <tr>\n",
              "      <th>2</th>\n",
              "      <td>-16.975693</td>\n",
              "      <td>-15.009867</td>\n",
              "      <td>3</td>\n",
              "      <td>sostener</td>\n",
              "    </tr>\n",
              "    <tr>\n",
              "      <th>3</th>\n",
              "      <td>-3.598277</td>\n",
              "      <td>2.925217</td>\n",
              "      <td>0</td>\n",
              "      <td>parejo</td>\n",
              "    </tr>\n",
              "    <tr>\n",
              "      <th>4</th>\n",
              "      <td>0.184089</td>\n",
              "      <td>2.583344</td>\n",
              "      <td>0</td>\n",
              "      <td>ser</td>\n",
              "    </tr>\n",
              "  </tbody>\n",
              "</table>\n",
              "</div>"
            ],
            "text/plain": [
              "        dim1       dim2  cluster      word\n",
              "0  21.288731  10.584252        0        lo\n",
              "1  -0.129118 -22.548624        0       que\n",
              "2 -16.975693 -15.009867        3  sostener\n",
              "3  -3.598277   2.925217        0    parejo\n",
              "4   0.184089   2.583344        0       ser"
            ]
          },
          "metadata": {},
          "execution_count": 122
        }
      ]
    }
  ]
}
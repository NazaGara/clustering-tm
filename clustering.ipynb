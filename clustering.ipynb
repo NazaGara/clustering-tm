{
  "nbformat": 4,
  "nbformat_minor": 0,
  "metadata": {
    "colab": {
      "name": "clustering.ipynb",
      "provenance": [],
      "collapsed_sections": [
        "Lc9-ZeNAcEkS",
        "rCTdZzDfVJAK",
        "O_rfXxI0cB2j",
        "E1ofl1-e16sY"
      ]
    },
    "kernelspec": {
      "display_name": "Python 3",
      "name": "python3"
    },
    "language_info": {
      "name": "python"
    }
  },
  "cells": [
    {
      "cell_type": "markdown",
      "metadata": {
        "id": "n5EtK5uP0Rnn"
      },
      "source": [
        "# Práctico 1: Clustering - Text Mining 2021\n",
        "\n",
        "Notebook sobre el práctico 1 de la materia Mineria de Texto para Datos, materia correspondiente de la carrera Lic. En Ciencias de la Computación de FaMAF, UNC.\n",
        "\n",
        "Estudiante: Garagiola Nazareno\n"
      ]
    },
    {
      "cell_type": "markdown",
      "metadata": {
        "id": "u4344Z2xzYK2"
      },
      "source": [
        "Clustering es el proceso de agrupar un conjunto de elementos (en este caso de palabras) que tengan similitudes.\n",
        "Hipotesis de Clustering: Palabras en el mismo cluster, tienen un comportamiento similar con respecto a la informacion que contienen."
      ]
    },
    {
      "cell_type": "markdown",
      "metadata": {
        "id": "Lc9-ZeNAcEkS"
      },
      "source": [
        "---\n",
        "## Requerimientos\n",
        "\n",
        "Instalamos las librerias necesarias para el procesamiento."
      ]
    },
    {
      "cell_type": "code",
      "metadata": {
        "id": "37xIIBDoGMyZ"
      },
      "source": [
        "!python3 -m spacy download es_core_news_md > trash.txt\n",
        "!pip install es-lemmatizer > trash.txt"
      ],
      "execution_count": 277,
      "outputs": []
    },
    {
      "cell_type": "code",
      "metadata": {
        "id": "ismoC-9AWgIi"
      },
      "source": [
        "import spacy\n",
        "import pandas as pd\n",
        "import numpy as np\n",
        "import matplotlib.pyplot as plt\n",
        "from collections import Counter\n",
        "%matplotlib inline"
      ],
      "execution_count": 278,
      "outputs": []
    },
    {
      "cell_type": "markdown",
      "metadata": {
        "id": "rCTdZzDfVJAK"
      },
      "source": [
        "---\n",
        "## Carga del Corpus\n",
        "\n",
        "Leemos el corpus a estudiar, hacemos algunos reemplazos para correjir un poco el texto.\n",
        "\n",
        "Tomamos los primeros 0.5 M - 2 caracteres (ese numero ya que coincide con el fin de un parrafo)."
      ]
    },
    {
      "cell_type": "code",
      "metadata": {
        "id": "FwJKt-0Ly0d3"
      },
      "source": [
        "f = open(\"lavoztextodump.txt\", 'r')\n",
        "text = f.read()[:500000-2] #[:1000000] \n",
        "text = text.replace('\"', '')\n",
        "text = text.replace('-\\n', '\\n')\n",
        "text = text.replace('&#','')\n",
        "#text = text.replace('á','a')\n",
        "#text = text.replace('é','e')\n",
        "#text = text.replace('í','i')\n",
        "#text = text.replace('ó','o')\n",
        "#text = text.replace('ú','u')\n"
      ],
      "execution_count": 279,
      "outputs": []
    },
    {
      "cell_type": "markdown",
      "metadata": {
        "id": "1cQZyxIesMz5"
      },
      "source": [
        "Cargamos el texto usando [Spacy](https://spacy.io/), tomamos los lemmas del texto y las palabras que aparezcan. Luego, hago un conteo de la cantidad de lemmas que aparecieron en el documento."
      ]
    },
    {
      "cell_type": "code",
      "metadata": {
        "id": "BdiIU23Q4S6q"
      },
      "source": [
        "nlp = spacy.load(\"es_core_news_md\", vectores=False, entity=False)\n",
        "\n",
        "#from es_lemmatizer import lemmatize\n",
        "#nlp.add_pipe(lemmatize, after=\"tagger\")\n",
        "\n",
        "lemmas = []\n",
        "words = []\n",
        "doc = nlp(text)\n",
        "for token in doc:\n",
        "    if len(token) > 1 and token.is_alpha: # and not token.is_ascii and not token.is_digit:\n",
        "        lemmas.append(token.lemma_.lower())\n",
        "        words.append(token.text)\n",
        "\n",
        "counter_lemma = Counter(lemmas)"
      ],
      "execution_count": 280,
      "outputs": []
    },
    {
      "cell_type": "markdown",
      "metadata": {
        "id": "npszwgIS6_aH"
      },
      "source": [
        "Si están trabajando en Colab, es normal que al hacer el load de Spacy aparezca un error.\n",
        "\n",
        "**`ModuleNotFoundError: No module named 'es_core_news_md'`**.\n",
        "\n",
        "Reinicien el Kernel/Runtime (usen el menú de arriba Runtime->restart runtime) y salteen la celda de instalación (la primera que dice lo de abajo).\n",
        "\n",
        "    !python3 -m spacy download es_core_news_md > trash.txt\n"
      ]
    },
    {
      "cell_type": "markdown",
      "metadata": {
        "id": "O_rfXxI0cB2j"
      },
      "source": [
        "---\n",
        "## Preprocesamiento\n",
        "\n",
        "Definimos algunas funciones que nos van a servir para poder filtrar palabras y poder seleccionar que palabras del documento vamos a analizar. Luego cargamos diccionarios con las caracteristicas de cada palabra que serviran para poder vectorizar estos lemmas.\n",
        "En la variable MIN_FREQ especificamos la cantidad minima de veces que queremos que aparezca cada lemma a estudiar. "
      ]
    },
    {
      "cell_type": "code",
      "metadata": {
        "id": "uPwvmQucCWm9"
      },
      "source": [
        "MIN_FREQ = 35\n",
        "\n",
        "def word_filter(token):\n",
        "    \"\"\"\n",
        "    Pequeña funcion que usaremos para filtrar las palabras\n",
        "    \"\"\"\n",
        "    return (not token.is_alpha) or (token.is_digit) or counter_lemma[token.lemma_] < MIN_FREQ \n",
        "\n",
        "with open(\"stopwords.txt\",'r') as s:\n",
        "    stopwords = s.read().split('\\n')\n",
        "\n",
        "def not_a_stopword(token):\n",
        "    \"\"\"\n",
        "    Funcion que toma un token de Spacy y revisa que su lemma sea o on una \n",
        "    stopword en español\n",
        "    \"\"\"\n",
        "    return (token.is_alpha and (not token.lemma_.lower() in stopwords))\n",
        "\n",
        "\n",
        "def immediate_related_words(span):\n",
        "    \"\"\"\n",
        "    Funcion que a partir de un Span (parte continua del doc) retorna una lista\n",
        "    con los lemmas de las palabras que no sean stopwords\n",
        "    \"\"\"\n",
        "    tokens = list(filter(not_a_stopword, span))\n",
        "    return list(map(lambda token: token.lemma_, tokens))\n",
        "\n",
        "def keywords_in(span):\n",
        "    \"\"\"\n",
        "    Funcion que a partir de un Span, retorna una lista con los lemmas de las \n",
        "    palabras del span que no sean stopwords ni tampoco no sean relevantes.\n",
        "    (la funcion )\n",
        "    \"\"\"\n",
        "    tokens = list(filter(\n",
        "        lambda token: not word_filter(token) and not_a_stopword(token), span))\n",
        "    return list(map(lambda token: token.lemma_, tokens))\n"
      ],
      "execution_count": 281,
      "outputs": []
    },
    {
      "cell_type": "markdown",
      "metadata": {
        "id": "ipijpXQKn87t"
      },
      "source": [
        "Creo diccionarios para cada una de las caracteristicas y los inicializo para cada lemma que pasan el filtro.\n",
        "\n",
        "* Part of Speech\n",
        "* Dependencias\n",
        "* Contexto cercano sin stopwords\n",
        "* Contexto mayor, con palabras claves\n",
        "* Triplas de dependencias\n",
        "* Si tiene o no un numero detras, para indicar que es contable."
      ]
    },
    {
      "cell_type": "code",
      "metadata": {
        "id": "_P7aAeXICfCx"
      },
      "source": [
        "def init_feats():\n",
        "    for token in doc:\n",
        "        if word_filter(token): continue\n",
        "        word = token.lemma_.lower()\n",
        "        triplas[word] = {}\n",
        "        tag[word] = {}\n",
        "        pos[word] = {}\n",
        "        close_context[word] = {}\n",
        "        large_context[word] = {}\n",
        "        countable[word] = {}"
      ],
      "execution_count": 282,
      "outputs": []
    },
    {
      "cell_type": "markdown",
      "metadata": {
        "id": "90pSyY39gwb_"
      },
      "source": [
        "Cargo cada diccionario para cada palabra que pasa el filtro, con las caracteristicas que seleccionamos.\n",
        "\n",
        "Definimos dos variables para el tamaño de ventana de los dos contextos que tomamos, el inmediato y el mayor.\n",
        "\n"
      ]
    },
    {
      "cell_type": "code",
      "metadata": {
        "id": "d-RQI9mECozV"
      },
      "source": [
        "def load_feats(close_window = 2, large_window = 15):\n",
        "    for token in doc:\n",
        "        if word_filter(token): continue\n",
        "\n",
        "        i = token.i\n",
        "        word = token.lemma_.lower()\n",
        "        # Cargo part of speech de cada palabra lematizada\n",
        "        if not token.pos_ in pos[word].keys():\n",
        "            pos[word][token.pos_] = 0\n",
        "        pos[word][token.pos_] += 1\n",
        "\n",
        "        # Cargo tag de cada palabra lematizada\n",
        "        if not token.tag_ in tag[word].keys():\n",
        "            tag[word][token.tag_] = 0\n",
        "        tag[word][token.tag_] += 1\n",
        "\n",
        "        #Triplas de dependencias. Notar que busco el root de la frase en la que la \n",
        "        #palabra siguiente este, y esta puede no necesariamente estar en mis palabras\n",
        "        #claves que superan el filtro.\n",
        "        if not i == len(doc) - 1:\n",
        "            #NOTAR: se usa token.text y no el lemma_, porque me interesa como aparece la instancia del lemma,\n",
        "            #no como es usado.\n",
        "            tripla = (f\"obj: {token.text} - dep : {token.dep_} - root: {doc[i+1].head.lemma_}\")\n",
        "            if not tripla in triplas[word].keys():\n",
        "                triplas[word][tripla] = 0\n",
        "            triplas[word][tripla] += 1\n",
        "\n",
        "        if i >= 0 and doc[i-1].is_digit:\n",
        "            if not 'counts' in countable[word].keys():\n",
        "                countable[word]['counts'] = 0\n",
        "            countable[word]['counts'] += 1\n",
        "\n",
        "        #contexto inmediato, con una ventana 1 de distancia, sin stopwords\n",
        "        close_lft, close_rgt = i-close_window, i+close_window\n",
        "        if not (close_lft <= 0 and close_rgt >= len(doc)):\n",
        "\n",
        "            imm_related_words = immediate_related_words(doc[close_lft:close_rgt]) if not token.is_sent_start else immediate_related_words(doc[i:close_rgt])\n",
        "\n",
        "            #imm_related_words = immediate_related_words(doc[close_lft:close_rgt])\n",
        "            for w in imm_related_words:\n",
        "                if w == word: continue\n",
        "                if not w in close_context[word].keys():\n",
        "                    close_context[word][w] = 0\n",
        "                close_context[word][w] += 1\n",
        "\n",
        "        #contexto mas grande, solo de las palabras que me interesan y sin stopwords\n",
        "        large_lft, large_rgt = i-large_window, i+large_window\n",
        "        if not (large_lft <= 0 and large_rgt >= len(doc)):\n",
        "\n",
        "            keywords_in_context = keywords_in(doc[large_lft: large_rgt]) if not token.is_sent_start else keywords_in(doc[i: large_rgt])\n",
        "            \n",
        "            for w in keywords_in_context:\n",
        "                if w == word: continue\n",
        "                if not w in large_context[word].keys():\n",
        "                    large_context[word][w] = 0\n",
        "                large_context[word][w] += 1\n"
      ],
      "execution_count": 283,
      "outputs": []
    },
    {
      "cell_type": "markdown",
      "metadata": {
        "id": "awH4xnYSgsEQ"
      },
      "source": [
        "Cargamos todas las caracteristicas que recogimos y las agrupamos en un nuevo diccionario cuyas claves tambien son las palabras lematizadas que analizamos."
      ]
    },
    {
      "cell_type": "code",
      "metadata": {
        "id": "8tEBEM5QC0Ku"
      },
      "source": [
        "def group_feats():\n",
        "    feats = {}\n",
        "    for token in doc:\n",
        "        if word_filter(token): continue\n",
        "        word = token.lemma_\n",
        "        feats[word] = {**tag[word], **pos[word], **triplas[word], **large_context[word], **close_context[word], **countable[word]}\n",
        "    return feats"
      ],
      "execution_count": 284,
      "outputs": []
    },
    {
      "cell_type": "markdown",
      "metadata": {
        "id": "E1ofl1-e16sY"
      },
      "source": [
        "---\n",
        "## Vectorización\n",
        "\n",
        "Luego del pre-procesamiento, tenemos un diccionario de la forma {\"palabra\":\"caracteristicas\"}. A este le removemos las claves e ingresamos las caracteristicas (que son un diccionario) a un arreglo, el cual [DictVectorizer](https://scikit-learn.org/stable/modules/generated/sklearn.feature_extraction.DictVectorizer.html) lo transformara en una matriz, con filas que representan las palabras y en cada columna un valor para cada caracteristica."
      ]
    },
    {
      "cell_type": "code",
      "metadata": {
        "id": "1gUCri_sDIXO"
      },
      "source": [
        "from sklearn.feature_extraction import DictVectorizer\n",
        "def vectorize(feats):\n",
        "    vectorizer = DictVectorizer(sparse=False)\n",
        "    features, key_words, wid = [], {}, 0\n",
        "    for word in feats:\n",
        "        key_words[word] = wid\n",
        "        wid += 1\n",
        "        features.append(feats[word])\n",
        "    matrix = vectorizer.fit_transform(X=features)\n",
        "    return matrix, key_words, wid"
      ],
      "execution_count": 285,
      "outputs": []
    },
    {
      "cell_type": "markdown",
      "metadata": {
        "id": "GAbH4E-j5EnH"
      },
      "source": [
        "Ahora debemos normalizar la matriz (es decir, que los vectores tengan valores en el intervalo [0,1] y con norma 1).\n",
        "\n",
        "Usamos [VarianceThreshold](https://scikit-learn.org/stable/modules/generated/sklearn.feature_selection.VarianceThreshold.html), otra herramienta de sklearn para poder reducir la dimensionalidad de la matrix y descartar aquellos valores que tengan poca varianza, es decir caracteristicas que no varien mucho entre las palabras.\n",
        "\n",
        "El valor VARIANCE_THRESHOLD es definido por el usuario"
      ]
    },
    {
      "cell_type": "code",
      "metadata": {
        "id": "4UtgZO49DWhI"
      },
      "source": [
        "from sklearn.preprocessing import normalize\n",
        "from sklearn.feature_selection import VarianceThreshold\n",
        "\n",
        "VARIANCE_THRESHOLD = 1e-8\n",
        "def transform(matrix):\n",
        "    selector = VarianceThreshold(threshold=VARIANCE_THRESHOLD)\n",
        "    normed_matrix = normalize(matrix, axis=1, norm='l1')\n",
        "    reduced_matrix = selector.fit_transform(normed_matrix)\n",
        "    print(f\"Tamaño original: {normed_matrix.shape}. Tamaño reducido: {reduced_matrix.shape}\")\n",
        "    return normed_matrix, reduced_matrix"
      ],
      "execution_count": 286,
      "outputs": []
    },
    {
      "cell_type": "markdown",
      "metadata": {
        "id": "lMfqIgfKcXae"
      },
      "source": [
        "---\n",
        "## Clustering\n",
        "\n",
        "Una vez que ya tenemos nuestra matriz de caracteristicas como vectores normalizada y reducida, la usamos para alimentar la funcion que nos arma los clusters. \n",
        "\n",
        "Usamos las implementaciones de [nltk](https://tedboy.github.io/nlps/generated/generated/nltk.cluster.KMeansClusterer.html) y sklearn: [KMeans](https://scikit-learn.org/stable/modules/generated/sklearn.cluster.KMeans.html).\n",
        "\n",
        "En la version de ntlk, usamos la distancia coseno, y en la version de sklearn usamos distancia euclidea, como los valores de la matriz se encuentran normalizados, son muy similares ambos metodos.\n"
      ]
    },
    {
      "cell_type": "code",
      "metadata": {
        "id": "jOW6LOYAosGp"
      },
      "source": [
        "from nltk.cluster import kmeans, cosine_distance\n",
        "\n",
        "def ntlk_clustering(k, matrix):\n",
        "    clusterer = kmeans.KMeansClusterer(num_means=k, distance=cosine_distance, avoid_empty_clusters=True)\n",
        "    clusters = clusterer.cluster(matrix, assign_clusters=True)\n",
        "    return clusters\n",
        "\n",
        "from sklearn.cluster import KMeans\n",
        "\n",
        "def sklearn_clustering(k, matrix):\n",
        "    clusterer = KMeans(n_clusters=k)\n",
        "    clusterer.fit(X=matrix)\n",
        "    return clusterer.labels_"
      ],
      "execution_count": 287,
      "outputs": []
    },
    {
      "cell_type": "code",
      "metadata": {
        "id": "DKmZIRLDE2N7"
      },
      "source": [
        "def show_clusters(k, cluster_name=ntlk_cluster):\n",
        "    for i in range(k):\n",
        "        c = [token for token in key_words if cluster_name[key_words[token]]==i]\n",
        "        print(f\"Cluster {i}:\\n {c}\")"
      ],
      "execution_count": 288,
      "outputs": []
    },
    {
      "cell_type": "code",
      "metadata": {
        "id": "7KiWlhFmNhso"
      },
      "source": [
        "def cluster_of(word, cluster_name=ntlk_cluster):\n",
        "    c = [token for token in key_words if cluster_name[key_words[token]]==cluster_name[key_words[word]]]\n",
        "    return c"
      ],
      "execution_count": 289,
      "outputs": []
    },
    {
      "cell_type": "markdown",
      "metadata": {
        "id": "5QApuD8d8q9O"
      },
      "source": [
        "---\n",
        "## Dimensionalidad y Embeddings\n",
        "\n",
        "Para aplicar Embeddings uso las implementaciones de LSA y de t-sne que posee sklearn [TruncatedSVD](https://scikit-learn.org/stable/modules/generated/sklearn.decomposition.TruncatedSVD.html) y [TSNE](https://scikit-learn.org/stable/modules/generated/sklearn.manifold.TSNE.html)\n",
        "\n",
        "Con la primera, hago reducción a 100 dimensiones y con t-sne reduzco a dos dimensiones, para poder visualizar los clusters.\n"
      ]
    },
    {
      "cell_type": "code",
      "metadata": {
        "id": "ItkYI5kvfjUu"
      },
      "source": [
        "from sklearn.decomposition import TruncatedSVD\n",
        "from sklearn.manifold import TSNE\n",
        "\n",
        "def tsne_reduction(matrix):\n",
        "    tsne = TSNE(n_components=2, random_state=0)\n",
        "    tsne_data = tsne.fit_transform(reduced_matrix)\n",
        "    return tsne_data\n",
        "\n",
        "def lsa_reduction(matrix):\n",
        "    svd = TruncatedSVD(n_components=100, n_iter=5)\n",
        "    lsa_data = svd.fit_transform(X=normed_matrix)\n",
        "    return lsa_data"
      ],
      "execution_count": 290,
      "outputs": []
    },
    {
      "cell_type": "markdown",
      "metadata": {
        "id": "ZSr-JEMFeGWS"
      },
      "source": [
        "---\n",
        "# Uso"
      ]
    },
    {
      "cell_type": "code",
      "metadata": {
        "colab": {
          "base_uri": "https://localhost:8080/"
        },
        "id": "czXmd3gvDzH_",
        "outputId": "99799354-aeb1-4b8f-fdb0-b783a5b2798e"
      },
      "source": [
        "triplas = {}\n",
        "tag = {}\n",
        "pos = {}\n",
        "close_context = {}\n",
        "large_context = {}\n",
        "countable = {}\n",
        "\n",
        "init_feats()\n",
        "load_feats(1,7)\n",
        "feats = group_feats()\n",
        "\n",
        "matrix, key_words, wid = vectorize(feats)\n",
        "normed_matrix, reduced_matrix = transform(matrix)\n",
        "\n",
        "NUM_CLUSTERS = 30\n",
        "ntlk_cluster =  ntlk_clustering(NUM_CLUSTERS, reduced_matrix)\n",
        "sk_cluster = sklearn_clustering(NUM_CLUSTERS, reduced_matrix)"
      ],
      "execution_count": 291,
      "outputs": [
        {
          "output_type": "stream",
          "name": "stdout",
          "text": [
            "Tamaño original: (218, 32503). Tamaño reducido: (218, 11500)\n"
          ]
        }
      ]
    },
    {
      "cell_type": "code",
      "metadata": {
        "colab": {
          "base_uri": "https://localhost:8080/"
        },
        "id": "cJ0DPSYmf1ar",
        "outputId": "97926e7b-3fe5-4e6a-97b8-afba17f0f23c"
      },
      "source": [
        "tsne_data = tsne_reduction(normed_matrix)\n",
        "lsa_data = lsa_reduction(normed_matrix)\n",
        "\n",
        "print(lsa_data.shape, normed_matrix.shape)"
      ],
      "execution_count": 292,
      "outputs": [
        {
          "output_type": "stream",
          "name": "stdout",
          "text": [
            "(218, 100) (218, 32503)\n"
          ]
        }
      ]
    },
    {
      "cell_type": "code",
      "metadata": {
        "id": "9O3i4qKaqvkU"
      },
      "source": [
        "data = [(tsne_data[i], sk_cluster[i], list(key_words.keys())[i]) for i in range(wid)]\n",
        "df_clustered = pd.DataFrame(\n",
        "    data=[(coords[0], coords[1], cluster, word) for coords, cluster, word in data],\n",
        "    columns=[\"dim1\", \"dim2\", \"cluster\", \"word\"]\n",
        ")"
      ],
      "execution_count": 293,
      "outputs": []
    },
    {
      "cell_type": "code",
      "metadata": {
        "colab": {
          "base_uri": "https://localhost:8080/",
          "height": 483
        },
        "id": "KyANJ3zkrpAu",
        "outputId": "47c5aebd-6173-4826-faf4-99e38840f5fb"
      },
      "source": [
        "plt.figure(figsize=(20, 8))\n",
        "plt.scatter(x=df_clustered['dim1'],y=df_clustered['dim2'], s=10, c=df_clustered['cluster'], cmap='cividis', alpha=1)\n",
        "#para mostrar el texto de cada punto, descomentar las dos lineas siguientes.\n",
        "\n",
        "#for i in range(wid):\n",
        "#    plt.annotate(df_clustered['word'][i], (df_clustered['dim1'][i], df_clustered['dim2'][i]))\n",
        "\n",
        "plt.show()"
      ],
      "execution_count": 294,
      "outputs": [
        {
          "output_type": "display_data",
          "data": {
            "image/png": "[encoded data removed]",
            "text/plain": [
              "<Figure size 1440x576 with 1 Axes>"
            ]
          },
          "metadata": {
            "needs_background": "light"
          }
        }
      ]
    },
    {
      "cell_type": "markdown",
      "metadata": {
        "id": "eJkX7zuUmVyA"
      },
      "source": [
        "---\n",
        "#Resultados"
      ]
    },
    {
      "cell_type": "code",
      "metadata": {
        "id": "C2HOPbPU72rG"
      },
      "source": [
        "def get_clusters(close_w, large_w, k, clustering=ntlk_clustering):\n",
        "    \"\"\"\n",
        "    Funcion que usamos para poder testear los resultados, toma como parametros a\n",
        "    los parametros de las funciones internas, es decir, los tamaños de ventana \n",
        "    para los contextos, la cantidad de clusters y el algoritmo de clustering.\n",
        "    \"\"\"\n",
        "    triplas = {}\n",
        "    tag = {}\n",
        "    pos = {}\n",
        "    close_context = {}\n",
        "    large_context = {}\n",
        "    countable = {}\n",
        "\n",
        "    init_feats()\n",
        "    load_feats(close_w,large_w)\n",
        "    feats = group_feats()\n",
        "\n",
        "    matrix, key_words, wid = vectorize(feats)\n",
        "    normed_matrix, reduced_matrix = transform(matrix)\n",
        "    \n",
        "    return clustering(k, reduced_matrix)"
      ],
      "execution_count": 295,
      "outputs": []
    },
    {
      "cell_type": "code",
      "metadata": {
        "colab": {
          "base_uri": "https://localhost:8080/"
        },
        "id": "6vqOqWEGodh-",
        "outputId": "f529f616-329a-4889-8e88-dbc31995a6b5"
      },
      "source": [
        "clusters_1_7 = get_clusters(1,7, 40)\n",
        "clusters_2_7 = get_clusters(2,7, 40)\n",
        "clusters_3_15 = get_clusters(3,15, 40)"
      ],
      "execution_count": 296,
      "outputs": [
        {
          "output_type": "stream",
          "name": "stdout",
          "text": [
            "Tamaño original: (218, 32503). Tamaño reducido: (218, 11500)\n",
            "Tamaño original: (218, 34689). Tamaño reducido: (218, 12908)\n",
            "Tamaño original: (218, 35201). Tamaño reducido: (218, 12662)\n"
          ]
        }
      ]
    },
    {
      "cell_type": "code",
      "metadata": {
        "id": "mczJEr2H-aSN"
      },
      "source": [
        "test_words = ['el', 'él', 'policía', 'peso', 'escuela', 'mil', 'intendente', 'que', 'mujer', 'ley', 'lograr', 'año']\n",
        "results = {}\n",
        "for tw in test_words:\n",
        "    results[tw] = cluster_of(tw,clusters_1_7)"
      ],
      "execution_count": 298,
      "outputs": []
    },
    {
      "cell_type": "code",
      "metadata": {
        "colab": {
          "base_uri": "https://localhost:8080/"
        },
        "id": "TzNlASCv-7df",
        "outputId": "e4096733-7e69-4a15-aa0b-0e31098eb5a8"
      },
      "source": [
        "#empleos\n",
        "results[\"intendente\"]"
      ],
      "execution_count": 299,
      "outputs": [
        {
          "output_type": "execute_result",
          "data": {
            "text/plain": [
              "['estudiante', 'dirigente', 'intendente', 'policía']"
            ]
          },
          "metadata": {},
          "execution_count": 299
        }
      ]
    },
    {
      "cell_type": "code",
      "metadata": {
        "colab": {
          "base_uri": "https://localhost:8080/"
        },
        "id": "q2b9C5kb_E_Z",
        "outputId": "8580695e-4b68-4a00-e544-74403e1881ad"
      },
      "source": [
        "#numeros\n",
        "results['mil']"
      ],
      "execution_count": 300,
      "outputs": [
        {
          "output_type": "execute_result",
          "data": {
            "text/plain": [
              "['cuatro', 'do', 'tres', 'cincar', 'mil', 'ciento']"
            ]
          },
          "metadata": {},
          "execution_count": 300
        }
      ]
    },
    {
      "cell_type": "code",
      "metadata": {
        "colab": {
          "base_uri": "https://localhost:8080/"
        },
        "id": "5h3maP5j_IRG",
        "outputId": "18c82735-4fd1-4c25-b89b-e66d716a991b"
      },
      "source": [
        "#verbos\n",
        "results['lograr']"
      ],
      "execution_count": 301,
      "outputs": [
        {
          "output_type": "execute_result",
          "data": {
            "text/plain": [
              "['conocer',\n",
              " 'llevar',\n",
              " 'lograr',\n",
              " 'hablar',\n",
              " 'ver',\n",
              " 'elegir',\n",
              " 'poner',\n",
              " 'mantener',\n",
              " 'decidir',\n",
              " 'pedir',\n",
              " 'llegar',\n",
              " 'llamar',\n",
              " 'dar',\n",
              " 'pasar',\n",
              " 'participar',\n",
              " 'mostrar',\n",
              " 'cumplir',\n",
              " 'encontrar',\n",
              " 'recibir',\n",
              " 'realizar',\n",
              " 'permitir',\n",
              " 'presentar']"
            ]
          },
          "metadata": {},
          "execution_count": 301
        }
      ]
    },
    {
      "cell_type": "code",
      "metadata": {
        "colab": {
          "base_uri": "https://localhost:8080/"
        },
        "id": "Vc_p3GQt_S_R",
        "outputId": "76b102f4-c6ac-40a3-b3ae-9c038d898990"
      },
      "source": [
        "#stopwords1\n",
        "results['el']"
      ],
      "execution_count": 302,
      "outputs": [
        {
          "output_type": "execute_result",
          "data": {
            "text/plain": [
              "['lo', 'el', 'uno', 'cada', 'su', 'nuestro', 'mi']"
            ]
          },
          "metadata": {},
          "execution_count": 302
        }
      ]
    },
    {
      "cell_type": "code",
      "metadata": {
        "colab": {
          "base_uri": "https://localhost:8080/"
        },
        "id": "3xKjXFJF_gHh",
        "outputId": "97dd3d58-aa5f-42a8-efef-d9c6f7ce4c36"
      },
      "source": [
        "#stopwords2\n",
        "results['él']"
      ],
      "execution_count": 303,
      "outputs": [
        {
          "output_type": "execute_result",
          "data": {
            "text/plain": [
              "['se',\n",
              " 'unir',\n",
              " 'les',\n",
              " 'me',\n",
              " 'nadar',\n",
              " 'qué',\n",
              " 'le',\n",
              " 'ellos',\n",
              " 'donde',\n",
              " 'quien',\n",
              " 'él',\n",
              " 'cual']"
            ]
          },
          "metadata": {},
          "execution_count": 303
        }
      ]
    }
  ]
}
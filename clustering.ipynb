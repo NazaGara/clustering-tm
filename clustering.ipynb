{
  "nbformat": 4,
  "nbformat_minor": 0,
  "metadata": {
    "colab": {
      "name": "clustering.ipynb",
      "provenance": [],
      "collapsed_sections": []
    },
    "kernelspec": {
      "display_name": "Python 3",
      "name": "python3"
    },
    "language_info": {
      "name": "python"
    }
  },
  "cells": [
    {
      "cell_type": "markdown",
      "metadata": {
        "id": "n5EtK5uP0Rnn"
      },
      "source": [
        "# Práctico 1: Clustering - Text Mining 2021\n",
        "\n",
        "Notebook sobre el práctico 1 de la materia Mineria de Texto para Datos, materia correspondiente de la carrera Lic. En Ciencias de la Computación de FaMAF, UNC.\n",
        "\n",
        "Estudiante: Garagiola Nazareno\n"
      ]
    },
    {
      "cell_type": "markdown",
      "metadata": {
        "id": "u4344Z2xzYK2"
      },
      "source": [
        "Clustering es el proceso de agrupar un conjunto de elementos (en este caso de palabras) que tengan similitudes.\n",
        "Hipotesis de Clustering: Palabras en el mismo cluster, tienen un comportamiento similar con respecto a la informacion que contienen."
      ]
    },
    {
      "cell_type": "markdown",
      "metadata": {
        "id": "Lc9-ZeNAcEkS"
      },
      "source": [
        "---\n",
        "## Requerimientos\n",
        "\n",
        "Instalamos las librerias necesarias para el procesamiento."
      ]
    },
    {
      "cell_type": "code",
      "metadata": {
        "id": "37xIIBDoGMyZ"
      },
      "source": [
        "!python3 -m spacy download es_core_news_md > trash.txt\n",
        "!pip install es-lemmatizer > trash.txt"
      ],
      "execution_count": 205,
      "outputs": []
    },
    {
      "cell_type": "code",
      "metadata": {
        "id": "ismoC-9AWgIi"
      },
      "source": [
        "import spacy\n",
        "import pandas as pd\n",
        "import numpy as np\n",
        "import matplotlib.pyplot as plt\n",
        "from collections import Counter\n",
        "%matplotlib inline"
      ],
      "execution_count": 1,
      "outputs": []
    },
    {
      "cell_type": "markdown",
      "metadata": {
        "id": "rCTdZzDfVJAK"
      },
      "source": [
        "---\n",
        "## Carga del Corpus\n",
        "\n",
        "Leemos el corpus a estudiar, hacemos algunos reemplazos para correjir un poco el texto.\n",
        "\n",
        "Tomamos los primeros 0.5 M - 2 caracteres (ese numero ya que coincide con el fin de un parrafo)."
      ]
    },
    {
      "cell_type": "code",
      "metadata": {
        "id": "FwJKt-0Ly0d3"
      },
      "source": [
        "f = open(\"lavoztextodump.txt\", 'r')\n",
        "text = f.read()[:500000-2] \n",
        "text = text.replace('\"', '')\n",
        "text = text.replace('-\\n', '\\n')\n",
        "text = text.replace('&#','')\n",
        "#text = text.replace('á','a')\n",
        "#text = text.replace('é','e')\n",
        "#text = text.replace('í','i')\n",
        "#text = text.replace('ó','o')\n",
        "#text = text.replace('ú','u')\n"
      ],
      "execution_count": 2,
      "outputs": []
    },
    {
      "cell_type": "markdown",
      "metadata": {
        "id": "1cQZyxIesMz5"
      },
      "source": [
        "Cargamos el texto usando [Spacy](https://spacy.io/), tomamos los lemmas del texto y las palabras que aparezcan. Luego, hago un conteo de la cantidad de lemmas que aparecieron en el documento."
      ]
    },
    {
      "cell_type": "code",
      "metadata": {
        "id": "BdiIU23Q4S6q"
      },
      "source": [
        "nlp = spacy.load(\"es_core_news_md\", vectores=False, entity=False)\n",
        "\n",
        "from es_lemmatizer import lemmatize\n",
        "nlp.add_pipe(lemmatize, after=\"tagger\")\n",
        "\n",
        "lemmas = []\n",
        "words = []\n",
        "doc = nlp(text)\n",
        "for token in doc:\n",
        "    if len(token) > 1 and token.is_alpha: # and not token.is_ascii and not token.is_digit:\n",
        "        lemmas.append(token.lemma_.lower())\n",
        "        words.append(token.text)\n",
        "\n",
        "counter_lemma = Counter(lemmas)"
      ],
      "execution_count": 3,
      "outputs": []
    },
    {
      "cell_type": "markdown",
      "metadata": {
        "id": "npszwgIS6_aH"
      },
      "source": [
        "Si están trabajando en Colab, es normal que al hacer el load de Spacy aparezca un error.\n",
        "\n",
        "**`ModuleNotFoundError: No module named 'es_core_news_md'`**.\n",
        "\n",
        "Reinicien el Kernel/Runtime (usen el menú de arriba Runtime->restart runtime) y salteen la celda de instalación (la primera que dice lo de abajo).\n",
        "\n",
        "    !python3 -m spacy download es_core_news_md > trash.txt\n"
      ]
    },
    {
      "cell_type": "markdown",
      "metadata": {
        "id": "O_rfXxI0cB2j"
      },
      "source": [
        "---\n",
        "## Preprocesamiento\n",
        "\n",
        "Definimos algunas funciones que nos van a servir para poder filtrar palabras y poder seleccionar que palabras del documento vamos a analizar. Luego cargamos diccionarios con las caracteristicas de cada palabra que serviran para poder vectorizar estos lemmas.\n",
        "En la variable MIN_FREQ especificamos la cantidad minima de veces que queremos que aparezca cada lemma a estudiar. "
      ]
    },
    {
      "cell_type": "code",
      "metadata": {
        "id": "uPwvmQucCWm9"
      },
      "source": [
        "MIN_FREQ = 30\n",
        "\n",
        "def word_filter(token):\n",
        "    \"\"\"\n",
        "    Pequeña funcion que usaremos para filtrar las palabras\n",
        "    \"\"\"\n",
        "    return (not token.is_alpha) or (token.is_digit) or counter_lemma[token.lemma_] < MIN_FREQ \n",
        "\n",
        "with open(\"stopwords.txt\",'r') as s:\n",
        "    stopwords = s.read().split('\\n')\n",
        "\n",
        "def not_a_stopword(token):\n",
        "    \"\"\"\n",
        "    Funcion que toma un token de Spacy y revisa que su lemma sea o on una \n",
        "    stopword en español\n",
        "    \"\"\"\n",
        "    return (token.is_alpha and (not token.lemma_.lower() in stopwords))\n",
        "\n",
        "\n",
        "def immediate_related_words(span):\n",
        "    \"\"\"\n",
        "    Funcion que a partir de un Span (parte continua del doc) retorna una lista\n",
        "    con los lemmas de las palabras que no sean stopwords\n",
        "    \"\"\"\n",
        "    tokens = list(filter(not_a_stopword, span))\n",
        "    return list(map(lambda token: token.lemma_, tokens))\n",
        "\n",
        "def keywords_in(span):\n",
        "    \"\"\"\n",
        "    Funcion que a partir de un Span, retorna una lista con los lemmas de las \n",
        "    palabras del span que no sean stopwords ni tampoco no sean relevantes.\n",
        "    (la funcion )\n",
        "    \"\"\"\n",
        "    tokens = list(filter(\n",
        "        lambda token: not word_filter(token) and not_a_stopword(token), span))\n",
        "    return list(map(lambda token: token.lemma_, tokens))\n"
      ],
      "execution_count": 23,
      "outputs": []
    },
    {
      "cell_type": "markdown",
      "metadata": {
        "id": "ipijpXQKn87t"
      },
      "source": [
        "Creo diccionarios para cada una de las caracteristicas y los inicializo para cada lemma que pasan el filtro.\n",
        "\n",
        "* Part of Speech\n",
        "* Dependencias\n",
        "* Contexto cercano sin stopwords\n",
        "* Contexto mayor, con palabras claves\n",
        "* Triplas de dependencias"
      ]
    },
    {
      "cell_type": "markdown",
      "metadata": {
        "id": "IktfiyW2C2mm"
      },
      "source": [
        "---\n",
        "---"
      ]
    },
    {
      "cell_type": "code",
      "metadata": {
        "id": "_P7aAeXICfCx"
      },
      "source": [
        "def init_feats():\n",
        "    for token in doc:\n",
        "        if word_filter(token): continue\n",
        "        word = token.lemma_.lower()\n",
        "        triplas[word] = {}\n",
        "        tag[word] = {}\n",
        "        pos[word] = {}\n",
        "        close_context[word] = {}\n",
        "        large_context[word] = {}\n",
        "        countable[word] = {}"
      ],
      "execution_count": 5,
      "outputs": []
    },
    {
      "cell_type": "code",
      "metadata": {
        "id": "d-RQI9mECozV"
      },
      "source": [
        "def load_feats(close_window = 2, large_window = 15):\n",
        "    for token in doc:\n",
        "        if word_filter(token): continue\n",
        "\n",
        "        i = token.i\n",
        "        word = token.lemma_.lower()\n",
        "        # Cargo part of speech de cada palabra lematizada\n",
        "        if not token.pos_ in pos[word].keys():\n",
        "            pos[word][token.pos_] = 0\n",
        "        pos[word][token.pos_] += 1\n",
        "\n",
        "        # Cargo tag de cada palabra lematizada\n",
        "        if not token.tag_ in tag[word].keys():\n",
        "            tag[word][token.tag_] = 0\n",
        "        tag[word][token.tag_] += 1\n",
        "\n",
        "        #Triplas de dependencias. Notar que busco el root de la frase en la que la \n",
        "        #palabra siguiente este, y esta puede no necesariamente estar en mis palabras\n",
        "        #claves que superan el filtro.\n",
        "        if not i == len(doc) - 1:\n",
        "            #NOTAR: se usa token.text y no el lemma_, porque me interesa como aparece la instancia del lemma,\n",
        "            #no como es usado.\n",
        "            tripla = (f\"obj: {token.text} - dep : {token.dep_} - root: {doc[i+1].head.lemma_}\")\n",
        "            if not tripla in triplas[word].keys():\n",
        "                triplas[word][tripla] = 0\n",
        "            triplas[word][tripla] += 1\n",
        "\n",
        "        if i >= 0 and doc[i-1].is_digit:\n",
        "            if not 'counts' in countable[word].keys():\n",
        "                countable[word]['counts'] = 0\n",
        "            countable[word]['counts'] += 1\n",
        "\n",
        "        #contexto inmediato, con una ventana 1 de distancia, sin stopwords\n",
        "        close_lft = i-close_window\n",
        "        close_rgt = i+close_window\n",
        "        if not (close_lft <= 0 and close_rgt >= len(doc)):\n",
        "            imm_related_words = immediate_related_words(doc[close_lft:close_rgt])\n",
        "            for w in imm_related_words:\n",
        "                if w == word: continue\n",
        "                if not w in close_context[word].keys():\n",
        "                    close_context[word][w] = 0\n",
        "                close_context[word][w] += 1\n",
        "\n",
        "        #contexto mas grande, solo de las palabras que me interesan sin stopwords\n",
        "        #y que van a estar en un cluster luego.\n",
        "        large_lft, large_rgt = i-large_window, i+large_window\n",
        "        if not (large_lft <= 0 and large_rgt >= len(doc)):\n",
        "            keywords_in_context = keywords_in(doc[large_lft: large_rgt])\n",
        "            for w in keywords_in_context:\n",
        "                if w == word: continue\n",
        "                if not w in large_context[word].keys():\n",
        "                    large_context[word][w] = 0\n",
        "                large_context[word][w] += 1\n"
      ],
      "execution_count": 13,
      "outputs": []
    },
    {
      "cell_type": "code",
      "metadata": {
        "id": "8tEBEM5QC0Ku"
      },
      "source": [
        "def group_feats():\n",
        "    feats = {}\n",
        "    for token in doc:\n",
        "        if word_filter(token): continue\n",
        "        word = token.lemma_\n",
        "        feats[word] = {**tag[word], **pos[word], **triplas[word], **large_context[word], **close_context[word], **countable[word]}\n",
        "    return feats"
      ],
      "execution_count": 7,
      "outputs": []
    },
    {
      "cell_type": "code",
      "metadata": {
        "id": "1gUCri_sDIXO"
      },
      "source": [
        "from sklearn.feature_extraction import DictVectorizer\n",
        "def vectorize(feats):\n",
        "    vectorizer = DictVectorizer(sparse=False)\n",
        "    features, key_words, wid = [], {}, 0\n",
        "    for word in feats:\n",
        "        key_words[word] = wid\n",
        "        wid += 1\n",
        "        features.append(feats[word])\n",
        "    matrix = vectorizer.fit_transform(X=features)\n",
        "    return matrix, key_words, wid"
      ],
      "execution_count": 8,
      "outputs": []
    },
    {
      "cell_type": "code",
      "metadata": {
        "id": "4UtgZO49DWhI"
      },
      "source": [
        "from sklearn.preprocessing import normalize\n",
        "from sklearn.feature_selection import VarianceThreshold\n",
        "\n",
        "VARIANCE_THRESHOLD = 1e-8\n",
        "def transform(matrix):\n",
        "    selector = VarianceThreshold(threshold=VARIANCE_THRESHOLD)\n",
        "    normed_matrix = normalize(matrix, axis=1, norm='l1')\n",
        "    reduced_matrix = selector.fit_transform(normed_matrix)\n",
        "    print(matrix.shape, normed_matrix.shape, reduced_matrix.shape)\n",
        "    return normed_matrix, reduced_matrix"
      ],
      "execution_count": 9,
      "outputs": []
    },
    {
      "cell_type": "code",
      "metadata": {
        "id": "jOW6LOYAosGp"
      },
      "source": [
        "from nltk.cluster import kmeans, cosine_distance\n",
        "\n",
        "def ntlk_clustering(k, matrix):\n",
        "    \"\"\"\n",
        "    k -> Cantidad de clusterers\n",
        "    \"\"\"\n",
        "    clusterer = kmeans.KMeansClusterer(num_means=k, distance=cosine_distance, avoid_empty_clusters=True)\n",
        "    clusters = clusterer.cluster(matrix, assign_clusters=True)\n",
        "    return clusters\n",
        "\n",
        "from sklearn.cluster import KMeans\n",
        "\n",
        "def sklearn_clustering(k, matrix):\n",
        "    clusterer = KMeans(n_clusters=k)\n",
        "    clusterer.fit(X=matrix)\n",
        "    return clusterer.labels_"
      ],
      "execution_count": 10,
      "outputs": []
    },
    {
      "cell_type": "code",
      "metadata": {
        "colab": {
          "base_uri": "https://localhost:8080/"
        },
        "id": "czXmd3gvDzH_",
        "outputId": "1051d1c1-9ea9-46d3-9ecc-63d03894c074"
      },
      "source": [
        "triplas = {}\n",
        "tag = {}\n",
        "pos = {}\n",
        "close_context = {}\n",
        "large_context = {}\n",
        "countable = {}\n",
        "\n",
        "init_feats()\n",
        "load_feats(2,20)\n",
        "feats = group_feats()\n",
        "\n",
        "matrix, key_words, wid = vectorize(feats)\n",
        "normed_matrix, reduced_matrix = transform(matrix)\n",
        "\n",
        "NUM_CLUSTERS = 50\n",
        "ntlk_cluster =  ntlk_clustering(NUM_CLUSTERS, reduced_matrix)\n",
        "sk_cluster = sklearn_clustering(NUM_CLUSTERS, reduced_matrix)"
      ],
      "execution_count": 24,
      "outputs": [
        {
          "output_type": "stream",
          "name": "stdout",
          "text": [
            "(289, 39335) (289, 39335) (289, 11933)\n"
          ]
        }
      ]
    },
    {
      "cell_type": "code",
      "metadata": {
        "id": "pcFzq3ajPOQ8"
      },
      "source": [
        ""
      ],
      "execution_count": 19,
      "outputs": []
    },
    {
      "cell_type": "code",
      "metadata": {
        "id": "DKmZIRLDE2N7"
      },
      "source": [
        "def show_clusters(cluster_name=ntlk_cluster):\n",
        "    for i in range(NUM_CLUSTERS):\n",
        "        c = [token for token in key_words if cluster_name[key_words[token]]==i]\n",
        "        print(f\"Cluster {i}:\\n {c}\")        "
      ],
      "execution_count": 25,
      "outputs": []
    },
    {
      "cell_type": "code",
      "metadata": {
        "id": "W753GYzTNyNU"
      },
      "source": [
        "show_clusters()"
      ],
      "execution_count": null,
      "outputs": []
    },
    {
      "cell_type": "code",
      "metadata": {
        "id": "7KiWlhFmNhso"
      },
      "source": [
        "def show_cluster_of(word, cluster_name=ntlk_cluster):\n",
        "    c = [token for token in key_words if cluster_name[key_words[token]]==cluster_name[key_words[word]]]\n",
        "    print(f\"Cluster: {c}\")"
      ],
      "execution_count": 31,
      "outputs": []
    },
    {
      "cell_type": "code",
      "metadata": {
        "colab": {
          "base_uri": "https://localhost:8080/"
        },
        "id": "Rww8cHznN72X",
        "outputId": "5f0a1db0-7aad-4023-ea90-457a22db9949"
      },
      "source": [
        "show_cluster_of('dia')"
      ],
      "execution_count": 42,
      "outputs": [
        {
          "output_type": "stream",
          "name": "stdout",
          "text": [
            "Cluster: ['persona', 'cosa', 'institución', 'obra', 'escuela', 'hora', 'calle', 'fuente', 'autoridad']\n"
          ]
        }
      ]
    },
    {
      "cell_type": "markdown",
      "metadata": {
        "id": "1WS2dPh1C7GF"
      },
      "source": [
        "---\n",
        "---"
      ]
    },
    {
      "cell_type": "code",
      "metadata": {
        "id": "gV68ufqbuqSn"
      },
      "source": [
        "triplas = {}\n",
        "tag = {}\n",
        "pos = {}\n",
        "close_context = {}\n",
        "large_context = {}\n",
        "countable = {}\n",
        "\n",
        "for token in doc:\n",
        "    if word_filter(token): continue\n",
        "    word = token.lemma_.lower()\n",
        "    triplas[word] = {}\n",
        "    tag[word] = {}\n",
        "    pos[word] = {}\n",
        "    close_context[word] = {}\n",
        "    large_context[word] = {}\n",
        "    countable[word] = {}"
      ],
      "execution_count": 105,
      "outputs": []
    },
    {
      "cell_type": "markdown",
      "metadata": {
        "id": "Iy3ZL0UKnX6L"
      },
      "source": [
        "Cargo cada diccionario para cada palabra que pasa el filtro, con las caracteristicas que seleccionamos.\n",
        "\n",
        "Definimos dos variables para el tamaño de ventana de los dos contextos que tomamos, el inmediato y el mayor.\n",
        "\n"
      ]
    },
    {
      "cell_type": "code",
      "metadata": {
        "id": "ApSlmnUQygZF"
      },
      "source": [
        "close_window, large_window = 2, 15\n",
        "for token in doc:\n",
        "    if word_filter(token): continue\n",
        "\n",
        "    i = token.i\n",
        "    word = token.lemma_.lower()\n",
        "    # Cargo part of speech de cada palabra lematizada\n",
        "    if not token.pos_ in pos[word].keys():\n",
        "        pos[word][token.pos_] = 0\n",
        "    pos[word][token.pos_] += 1\n",
        "\n",
        "    # Cargo tag de cada palabra lematizada\n",
        "    if not token.tag_ in tag[word].keys():\n",
        "        tag[word][token.tag_] = 0\n",
        "    tag[word][token.tag_] += 1\n",
        "\n",
        "    #Triplas de dependencias. Notar que busco el root de la frase en la que la \n",
        "    #palabra siguiente este, y esta puede no necesariamente estar en mis palabras\n",
        "    #claves que superan el filtro.\n",
        "    if not i == len(doc) - 1:\n",
        "        #NOTAR: se usa token.text y no el lemma_, porque me interesa como aparece la instancia del lemma,\n",
        "        #no como es usado.\n",
        "        tripla = (f\"obj: {token.text} - dep : {token.dep_} - root: {doc[i+1].head.lemma_}\")\n",
        "        if not tripla in triplas[word].keys():\n",
        "            triplas[word][tripla] = 0\n",
        "        triplas[word][tripla] += 1\n",
        "\n",
        "    if i >= 0 and doc[i-1].is_digit:\n",
        "        if not 'counts' in countable[word].keys():\n",
        "            countable[word]['counts'] = 0\n",
        "        countable[word]['counts'] += 1\n",
        "\n",
        "    #contexto inmediato, con una ventana 1 de distancia, sin stopwords\n",
        "    close_lft, close_rgt = i-close_window, i+close_window\n",
        "    if not (close_lft <= 0 and close_rgt >= len(doc)):\n",
        "        imm_related_words = immediate_related_words(doc[close_lft:close_rgt])\n",
        "        for w in imm_related_words:\n",
        "            if w == word: continue\n",
        "            if not w in close_context[word].keys():\n",
        "                close_context[word][w] = 0\n",
        "            close_context[word][w] += 1\n",
        "\n",
        "    #contexto mas grande, solo de las palabras que me interesan sin stopwords\n",
        "    #y que van a estar en un cluster luego.\n",
        "    large_lft, large_rgt = i-large_window, i+large_window\n",
        "    if not (large_lft <= 0 and large_rgt >= len(doc)):\n",
        "        keywords_in_context = keywords_in(doc[large_lft: large_rgt])\n",
        "        for w in keywords_in_context:\n",
        "            if w == word: continue\n",
        "            if not w in large_context[word].keys():\n",
        "                large_context[word][w] = 0\n",
        "            large_context[word][w] += 1\n"
      ],
      "execution_count": 106,
      "outputs": []
    },
    {
      "cell_type": "markdown",
      "metadata": {
        "id": "q8nRsEyY3fVy"
      },
      "source": [
        "Cargamos todas las caracteristicas que recogimos y las agrupamos en un nuevo diccionario cuyas claves tambien son las palabras lematizadas que analizamos."
      ]
    },
    {
      "cell_type": "code",
      "metadata": {
        "id": "EsMAF1PU1n0O"
      },
      "source": [
        "feats = {}\n",
        "for token in doc:\n",
        "    if word_filter(token): continue\n",
        "    word = token.lemma_\n",
        "    feats[word] = {**tag[word], **pos[word], **triplas[word], **large_context[word], **close_context[word], **countable[word]}"
      ],
      "execution_count": 107,
      "outputs": []
    },
    {
      "cell_type": "code",
      "metadata": {
        "id": "AJ25zsxt2V6b"
      },
      "source": [
        "import json\n",
        "print(f\"Sample word 'que': {json.dumps(feats['que'], indent=2)}\")"
      ],
      "execution_count": null,
      "outputs": []
    },
    {
      "cell_type": "markdown",
      "metadata": {
        "id": "E1ofl1-e16sY"
      },
      "source": [
        "---\n",
        "## Vectorización\n",
        "\n",
        "Luego del pre-procesamiento, tenemos un diccionario de la forma {\"palabra\":\"caracteristicas\"}. A este le removemos las claves e ingresamos las caracteristicas (que son un diccionario) a un arreglo, el cual [DictVectorizer](https://scikit-learn.org/stable/modules/generated/sklearn.feature_extraction.DictVectorizer.html) lo transformara en una matriz, con filas que representan las palabras y en cada columna un valor para cada caracteristica."
      ]
    },
    {
      "cell_type": "code",
      "metadata": {
        "id": "Sv3l53gHnGXB"
      },
      "source": [
        "from sklearn.feature_extraction import DictVectorizer\n",
        "\n",
        "vectorizer = DictVectorizer(sparse=False)\n",
        "features, key_words, wid = [], {}, 0\n",
        "for word in feats:\n",
        "    key_words[word] = wid\n",
        "    wid += 1\n",
        "    features.append(feats[word])\n",
        "matrix = vectorizer.fit_transform(X=features)\n"
      ],
      "execution_count": 108,
      "outputs": []
    },
    {
      "cell_type": "markdown",
      "metadata": {
        "id": "GAbH4E-j5EnH"
      },
      "source": [
        "Ahora debemos normalizar la matriz (es decir, que los vectores tengan valores en el intervalo [0,1] y con norma 1).\n",
        "\n",
        "Usamos [VarianceThreshold](https://scikit-learn.org/stable/modules/generated/sklearn.feature_selection.VarianceThreshold.html), otra herramienta de sklearn para poder reducir la dimensionalidad de la matrix y descartar aquellos valores que tengan poca varianza, es decir caracteristicas que no varien mucho entre las palabras.\n",
        "\n",
        "El valor VARIANCE_THRESHOLD es definido por el usuario"
      ]
    },
    {
      "cell_type": "code",
      "metadata": {
        "id": "AIjwlbdTuEOE",
        "colab": {
          "base_uri": "https://localhost:8080/"
        },
        "outputId": "48c7bc86-25a2-45e6-e468-51d58ec2dbae"
      },
      "source": [
        "from sklearn.preprocessing import normalize\n",
        "from sklearn.feature_selection import VarianceThreshold\n",
        "\n",
        "VARIANCE_THRESHOLD = 1e-7\n",
        "\n",
        "selector = VarianceThreshold(threshold=VARIANCE_THRESHOLD)\n",
        "\n",
        "normed_matrix = normalize(matrix, axis=1, norm='l1')\n",
        "\n",
        "reduced_matrix = selector.fit_transform(normed_matrix)\n",
        "\n",
        "print(matrix.shape, normed_matrix.shape, reduced_matrix.shape)"
      ],
      "execution_count": 109,
      "outputs": [
        {
          "output_type": "stream",
          "name": "stdout",
          "text": [
            "(186, 33681) (186, 33681) (186, 2935)\n"
          ]
        }
      ]
    },
    {
      "cell_type": "markdown",
      "metadata": {
        "id": "lMfqIgfKcXae"
      },
      "source": [
        "---\n",
        "## Clustering\n",
        "\n",
        "Una vez que ya tenemos nuestra matriz de caracteristicas como vectores normalizada y reducida, la usamos para alimentar la funcion que nos arma los clusters. \n",
        "\n",
        "Usamos las implementaciones de [nltk](https://tedboy.github.io/nlps/generated/generated/nltk.cluster.KMeansClusterer.html) y sklearn: [KMeans](https://scikit-learn.org/stable/modules/generated/sklearn.cluster.KMeans.html).\n",
        "\n",
        "En la version de ntlk, usamos la distancia coseno, y en la version de sklearn usamos distancia euclidea, como los valores de la matriz se encuentran normalizados, son muy similares ambos metodos.\n"
      ]
    },
    {
      "cell_type": "markdown",
      "metadata": {
        "id": "kIVBMOfn38Fd"
      },
      "source": [
        "Podemos elejir la cantidad de clusters que deseamos, modifciando la variable NUM_CLUSTERS"
      ]
    },
    {
      "cell_type": "code",
      "metadata": {
        "id": "qB7jvu4mouEA"
      },
      "source": [
        "NUM_CLUSTERS = 30\n",
        "ntlk_cluster =  ntlk_clustering(NUM_CLUSTERS, reduced_matrix)\n",
        "sk_cluster = sklearn_clustering(NUM_CLUSTERS, reduced_matrix)"
      ],
      "execution_count": 99,
      "outputs": []
    },
    {
      "cell_type": "markdown",
      "metadata": {
        "id": "1LEfybv54F4L"
      },
      "source": [
        "A continuacion, dos celdas para imprimir los clusters."
      ]
    },
    {
      "cell_type": "code",
      "metadata": {
        "id": "6DY9LhxMCE7I"
      },
      "source": [
        "def show_clusters(cluster_name=ntlk_cluster):\n",
        "    for i in range(NUM_CLUSTERS):\n",
        "        c = [token for token in key_words if cluster_name[key_words[token]]==i]\n",
        "        print(f\"Cluster {i}:\\n {c}\")        "
      ],
      "execution_count": 116,
      "outputs": []
    },
    {
      "cell_type": "code",
      "metadata": {
        "id": "uUmgmSe8VBLL"
      },
      "source": [
        "show_clusters(ntlk_cluster)"
      ],
      "execution_count": null,
      "outputs": []
    },
    {
      "cell_type": "code",
      "metadata": {
        "id": "X4tEzL1cKVvP"
      },
      "source": [
        "show_clusters(sk_cluster)"
      ],
      "execution_count": null,
      "outputs": []
    },
    {
      "cell_type": "code",
      "metadata": {
        "id": "tgqSL_c5iKkB",
        "colab": {
          "base_uri": "https://localhost:8080/"
        },
        "outputId": "e1da5cfd-deaa-49d1-a238-427d5c195d5c"
      },
      "source": [
        "def diff_between_clusters(c1, c2, key):\n",
        "    \"\"\"\n",
        "    Funcion que a partir de una palabra y dos conjuntos de clusters, retorna\n",
        "    los elementos que no estan en los clusters.\n",
        "    \"\"\"\n",
        "    diff = {'c1-c2': [], 'c2-c1': []}\n",
        "    X = [word for word in key_words if c1[key_words[word]]==c1[key_words[key]]]\n",
        "    Y = [word for word in key_words if c2[key_words[word]]==c2[key_words[key]]]\n",
        "\n",
        "    for elem in X:\n",
        "        if not elem in Y:\n",
        "            diff['c1-c2'].append(elem)\n",
        "\n",
        "    for elem in Y:\n",
        "        if not elem in X:\n",
        "            diff['c2-c1'].append(elem)\n",
        "    \n",
        "    return diff\n",
        "\n",
        "diff_between_clusters(sk_cluster, ntlk_cluster, 'estudiante')"
      ],
      "execution_count": null,
      "outputs": [
        {
          "output_type": "execute_result",
          "data": {
            "text/plain": [
              "{'c1-c2': [], 'c2-c1': []}"
            ]
          },
          "metadata": {},
          "execution_count": 75
        }
      ]
    },
    {
      "cell_type": "code",
      "metadata": {
        "id": "G5ghta7buTCA"
      },
      "source": [
        "#c_estudiante = [token for token in key_words if ntlk_cluster[key_words[token]]==ntlk_cluster[key_words['estudiante']]]\n",
        "c_en = [token for token in key_words if ntlk_cluster[key_words[token]]==ntlk_cluster[key_words['en']]]\n",
        "c_gobierno = [token for token in key_words if ntlk_cluster[key_words[token]]==ntlk_cluster[key_words['gobierno']]]\n",
        "c_hijo = [token for token in key_words if ntlk_cluster[key_words[token]]==ntlk_cluster[key_words['hijo']]]\n",
        "c_numeros = [token for token in key_words if ntlk_cluster[key_words[token]]==ntlk_cluster[key_words['mil']]]"
      ],
      "execution_count": 121,
      "outputs": []
    },
    {
      "cell_type": "code",
      "metadata": {
        "id": "5tqG3HOyu-aD"
      },
      "source": [
        "print(c_estudiante)"
      ],
      "execution_count": null,
      "outputs": []
    },
    {
      "cell_type": "code",
      "metadata": {
        "id": "yCLRjpSEu_ss"
      },
      "source": [
        "print(c_hijo)"
      ],
      "execution_count": null,
      "outputs": []
    },
    {
      "cell_type": "code",
      "metadata": {
        "id": "SvuimxJtvAmE"
      },
      "source": [
        "print(c_en)"
      ],
      "execution_count": null,
      "outputs": []
    },
    {
      "cell_type": "code",
      "metadata": {
        "id": "-jO5pIB0vBEm"
      },
      "source": [
        "print(c_gobierno)"
      ],
      "execution_count": null,
      "outputs": []
    },
    {
      "cell_type": "markdown",
      "metadata": {
        "id": "5QApuD8d8q9O"
      },
      "source": [
        "---\n",
        "## Dimensionalidad y Embeddings\n",
        "\n",
        "Para aplicar Embeddings uso las implementaciones de LSA y de t-sne que posee sklearn [TruncatedSVD](https://scikit-learn.org/stable/modules/generated/sklearn.decomposition.TruncatedSVD.html) y [TSNE](https://scikit-learn.org/stable/modules/generated/sklearn.manifold.TSNE.html)\n",
        "\n",
        "Con la primera, hago reducción a 100 dimensiones y con t-sne reduzco a dos dimensiones, para poder visualizar los clusters.\n"
      ]
    },
    {
      "cell_type": "code",
      "metadata": {
        "colab": {
          "base_uri": "https://localhost:8080/"
        },
        "id": "91A7Z9tn8uD0",
        "outputId": "8f6018cb-92af-4665-f271-4f50b08045d3"
      },
      "source": [
        "from sklearn.decomposition import TruncatedSVD\n",
        "from sklearn.manifold import TSNE\n",
        "\n",
        "svd = TruncatedSVD(n_components=100, n_iter=5)\n",
        "lsa_data = svd.fit_transform(X=normed_matrix)\n",
        "\n",
        "\n",
        "tsne = TSNE(n_components=2, random_state=0, n_iter=500) #ultimo param para que sea mas rapido\n",
        "tsne_data = tsne.fit_transform(reduced_matrix)\n",
        "\n",
        "tsne_data.shape, lsa_data.shape"
      ],
      "execution_count": null,
      "outputs": [
        {
          "output_type": "execute_result",
          "data": {
            "text/plain": [
              "((273, 2), (273, 100))"
            ]
          },
          "metadata": {},
          "execution_count": 16
        }
      ]
    },
    {
      "cell_type": "code",
      "metadata": {
        "id": "9O3i4qKaqvkU"
      },
      "source": [
        "data = [(tsne_data[i], sk_cluster[i], list(key_words.keys())[i]) for i in range(wid)]\n",
        "df_clustered = pd.DataFrame(\n",
        "    data=[(coords[0], coords[1], cluster, word) for coords, cluster, word in data],\n",
        "    columns=[\"dim1\", \"dim2\", \"cluster\", \"word\"]\n",
        ")"
      ],
      "execution_count": null,
      "outputs": []
    },
    {
      "cell_type": "code",
      "metadata": {
        "colab": {
          "base_uri": "https://localhost:8080/",
          "height": 483
        },
        "id": "KyANJ3zkrpAu",
        "outputId": "334350f8-a106-4b84-97fc-eedc47eaecc1"
      },
      "source": [
        "plt.figure(figsize=(20, 8))\n",
        "plt.scatter(x=df_clustered['dim1'],y=df_clustered['dim2'], s=10, c=df_clustered['cluster'], cmap='cividis', alpha=1)\n",
        "#para mostrar el texto de cada punto, descomentar las dos lineas siguientes.\n",
        "\n",
        "#for i in range(wid):\n",
        "#    plt.annotate(df_clustered['word'][i], (df_clustered['dim1'][i], df_clustered['dim2'][i]))\n",
        "\n",
        "plt.show()"
      ],
      "execution_count": null,
      "outputs": [
        {
          "output_type": "display_data",
          "data": {
            "image/png": "[encoded data removed]",
            "text/plain": [
              "<Figure size 1440x576 with 1 Axes>"
            ]
          },
          "metadata": {
            "needs_background": "light"
          }
        }
      ]
    }
  ]
}